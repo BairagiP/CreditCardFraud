{
  "nbformat": 4,
  "nbformat_minor": 0,
  "metadata": {
    "colab": {
      "provenance": []
    },
    "kernelspec": {
      "name": "python3",
      "display_name": "Python 3"
    },
    "language_info": {
      "name": "python"
    }
  },
  "cells": [
    {
      "cell_type": "markdown",
      "source": [
        "Project Task work- You have to work on credit card data and apply all the things taught in our course eg, EDA, different plots, Model Application and all the things and lastly you have to draw confusion matrix and roc curve and also calculate auc score and maximize the accuracy of your models in whatever way you want.\n",
        "You have to add proper comments so that your Code is understandable.\n",
        "\n",
        "CSV GDrive Link:https://drive.google.com/file/d/1bVVyfUgi_hdxxRPE3MhPRhjgxIzQMWVh/view?usp=sharing"
      ],
      "metadata": {
        "id": "08WPMMTfiaJx"
      }
    },
    {
      "cell_type": "markdown",
      "source": [
        "\n",
        "\n",
        "\n",
        "\n",
        "#  **Importing all the Necessary liabraries**\n",
        "\n"
      ],
      "metadata": {
        "id": "YyVe-rbFmUlY"
      }
    },
    {
      "cell_type": "code",
      "execution_count": null,
      "metadata": {
        "id": "xK4Lg9gEiW0D"
      },
      "outputs": [],
      "source": [
        "import numpy as np\n",
        "import pandas as pd\n",
        "import matplotlib.pyplot as plt\n",
        "import seaborn as sns\n",
        "from google.colab import drive"
      ]
    },
    {
      "cell_type": "markdown",
      "source": [
        "# As the Size of the dataset is large we will import it directly from the drive rather than uploading it time to time\n",
        "(PS : you will be prompted for drive access)"
      ],
      "metadata": {
        "id": "tta_LJlEmsul"
      }
    },
    {
      "cell_type": "code",
      "source": [
        "drive.mount('/content/drive')"
      ],
      "metadata": {
        "id": "UUJKZuoaiZ_e",
        "colab": {
          "base_uri": "https://localhost:8080/"
        },
        "outputId": "070a3dc4-6dde-4959-b098-69232ad50d0a"
      },
      "execution_count": null,
      "outputs": [
        {
          "output_type": "stream",
          "name": "stdout",
          "text": [
            "Drive already mounted at /content/drive; to attempt to forcibly remount, call drive.mount(\"/content/drive\", force_remount=True).\n"
          ]
        }
      ]
    },
    {
      "cell_type": "markdown",
      "source": [
        "\n",
        "\n",
        "> Reading the csv file and storing it with the help of pandas\n"
      ],
      "metadata": {
        "id": "w6WhVDXRnVRk"
      }
    },
    {
      "cell_type": "code",
      "source": [
        "credit=pd.read_csv('/content/drive/MyDrive/creditcardfraud.csv')"
      ],
      "metadata": {
        "id": "8PIAhzF7m-wk"
      },
      "execution_count": null,
      "outputs": []
    },
    {
      "cell_type": "markdown",
      "source": [
        "\n",
        "\n",
        "> Displaying the first 5 rows of the data\n",
        "\n"
      ],
      "metadata": {
        "id": "K7gjXuueoMBP"
      }
    },
    {
      "cell_type": "code",
      "source": [
        "credit.head()"
      ],
      "metadata": {
        "colab": {
          "base_uri": "https://localhost:8080/",
          "height": 481
        },
        "id": "KAyyA0a6nQGd",
        "outputId": "1f51543a-69c8-4811-9f42-aaf4ffaefbf6"
      },
      "execution_count": null,
      "outputs": [
        {
          "output_type": "execute_result",
          "data": {
            "text/plain": [
              "   Unnamed: 0 trans_date_trans_time            cc_num  \\\n",
              "0           0   2020-06-21 12:14:25  2291163933867244   \n",
              "1           1   2020-06-21 12:14:33  3573030041201292   \n",
              "2           2   2020-06-21 12:14:53  3598215285024754   \n",
              "3           3   2020-06-21 12:15:15  3591919803438423   \n",
              "4           4   2020-06-21 12:15:17  3526826139003047   \n",
              "\n",
              "                               merchant        category    amt   first  \\\n",
              "0                 fraud_Kirlin and Sons   personal_care   2.86    Jeff   \n",
              "1                  fraud_Sporer-Keebler   personal_care  29.84  Joanne   \n",
              "2  fraud_Swaniawski, Nitzsche and Welch  health_fitness  41.28  Ashley   \n",
              "3                     fraud_Haley Group        misc_pos  60.05   Brian   \n",
              "4                 fraud_Johnston-Casper          travel   3.19  Nathan   \n",
              "\n",
              "       last gender                       street  ...      lat      long  \\\n",
              "0   Elliott      M            351 Darlene Green  ...  33.9659  -80.9355   \n",
              "1  Williams      F             3638 Marsh Union  ...  40.3207 -110.4360   \n",
              "2     Lopez      F         9333 Valentine Point  ...  40.6729  -73.5365   \n",
              "3  Williams      M  32941 Krystal Mill Apt. 552  ...  28.5697  -80.8191   \n",
              "4    Massey      M     5783 Evan Roads Apt. 465  ...  44.2529  -85.0170   \n",
              "\n",
              "   city_pop                     job         dob  \\\n",
              "0    333497     Mechanical engineer  1968-03-19   \n",
              "1       302  Sales professional, IT  1990-01-17   \n",
              "2     34496       Librarian, public  1970-10-21   \n",
              "3     54767            Set designer  1987-07-25   \n",
              "4      1126      Furniture designer  1955-07-06   \n",
              "\n",
              "                          trans_num   unix_time  merch_lat  merch_long  \\\n",
              "0  2da90c7d74bd46a0caf3777415b3ebd3  1371816865  33.986391  -81.200714   \n",
              "1  324cc204407e99f51b0d6ca0055005e7  1371816873  39.450498 -109.960431   \n",
              "2  c81755dbbbea9d5c77f094348a7579be  1371816893  40.495810  -74.196111   \n",
              "3  2159175b9efe66dc301f149d3d5abf8c  1371816915  28.812398  -80.883061   \n",
              "4  57ff021bd3f328f8738bb535c302a31b  1371816917  44.959148  -85.884734   \n",
              "\n",
              "   is_fraud  \n",
              "0         0  \n",
              "1         0  \n",
              "2         0  \n",
              "3         0  \n",
              "4         0  \n",
              "\n",
              "[5 rows x 23 columns]"
            ],
            "text/html": [
              "\n",
              "  <div id=\"df-62cafe52-00f0-4f24-aa78-62b8466a19f9\" class=\"colab-df-container\">\n",
              "    <div>\n",
              "<style scoped>\n",
              "    .dataframe tbody tr th:only-of-type {\n",
              "        vertical-align: middle;\n",
              "    }\n",
              "\n",
              "    .dataframe tbody tr th {\n",
              "        vertical-align: top;\n",
              "    }\n",
              "\n",
              "    .dataframe thead th {\n",
              "        text-align: right;\n",
              "    }\n",
              "</style>\n",
              "<table border=\"1\" class=\"dataframe\">\n",
              "  <thead>\n",
              "    <tr style=\"text-align: right;\">\n",
              "      <th></th>\n",
              "      <th>Unnamed: 0</th>\n",
              "      <th>trans_date_trans_time</th>\n",
              "      <th>cc_num</th>\n",
              "      <th>merchant</th>\n",
              "      <th>category</th>\n",
              "      <th>amt</th>\n",
              "      <th>first</th>\n",
              "      <th>last</th>\n",
              "      <th>gender</th>\n",
              "      <th>street</th>\n",
              "      <th>...</th>\n",
              "      <th>lat</th>\n",
              "      <th>long</th>\n",
              "      <th>city_pop</th>\n",
              "      <th>job</th>\n",
              "      <th>dob</th>\n",
              "      <th>trans_num</th>\n",
              "      <th>unix_time</th>\n",
              "      <th>merch_lat</th>\n",
              "      <th>merch_long</th>\n",
              "      <th>is_fraud</th>\n",
              "    </tr>\n",
              "  </thead>\n",
              "  <tbody>\n",
              "    <tr>\n",
              "      <th>0</th>\n",
              "      <td>0</td>\n",
              "      <td>2020-06-21 12:14:25</td>\n",
              "      <td>2291163933867244</td>\n",
              "      <td>fraud_Kirlin and Sons</td>\n",
              "      <td>personal_care</td>\n",
              "      <td>2.86</td>\n",
              "      <td>Jeff</td>\n",
              "      <td>Elliott</td>\n",
              "      <td>M</td>\n",
              "      <td>351 Darlene Green</td>\n",
              "      <td>...</td>\n",
              "      <td>33.9659</td>\n",
              "      <td>-80.9355</td>\n",
              "      <td>333497</td>\n",
              "      <td>Mechanical engineer</td>\n",
              "      <td>1968-03-19</td>\n",
              "      <td>2da90c7d74bd46a0caf3777415b3ebd3</td>\n",
              "      <td>1371816865</td>\n",
              "      <td>33.986391</td>\n",
              "      <td>-81.200714</td>\n",
              "      <td>0</td>\n",
              "    </tr>\n",
              "    <tr>\n",
              "      <th>1</th>\n",
              "      <td>1</td>\n",
              "      <td>2020-06-21 12:14:33</td>\n",
              "      <td>3573030041201292</td>\n",
              "      <td>fraud_Sporer-Keebler</td>\n",
              "      <td>personal_care</td>\n",
              "      <td>29.84</td>\n",
              "      <td>Joanne</td>\n",
              "      <td>Williams</td>\n",
              "      <td>F</td>\n",
              "      <td>3638 Marsh Union</td>\n",
              "      <td>...</td>\n",
              "      <td>40.3207</td>\n",
              "      <td>-110.4360</td>\n",
              "      <td>302</td>\n",
              "      <td>Sales professional, IT</td>\n",
              "      <td>1990-01-17</td>\n",
              "      <td>324cc204407e99f51b0d6ca0055005e7</td>\n",
              "      <td>1371816873</td>\n",
              "      <td>39.450498</td>\n",
              "      <td>-109.960431</td>\n",
              "      <td>0</td>\n",
              "    </tr>\n",
              "    <tr>\n",
              "      <th>2</th>\n",
              "      <td>2</td>\n",
              "      <td>2020-06-21 12:14:53</td>\n",
              "      <td>3598215285024754</td>\n",
              "      <td>fraud_Swaniawski, Nitzsche and Welch</td>\n",
              "      <td>health_fitness</td>\n",
              "      <td>41.28</td>\n",
              "      <td>Ashley</td>\n",
              "      <td>Lopez</td>\n",
              "      <td>F</td>\n",
              "      <td>9333 Valentine Point</td>\n",
              "      <td>...</td>\n",
              "      <td>40.6729</td>\n",
              "      <td>-73.5365</td>\n",
              "      <td>34496</td>\n",
              "      <td>Librarian, public</td>\n",
              "      <td>1970-10-21</td>\n",
              "      <td>c81755dbbbea9d5c77f094348a7579be</td>\n",
              "      <td>1371816893</td>\n",
              "      <td>40.495810</td>\n",
              "      <td>-74.196111</td>\n",
              "      <td>0</td>\n",
              "    </tr>\n",
              "    <tr>\n",
              "      <th>3</th>\n",
              "      <td>3</td>\n",
              "      <td>2020-06-21 12:15:15</td>\n",
              "      <td>3591919803438423</td>\n",
              "      <td>fraud_Haley Group</td>\n",
              "      <td>misc_pos</td>\n",
              "      <td>60.05</td>\n",
              "      <td>Brian</td>\n",
              "      <td>Williams</td>\n",
              "      <td>M</td>\n",
              "      <td>32941 Krystal Mill Apt. 552</td>\n",
              "      <td>...</td>\n",
              "      <td>28.5697</td>\n",
              "      <td>-80.8191</td>\n",
              "      <td>54767</td>\n",
              "      <td>Set designer</td>\n",
              "      <td>1987-07-25</td>\n",
              "      <td>2159175b9efe66dc301f149d3d5abf8c</td>\n",
              "      <td>1371816915</td>\n",
              "      <td>28.812398</td>\n",
              "      <td>-80.883061</td>\n",
              "      <td>0</td>\n",
              "    </tr>\n",
              "    <tr>\n",
              "      <th>4</th>\n",
              "      <td>4</td>\n",
              "      <td>2020-06-21 12:15:17</td>\n",
              "      <td>3526826139003047</td>\n",
              "      <td>fraud_Johnston-Casper</td>\n",
              "      <td>travel</td>\n",
              "      <td>3.19</td>\n",
              "      <td>Nathan</td>\n",
              "      <td>Massey</td>\n",
              "      <td>M</td>\n",
              "      <td>5783 Evan Roads Apt. 465</td>\n",
              "      <td>...</td>\n",
              "      <td>44.2529</td>\n",
              "      <td>-85.0170</td>\n",
              "      <td>1126</td>\n",
              "      <td>Furniture designer</td>\n",
              "      <td>1955-07-06</td>\n",
              "      <td>57ff021bd3f328f8738bb535c302a31b</td>\n",
              "      <td>1371816917</td>\n",
              "      <td>44.959148</td>\n",
              "      <td>-85.884734</td>\n",
              "      <td>0</td>\n",
              "    </tr>\n",
              "  </tbody>\n",
              "</table>\n",
              "<p>5 rows × 23 columns</p>\n",
              "</div>\n",
              "    <div class=\"colab-df-buttons\">\n",
              "\n",
              "  <div class=\"colab-df-container\">\n",
              "    <button class=\"colab-df-convert\" onclick=\"convertToInteractive('df-62cafe52-00f0-4f24-aa78-62b8466a19f9')\"\n",
              "            title=\"Convert this dataframe to an interactive table.\"\n",
              "            style=\"display:none;\">\n",
              "\n",
              "  <svg xmlns=\"http://www.w3.org/2000/svg\" height=\"24px\" viewBox=\"0 -960 960 960\">\n",
              "    <path d=\"M120-120v-720h720v720H120Zm60-500h600v-160H180v160Zm220 220h160v-160H400v160Zm0 220h160v-160H400v160ZM180-400h160v-160H180v160Zm440 0h160v-160H620v160ZM180-180h160v-160H180v160Zm440 0h160v-160H620v160Z\"/>\n",
              "  </svg>\n",
              "    </button>\n",
              "\n",
              "  <style>\n",
              "    .colab-df-container {\n",
              "      display:flex;\n",
              "      gap: 12px;\n",
              "    }\n",
              "\n",
              "    .colab-df-convert {\n",
              "      background-color: #E8F0FE;\n",
              "      border: none;\n",
              "      border-radius: 50%;\n",
              "      cursor: pointer;\n",
              "      display: none;\n",
              "      fill: #1967D2;\n",
              "      height: 32px;\n",
              "      padding: 0 0 0 0;\n",
              "      width: 32px;\n",
              "    }\n",
              "\n",
              "    .colab-df-convert:hover {\n",
              "      background-color: #E2EBFA;\n",
              "      box-shadow: 0px 1px 2px rgba(60, 64, 67, 0.3), 0px 1px 3px 1px rgba(60, 64, 67, 0.15);\n",
              "      fill: #174EA6;\n",
              "    }\n",
              "\n",
              "    .colab-df-buttons div {\n",
              "      margin-bottom: 4px;\n",
              "    }\n",
              "\n",
              "    [theme=dark] .colab-df-convert {\n",
              "      background-color: #3B4455;\n",
              "      fill: #D2E3FC;\n",
              "    }\n",
              "\n",
              "    [theme=dark] .colab-df-convert:hover {\n",
              "      background-color: #434B5C;\n",
              "      box-shadow: 0px 1px 3px 1px rgba(0, 0, 0, 0.15);\n",
              "      filter: drop-shadow(0px 1px 2px rgba(0, 0, 0, 0.3));\n",
              "      fill: #FFFFFF;\n",
              "    }\n",
              "  </style>\n",
              "\n",
              "    <script>\n",
              "      const buttonEl =\n",
              "        document.querySelector('#df-62cafe52-00f0-4f24-aa78-62b8466a19f9 button.colab-df-convert');\n",
              "      buttonEl.style.display =\n",
              "        google.colab.kernel.accessAllowed ? 'block' : 'none';\n",
              "\n",
              "      async function convertToInteractive(key) {\n",
              "        const element = document.querySelector('#df-62cafe52-00f0-4f24-aa78-62b8466a19f9');\n",
              "        const dataTable =\n",
              "          await google.colab.kernel.invokeFunction('convertToInteractive',\n",
              "                                                    [key], {});\n",
              "        if (!dataTable) return;\n",
              "\n",
              "        const docLinkHtml = 'Like what you see? Visit the ' +\n",
              "          '<a target=\"_blank\" href=https://colab.research.google.com/notebooks/data_table.ipynb>data table notebook</a>'\n",
              "          + ' to learn more about interactive tables.';\n",
              "        element.innerHTML = '';\n",
              "        dataTable['output_type'] = 'display_data';\n",
              "        await google.colab.output.renderOutput(dataTable, element);\n",
              "        const docLink = document.createElement('div');\n",
              "        docLink.innerHTML = docLinkHtml;\n",
              "        element.appendChild(docLink);\n",
              "      }\n",
              "    </script>\n",
              "  </div>\n",
              "\n",
              "\n",
              "<div id=\"df-bdc48353-6420-4150-94ad-aa39239a183b\">\n",
              "  <button class=\"colab-df-quickchart\" onclick=\"quickchart('df-bdc48353-6420-4150-94ad-aa39239a183b')\"\n",
              "            title=\"Suggest charts\"\n",
              "            style=\"display:none;\">\n",
              "\n",
              "<svg xmlns=\"http://www.w3.org/2000/svg\" height=\"24px\"viewBox=\"0 0 24 24\"\n",
              "     width=\"24px\">\n",
              "    <g>\n",
              "        <path d=\"M19 3H5c-1.1 0-2 .9-2 2v14c0 1.1.9 2 2 2h14c1.1 0 2-.9 2-2V5c0-1.1-.9-2-2-2zM9 17H7v-7h2v7zm4 0h-2V7h2v10zm4 0h-2v-4h2v4z\"/>\n",
              "    </g>\n",
              "</svg>\n",
              "  </button>\n",
              "\n",
              "<style>\n",
              "  .colab-df-quickchart {\n",
              "      --bg-color: #E8F0FE;\n",
              "      --fill-color: #1967D2;\n",
              "      --hover-bg-color: #E2EBFA;\n",
              "      --hover-fill-color: #174EA6;\n",
              "      --disabled-fill-color: #AAA;\n",
              "      --disabled-bg-color: #DDD;\n",
              "  }\n",
              "\n",
              "  [theme=dark] .colab-df-quickchart {\n",
              "      --bg-color: #3B4455;\n",
              "      --fill-color: #D2E3FC;\n",
              "      --hover-bg-color: #434B5C;\n",
              "      --hover-fill-color: #FFFFFF;\n",
              "      --disabled-bg-color: #3B4455;\n",
              "      --disabled-fill-color: #666;\n",
              "  }\n",
              "\n",
              "  .colab-df-quickchart {\n",
              "    background-color: var(--bg-color);\n",
              "    border: none;\n",
              "    border-radius: 50%;\n",
              "    cursor: pointer;\n",
              "    display: none;\n",
              "    fill: var(--fill-color);\n",
              "    height: 32px;\n",
              "    padding: 0;\n",
              "    width: 32px;\n",
              "  }\n",
              "\n",
              "  .colab-df-quickchart:hover {\n",
              "    background-color: var(--hover-bg-color);\n",
              "    box-shadow: 0 1px 2px rgba(60, 64, 67, 0.3), 0 1px 3px 1px rgba(60, 64, 67, 0.15);\n",
              "    fill: var(--button-hover-fill-color);\n",
              "  }\n",
              "\n",
              "  .colab-df-quickchart-complete:disabled,\n",
              "  .colab-df-quickchart-complete:disabled:hover {\n",
              "    background-color: var(--disabled-bg-color);\n",
              "    fill: var(--disabled-fill-color);\n",
              "    box-shadow: none;\n",
              "  }\n",
              "\n",
              "  .colab-df-spinner {\n",
              "    border: 2px solid var(--fill-color);\n",
              "    border-color: transparent;\n",
              "    border-bottom-color: var(--fill-color);\n",
              "    animation:\n",
              "      spin 1s steps(1) infinite;\n",
              "  }\n",
              "\n",
              "  @keyframes spin {\n",
              "    0% {\n",
              "      border-color: transparent;\n",
              "      border-bottom-color: var(--fill-color);\n",
              "      border-left-color: var(--fill-color);\n",
              "    }\n",
              "    20% {\n",
              "      border-color: transparent;\n",
              "      border-left-color: var(--fill-color);\n",
              "      border-top-color: var(--fill-color);\n",
              "    }\n",
              "    30% {\n",
              "      border-color: transparent;\n",
              "      border-left-color: var(--fill-color);\n",
              "      border-top-color: var(--fill-color);\n",
              "      border-right-color: var(--fill-color);\n",
              "    }\n",
              "    40% {\n",
              "      border-color: transparent;\n",
              "      border-right-color: var(--fill-color);\n",
              "      border-top-color: var(--fill-color);\n",
              "    }\n",
              "    60% {\n",
              "      border-color: transparent;\n",
              "      border-right-color: var(--fill-color);\n",
              "    }\n",
              "    80% {\n",
              "      border-color: transparent;\n",
              "      border-right-color: var(--fill-color);\n",
              "      border-bottom-color: var(--fill-color);\n",
              "    }\n",
              "    90% {\n",
              "      border-color: transparent;\n",
              "      border-bottom-color: var(--fill-color);\n",
              "    }\n",
              "  }\n",
              "</style>\n",
              "\n",
              "  <script>\n",
              "    async function quickchart(key) {\n",
              "      const quickchartButtonEl =\n",
              "        document.querySelector('#' + key + ' button');\n",
              "      quickchartButtonEl.disabled = true;  // To prevent multiple clicks.\n",
              "      quickchartButtonEl.classList.add('colab-df-spinner');\n",
              "      try {\n",
              "        const charts = await google.colab.kernel.invokeFunction(\n",
              "            'suggestCharts', [key], {});\n",
              "      } catch (error) {\n",
              "        console.error('Error during call to suggestCharts:', error);\n",
              "      }\n",
              "      quickchartButtonEl.classList.remove('colab-df-spinner');\n",
              "      quickchartButtonEl.classList.add('colab-df-quickchart-complete');\n",
              "    }\n",
              "    (() => {\n",
              "      let quickchartButtonEl =\n",
              "        document.querySelector('#df-bdc48353-6420-4150-94ad-aa39239a183b button');\n",
              "      quickchartButtonEl.style.display =\n",
              "        google.colab.kernel.accessAllowed ? 'block' : 'none';\n",
              "    })();\n",
              "  </script>\n",
              "</div>\n",
              "\n",
              "    </div>\n",
              "  </div>\n"
            ],
            "application/vnd.google.colaboratory.intrinsic+json": {
              "type": "dataframe",
              "variable_name": "credit"
            }
          },
          "metadata": {},
          "execution_count": 243
        }
      ]
    },
    {
      "cell_type": "markdown",
      "source": [
        "\n",
        "> Let's see the shape of our dataset (rows,columns)\n",
        "\n",
        "\n"
      ],
      "metadata": {
        "id": "v1U8czreo_si"
      }
    },
    {
      "cell_type": "code",
      "source": [
        "credit.shape"
      ],
      "metadata": {
        "colab": {
          "base_uri": "https://localhost:8080/"
        },
        "id": "ymH7jwEGoT8C",
        "outputId": "af45a29a-ae25-4031-c470-38c3de4dd2c1"
      },
      "execution_count": null,
      "outputs": [
        {
          "output_type": "execute_result",
          "data": {
            "text/plain": [
              "(555719, 23)"
            ]
          },
          "metadata": {},
          "execution_count": 244
        }
      ]
    },
    {
      "cell_type": "markdown",
      "source": [
        ">Display basic information about the dataset\n"
      ],
      "metadata": {
        "id": "ZRhrhwVBr_XY"
      }
    },
    {
      "cell_type": "code",
      "source": [
        "credit.info()"
      ],
      "metadata": {
        "colab": {
          "base_uri": "https://localhost:8080/"
        },
        "id": "0TtLnCHHoZlJ",
        "outputId": "03c7b022-0308-4192-f682-e4aae7b1c156"
      },
      "execution_count": null,
      "outputs": [
        {
          "output_type": "stream",
          "name": "stdout",
          "text": [
            "<class 'pandas.core.frame.DataFrame'>\n",
            "RangeIndex: 555719 entries, 0 to 555718\n",
            "Data columns (total 23 columns):\n",
            " #   Column                 Non-Null Count   Dtype  \n",
            "---  ------                 --------------   -----  \n",
            " 0   Unnamed: 0             555719 non-null  int64  \n",
            " 1   trans_date_trans_time  555719 non-null  object \n",
            " 2   cc_num                 555719 non-null  int64  \n",
            " 3   merchant               555719 non-null  object \n",
            " 4   category               555719 non-null  object \n",
            " 5   amt                    555719 non-null  float64\n",
            " 6   first                  555719 non-null  object \n",
            " 7   last                   555719 non-null  object \n",
            " 8   gender                 555719 non-null  object \n",
            " 9   street                 555719 non-null  object \n",
            " 10  city                   555719 non-null  object \n",
            " 11  state                  555719 non-null  object \n",
            " 12  zip                    555719 non-null  int64  \n",
            " 13  lat                    555719 non-null  float64\n",
            " 14  long                   555719 non-null  float64\n",
            " 15  city_pop               555719 non-null  int64  \n",
            " 16  job                    555719 non-null  object \n",
            " 17  dob                    555719 non-null  object \n",
            " 18  trans_num              555719 non-null  object \n",
            " 19  unix_time              555719 non-null  int64  \n",
            " 20  merch_lat              555719 non-null  float64\n",
            " 21  merch_long             555719 non-null  float64\n",
            " 22  is_fraud               555719 non-null  int64  \n",
            "dtypes: float64(5), int64(6), object(12)\n",
            "memory usage: 97.5+ MB\n"
          ]
        }
      ]
    },
    {
      "cell_type": "markdown",
      "source": [
        "> Display summary statistics\n"
      ],
      "metadata": {
        "id": "QLHz08u3sFuk"
      }
    },
    {
      "cell_type": "code",
      "source": [
        "credit.describe()"
      ],
      "metadata": {
        "colab": {
          "base_uri": "https://localhost:8080/",
          "height": 300
        },
        "id": "jN6agGplr-di",
        "outputId": "0db624c9-23ab-45d5-affe-b1e5132d5228"
      },
      "execution_count": null,
      "outputs": [
        {
          "output_type": "execute_result",
          "data": {
            "text/plain": [
              "          Unnamed: 0        cc_num            amt            zip  \\\n",
              "count  555719.000000  5.557190e+05  555719.000000  555719.000000   \n",
              "mean   277859.000000  4.178387e+17      69.392810   48842.628015   \n",
              "std    160422.401459  1.309837e+18     156.745941   26855.283328   \n",
              "min         0.000000  6.041621e+10       1.000000    1257.000000   \n",
              "25%    138929.500000  1.800429e+14       9.630000   26292.000000   \n",
              "50%    277859.000000  3.521417e+15      47.290000   48174.000000   \n",
              "75%    416788.500000  4.635331e+15      83.010000   72011.000000   \n",
              "max    555718.000000  4.992346e+18   22768.110000   99921.000000   \n",
              "\n",
              "                 lat           long      city_pop     unix_time  \\\n",
              "count  555719.000000  555719.000000  5.557190e+05  5.557190e+05   \n",
              "mean       38.543253     -90.231325  8.822189e+04  1.380679e+09   \n",
              "std         5.061336      13.721780  3.003909e+05  5.201104e+06   \n",
              "min        20.027100    -165.672300  2.300000e+01  1.371817e+09   \n",
              "25%        34.668900     -96.798000  7.410000e+02  1.376029e+09   \n",
              "50%        39.371600     -87.476900  2.408000e+03  1.380762e+09   \n",
              "75%        41.894800     -80.175200  1.968500e+04  1.385867e+09   \n",
              "max        65.689900     -67.950300  2.906700e+06  1.388534e+09   \n",
              "\n",
              "           merch_lat     merch_long       is_fraud  \n",
              "count  555719.000000  555719.000000  555719.000000  \n",
              "mean       38.542798     -90.231380       0.003860  \n",
              "std         5.095829      13.733071       0.062008  \n",
              "min        19.027422    -166.671575       0.000000  \n",
              "25%        34.755302     -96.905129       0.000000  \n",
              "50%        39.376593     -87.445204       0.000000  \n",
              "75%        41.954163     -80.264637       0.000000  \n",
              "max        66.679297     -66.952026       1.000000  "
            ],
            "text/html": [
              "\n",
              "  <div id=\"df-8b34fbbb-a4a9-468c-9dd8-1e4f2c28e29c\" class=\"colab-df-container\">\n",
              "    <div>\n",
              "<style scoped>\n",
              "    .dataframe tbody tr th:only-of-type {\n",
              "        vertical-align: middle;\n",
              "    }\n",
              "\n",
              "    .dataframe tbody tr th {\n",
              "        vertical-align: top;\n",
              "    }\n",
              "\n",
              "    .dataframe thead th {\n",
              "        text-align: right;\n",
              "    }\n",
              "</style>\n",
              "<table border=\"1\" class=\"dataframe\">\n",
              "  <thead>\n",
              "    <tr style=\"text-align: right;\">\n",
              "      <th></th>\n",
              "      <th>Unnamed: 0</th>\n",
              "      <th>cc_num</th>\n",
              "      <th>amt</th>\n",
              "      <th>zip</th>\n",
              "      <th>lat</th>\n",
              "      <th>long</th>\n",
              "      <th>city_pop</th>\n",
              "      <th>unix_time</th>\n",
              "      <th>merch_lat</th>\n",
              "      <th>merch_long</th>\n",
              "      <th>is_fraud</th>\n",
              "    </tr>\n",
              "  </thead>\n",
              "  <tbody>\n",
              "    <tr>\n",
              "      <th>count</th>\n",
              "      <td>555719.000000</td>\n",
              "      <td>5.557190e+05</td>\n",
              "      <td>555719.000000</td>\n",
              "      <td>555719.000000</td>\n",
              "      <td>555719.000000</td>\n",
              "      <td>555719.000000</td>\n",
              "      <td>5.557190e+05</td>\n",
              "      <td>5.557190e+05</td>\n",
              "      <td>555719.000000</td>\n",
              "      <td>555719.000000</td>\n",
              "      <td>555719.000000</td>\n",
              "    </tr>\n",
              "    <tr>\n",
              "      <th>mean</th>\n",
              "      <td>277859.000000</td>\n",
              "      <td>4.178387e+17</td>\n",
              "      <td>69.392810</td>\n",
              "      <td>48842.628015</td>\n",
              "      <td>38.543253</td>\n",
              "      <td>-90.231325</td>\n",
              "      <td>8.822189e+04</td>\n",
              "      <td>1.380679e+09</td>\n",
              "      <td>38.542798</td>\n",
              "      <td>-90.231380</td>\n",
              "      <td>0.003860</td>\n",
              "    </tr>\n",
              "    <tr>\n",
              "      <th>std</th>\n",
              "      <td>160422.401459</td>\n",
              "      <td>1.309837e+18</td>\n",
              "      <td>156.745941</td>\n",
              "      <td>26855.283328</td>\n",
              "      <td>5.061336</td>\n",
              "      <td>13.721780</td>\n",
              "      <td>3.003909e+05</td>\n",
              "      <td>5.201104e+06</td>\n",
              "      <td>5.095829</td>\n",
              "      <td>13.733071</td>\n",
              "      <td>0.062008</td>\n",
              "    </tr>\n",
              "    <tr>\n",
              "      <th>min</th>\n",
              "      <td>0.000000</td>\n",
              "      <td>6.041621e+10</td>\n",
              "      <td>1.000000</td>\n",
              "      <td>1257.000000</td>\n",
              "      <td>20.027100</td>\n",
              "      <td>-165.672300</td>\n",
              "      <td>2.300000e+01</td>\n",
              "      <td>1.371817e+09</td>\n",
              "      <td>19.027422</td>\n",
              "      <td>-166.671575</td>\n",
              "      <td>0.000000</td>\n",
              "    </tr>\n",
              "    <tr>\n",
              "      <th>25%</th>\n",
              "      <td>138929.500000</td>\n",
              "      <td>1.800429e+14</td>\n",
              "      <td>9.630000</td>\n",
              "      <td>26292.000000</td>\n",
              "      <td>34.668900</td>\n",
              "      <td>-96.798000</td>\n",
              "      <td>7.410000e+02</td>\n",
              "      <td>1.376029e+09</td>\n",
              "      <td>34.755302</td>\n",
              "      <td>-96.905129</td>\n",
              "      <td>0.000000</td>\n",
              "    </tr>\n",
              "    <tr>\n",
              "      <th>50%</th>\n",
              "      <td>277859.000000</td>\n",
              "      <td>3.521417e+15</td>\n",
              "      <td>47.290000</td>\n",
              "      <td>48174.000000</td>\n",
              "      <td>39.371600</td>\n",
              "      <td>-87.476900</td>\n",
              "      <td>2.408000e+03</td>\n",
              "      <td>1.380762e+09</td>\n",
              "      <td>39.376593</td>\n",
              "      <td>-87.445204</td>\n",
              "      <td>0.000000</td>\n",
              "    </tr>\n",
              "    <tr>\n",
              "      <th>75%</th>\n",
              "      <td>416788.500000</td>\n",
              "      <td>4.635331e+15</td>\n",
              "      <td>83.010000</td>\n",
              "      <td>72011.000000</td>\n",
              "      <td>41.894800</td>\n",
              "      <td>-80.175200</td>\n",
              "      <td>1.968500e+04</td>\n",
              "      <td>1.385867e+09</td>\n",
              "      <td>41.954163</td>\n",
              "      <td>-80.264637</td>\n",
              "      <td>0.000000</td>\n",
              "    </tr>\n",
              "    <tr>\n",
              "      <th>max</th>\n",
              "      <td>555718.000000</td>\n",
              "      <td>4.992346e+18</td>\n",
              "      <td>22768.110000</td>\n",
              "      <td>99921.000000</td>\n",
              "      <td>65.689900</td>\n",
              "      <td>-67.950300</td>\n",
              "      <td>2.906700e+06</td>\n",
              "      <td>1.388534e+09</td>\n",
              "      <td>66.679297</td>\n",
              "      <td>-66.952026</td>\n",
              "      <td>1.000000</td>\n",
              "    </tr>\n",
              "  </tbody>\n",
              "</table>\n",
              "</div>\n",
              "    <div class=\"colab-df-buttons\">\n",
              "\n",
              "  <div class=\"colab-df-container\">\n",
              "    <button class=\"colab-df-convert\" onclick=\"convertToInteractive('df-8b34fbbb-a4a9-468c-9dd8-1e4f2c28e29c')\"\n",
              "            title=\"Convert this dataframe to an interactive table.\"\n",
              "            style=\"display:none;\">\n",
              "\n",
              "  <svg xmlns=\"http://www.w3.org/2000/svg\" height=\"24px\" viewBox=\"0 -960 960 960\">\n",
              "    <path d=\"M120-120v-720h720v720H120Zm60-500h600v-160H180v160Zm220 220h160v-160H400v160Zm0 220h160v-160H400v160ZM180-400h160v-160H180v160Zm440 0h160v-160H620v160ZM180-180h160v-160H180v160Zm440 0h160v-160H620v160Z\"/>\n",
              "  </svg>\n",
              "    </button>\n",
              "\n",
              "  <style>\n",
              "    .colab-df-container {\n",
              "      display:flex;\n",
              "      gap: 12px;\n",
              "    }\n",
              "\n",
              "    .colab-df-convert {\n",
              "      background-color: #E8F0FE;\n",
              "      border: none;\n",
              "      border-radius: 50%;\n",
              "      cursor: pointer;\n",
              "      display: none;\n",
              "      fill: #1967D2;\n",
              "      height: 32px;\n",
              "      padding: 0 0 0 0;\n",
              "      width: 32px;\n",
              "    }\n",
              "\n",
              "    .colab-df-convert:hover {\n",
              "      background-color: #E2EBFA;\n",
              "      box-shadow: 0px 1px 2px rgba(60, 64, 67, 0.3), 0px 1px 3px 1px rgba(60, 64, 67, 0.15);\n",
              "      fill: #174EA6;\n",
              "    }\n",
              "\n",
              "    .colab-df-buttons div {\n",
              "      margin-bottom: 4px;\n",
              "    }\n",
              "\n",
              "    [theme=dark] .colab-df-convert {\n",
              "      background-color: #3B4455;\n",
              "      fill: #D2E3FC;\n",
              "    }\n",
              "\n",
              "    [theme=dark] .colab-df-convert:hover {\n",
              "      background-color: #434B5C;\n",
              "      box-shadow: 0px 1px 3px 1px rgba(0, 0, 0, 0.15);\n",
              "      filter: drop-shadow(0px 1px 2px rgba(0, 0, 0, 0.3));\n",
              "      fill: #FFFFFF;\n",
              "    }\n",
              "  </style>\n",
              "\n",
              "    <script>\n",
              "      const buttonEl =\n",
              "        document.querySelector('#df-8b34fbbb-a4a9-468c-9dd8-1e4f2c28e29c button.colab-df-convert');\n",
              "      buttonEl.style.display =\n",
              "        google.colab.kernel.accessAllowed ? 'block' : 'none';\n",
              "\n",
              "      async function convertToInteractive(key) {\n",
              "        const element = document.querySelector('#df-8b34fbbb-a4a9-468c-9dd8-1e4f2c28e29c');\n",
              "        const dataTable =\n",
              "          await google.colab.kernel.invokeFunction('convertToInteractive',\n",
              "                                                    [key], {});\n",
              "        if (!dataTable) return;\n",
              "\n",
              "        const docLinkHtml = 'Like what you see? Visit the ' +\n",
              "          '<a target=\"_blank\" href=https://colab.research.google.com/notebooks/data_table.ipynb>data table notebook</a>'\n",
              "          + ' to learn more about interactive tables.';\n",
              "        element.innerHTML = '';\n",
              "        dataTable['output_type'] = 'display_data';\n",
              "        await google.colab.output.renderOutput(dataTable, element);\n",
              "        const docLink = document.createElement('div');\n",
              "        docLink.innerHTML = docLinkHtml;\n",
              "        element.appendChild(docLink);\n",
              "      }\n",
              "    </script>\n",
              "  </div>\n",
              "\n",
              "\n",
              "<div id=\"df-a3a77494-fd69-4f43-87cb-9f2ed769b89d\">\n",
              "  <button class=\"colab-df-quickchart\" onclick=\"quickchart('df-a3a77494-fd69-4f43-87cb-9f2ed769b89d')\"\n",
              "            title=\"Suggest charts\"\n",
              "            style=\"display:none;\">\n",
              "\n",
              "<svg xmlns=\"http://www.w3.org/2000/svg\" height=\"24px\"viewBox=\"0 0 24 24\"\n",
              "     width=\"24px\">\n",
              "    <g>\n",
              "        <path d=\"M19 3H5c-1.1 0-2 .9-2 2v14c0 1.1.9 2 2 2h14c1.1 0 2-.9 2-2V5c0-1.1-.9-2-2-2zM9 17H7v-7h2v7zm4 0h-2V7h2v10zm4 0h-2v-4h2v4z\"/>\n",
              "    </g>\n",
              "</svg>\n",
              "  </button>\n",
              "\n",
              "<style>\n",
              "  .colab-df-quickchart {\n",
              "      --bg-color: #E8F0FE;\n",
              "      --fill-color: #1967D2;\n",
              "      --hover-bg-color: #E2EBFA;\n",
              "      --hover-fill-color: #174EA6;\n",
              "      --disabled-fill-color: #AAA;\n",
              "      --disabled-bg-color: #DDD;\n",
              "  }\n",
              "\n",
              "  [theme=dark] .colab-df-quickchart {\n",
              "      --bg-color: #3B4455;\n",
              "      --fill-color: #D2E3FC;\n",
              "      --hover-bg-color: #434B5C;\n",
              "      --hover-fill-color: #FFFFFF;\n",
              "      --disabled-bg-color: #3B4455;\n",
              "      --disabled-fill-color: #666;\n",
              "  }\n",
              "\n",
              "  .colab-df-quickchart {\n",
              "    background-color: var(--bg-color);\n",
              "    border: none;\n",
              "    border-radius: 50%;\n",
              "    cursor: pointer;\n",
              "    display: none;\n",
              "    fill: var(--fill-color);\n",
              "    height: 32px;\n",
              "    padding: 0;\n",
              "    width: 32px;\n",
              "  }\n",
              "\n",
              "  .colab-df-quickchart:hover {\n",
              "    background-color: var(--hover-bg-color);\n",
              "    box-shadow: 0 1px 2px rgba(60, 64, 67, 0.3), 0 1px 3px 1px rgba(60, 64, 67, 0.15);\n",
              "    fill: var(--button-hover-fill-color);\n",
              "  }\n",
              "\n",
              "  .colab-df-quickchart-complete:disabled,\n",
              "  .colab-df-quickchart-complete:disabled:hover {\n",
              "    background-color: var(--disabled-bg-color);\n",
              "    fill: var(--disabled-fill-color);\n",
              "    box-shadow: none;\n",
              "  }\n",
              "\n",
              "  .colab-df-spinner {\n",
              "    border: 2px solid var(--fill-color);\n",
              "    border-color: transparent;\n",
              "    border-bottom-color: var(--fill-color);\n",
              "    animation:\n",
              "      spin 1s steps(1) infinite;\n",
              "  }\n",
              "\n",
              "  @keyframes spin {\n",
              "    0% {\n",
              "      border-color: transparent;\n",
              "      border-bottom-color: var(--fill-color);\n",
              "      border-left-color: var(--fill-color);\n",
              "    }\n",
              "    20% {\n",
              "      border-color: transparent;\n",
              "      border-left-color: var(--fill-color);\n",
              "      border-top-color: var(--fill-color);\n",
              "    }\n",
              "    30% {\n",
              "      border-color: transparent;\n",
              "      border-left-color: var(--fill-color);\n",
              "      border-top-color: var(--fill-color);\n",
              "      border-right-color: var(--fill-color);\n",
              "    }\n",
              "    40% {\n",
              "      border-color: transparent;\n",
              "      border-right-color: var(--fill-color);\n",
              "      border-top-color: var(--fill-color);\n",
              "    }\n",
              "    60% {\n",
              "      border-color: transparent;\n",
              "      border-right-color: var(--fill-color);\n",
              "    }\n",
              "    80% {\n",
              "      border-color: transparent;\n",
              "      border-right-color: var(--fill-color);\n",
              "      border-bottom-color: var(--fill-color);\n",
              "    }\n",
              "    90% {\n",
              "      border-color: transparent;\n",
              "      border-bottom-color: var(--fill-color);\n",
              "    }\n",
              "  }\n",
              "</style>\n",
              "\n",
              "  <script>\n",
              "    async function quickchart(key) {\n",
              "      const quickchartButtonEl =\n",
              "        document.querySelector('#' + key + ' button');\n",
              "      quickchartButtonEl.disabled = true;  // To prevent multiple clicks.\n",
              "      quickchartButtonEl.classList.add('colab-df-spinner');\n",
              "      try {\n",
              "        const charts = await google.colab.kernel.invokeFunction(\n",
              "            'suggestCharts', [key], {});\n",
              "      } catch (error) {\n",
              "        console.error('Error during call to suggestCharts:', error);\n",
              "      }\n",
              "      quickchartButtonEl.classList.remove('colab-df-spinner');\n",
              "      quickchartButtonEl.classList.add('colab-df-quickchart-complete');\n",
              "    }\n",
              "    (() => {\n",
              "      let quickchartButtonEl =\n",
              "        document.querySelector('#df-a3a77494-fd69-4f43-87cb-9f2ed769b89d button');\n",
              "      quickchartButtonEl.style.display =\n",
              "        google.colab.kernel.accessAllowed ? 'block' : 'none';\n",
              "    })();\n",
              "  </script>\n",
              "</div>\n",
              "\n",
              "    </div>\n",
              "  </div>\n"
            ],
            "application/vnd.google.colaboratory.intrinsic+json": {
              "type": "dataframe",
              "summary": "{\n  \"name\": \"credit\",\n  \"rows\": 8,\n  \"fields\": [\n    {\n      \"column\": \"Unnamed: 0\",\n      \"properties\": {\n        \"dtype\": \"number\",\n        \"std\": 200283.597328642,\n        \"min\": 0.0,\n        \"max\": 555719.0,\n        \"num_unique_values\": 7,\n        \"samples\": [\n          555719.0,\n          277859.0,\n          416788.5\n        ],\n        \"semantic_type\": \"\",\n        \"description\": \"\"\n      }\n    },\n    {\n      \"column\": \"cc_num\",\n      \"properties\": {\n        \"dtype\": \"number\",\n        \"std\": 1.7384297719737894e+18,\n        \"min\": 555719.0,\n        \"max\": 4.992346398065154e+18,\n        \"num_unique_values\": 8,\n        \"samples\": [\n          4.178386955287641e+17,\n          3521417320836166.0,\n          555719.0\n        ],\n        \"semantic_type\": \"\",\n        \"description\": \"\"\n      }\n    },\n    {\n      \"column\": \"amt\",\n      \"properties\": {\n        \"dtype\": \"number\",\n        \"std\": 195469.40292796041,\n        \"min\": 1.0,\n        \"max\": 555719.0,\n        \"num_unique_values\": 8,\n        \"samples\": [\n          69.39281023322938,\n          47.29,\n          555719.0\n        ],\n        \"semantic_type\": \"\",\n        \"description\": \"\"\n      }\n    },\n    {\n      \"column\": \"zip\",\n      \"properties\": {\n        \"dtype\": \"number\",\n        \"std\": 182646.36451821815,\n        \"min\": 1257.0,\n        \"max\": 555719.0,\n        \"num_unique_values\": 8,\n        \"samples\": [\n          48842.62801523792,\n          48174.0,\n          555719.0\n        ],\n        \"semantic_type\": \"\",\n        \"description\": \"\"\n      }\n    },\n    {\n      \"column\": \"lat\",\n      \"properties\": {\n        \"dtype\": \"number\",\n        \"std\": 196463.95010223167,\n        \"min\": 5.061336211107396,\n        \"max\": 555719.0,\n        \"num_unique_values\": 8,\n        \"samples\": [\n          38.54325282129998,\n          39.3716,\n          555719.0\n        ],\n        \"semantic_type\": \"\",\n        \"description\": \"\"\n      }\n    },\n    {\n      \"column\": \"long\",\n      \"properties\": {\n        \"dtype\": \"number\",\n        \"std\": 196505.36351645383,\n        \"min\": -165.6723,\n        \"max\": 555719.0,\n        \"num_unique_values\": 8,\n        \"samples\": [\n          -90.23132507832197,\n          -87.4769,\n          555719.0\n        ],\n        \"semantic_type\": \"\",\n        \"description\": \"\"\n      }\n    },\n    {\n      \"column\": \"city_pop\",\n      \"properties\": {\n        \"dtype\": \"number\",\n        \"std\": 998589.2440870903,\n        \"min\": 23.0,\n        \"max\": 2906700.0,\n        \"num_unique_values\": 8,\n        \"samples\": [\n          88221.88791817447,\n          2408.0,\n          555719.0\n        ],\n        \"semantic_type\": \"\",\n        \"description\": \"\"\n      }\n    },\n    {\n      \"column\": \"unix_time\",\n      \"properties\": {\n        \"dtype\": \"number\",\n        \"std\": 637790285.3074052,\n        \"min\": 555719.0,\n        \"max\": 1388534374.0,\n        \"num_unique_values\": 8,\n        \"samples\": [\n          1380678865.1667802,\n          1380761988.0,\n          555719.0\n        ],\n        \"semantic_type\": \"\",\n        \"description\": \"\"\n      }\n    },\n    {\n      \"column\": \"merch_lat\",\n      \"properties\": {\n        \"dtype\": \"number\",\n        \"std\": 196463.94132113908,\n        \"min\": 5.095829265180007,\n        \"max\": 555719.0,\n        \"num_unique_values\": 8,\n        \"samples\": [\n          38.54279777803892,\n          39.376593,\n          555719.0\n        ],\n        \"semantic_type\": \"\",\n        \"description\": \"\"\n      }\n    },\n    {\n      \"column\": \"merch_long\",\n      \"properties\": {\n        \"dtype\": \"number\",\n        \"std\": 196505.37140014354,\n        \"min\": -166.671575,\n        \"max\": 555719.0,\n        \"num_unique_values\": 8,\n        \"samples\": [\n          -90.23138049244673,\n          -87.445204,\n          555719.0\n        ],\n        \"semantic_type\": \"\",\n        \"description\": \"\"\n      }\n    },\n    {\n      \"column\": \"is_fraud\",\n      \"properties\": {\n        \"dtype\": \"number\",\n        \"std\": 196476.2828329605,\n        \"min\": 0.0,\n        \"max\": 555719.0,\n        \"num_unique_values\": 5,\n        \"samples\": [\n          0.0038598644278853163,\n          1.0,\n          0.06200784461178394\n        ],\n        \"semantic_type\": \"\",\n        \"description\": \"\"\n      }\n    }\n  ]\n}"
            }
          },
          "metadata": {},
          "execution_count": 246
        }
      ]
    },
    {
      "cell_type": "markdown",
      "source": [
        "\n",
        "\n",
        "> dropping duplicate values if there are any\n",
        "\n"
      ],
      "metadata": {
        "id": "-BW9us7Atb4c"
      }
    },
    {
      "cell_type": "code",
      "source": [
        "credit.duplicated().sum()"
      ],
      "metadata": {
        "colab": {
          "base_uri": "https://localhost:8080/"
        },
        "id": "FEuul8QXwUGO",
        "outputId": "9d315ed4-d279-4a76-945b-bd38e04739c3"
      },
      "execution_count": null,
      "outputs": [
        {
          "output_type": "execute_result",
          "data": {
            "text/plain": [
              "0"
            ]
          },
          "metadata": {},
          "execution_count": 247
        }
      ]
    },
    {
      "cell_type": "code",
      "source": [
        "credit.drop_duplicates()"
      ],
      "metadata": {
        "colab": {
          "base_uri": "https://localhost:8080/",
          "height": 878
        },
        "id": "gjM2U4t5sPH8",
        "outputId": "5799a074-7bb5-4630-d825-8b3350204b38"
      },
      "execution_count": null,
      "outputs": [
        {
          "output_type": "execute_result",
          "data": {
            "text/plain": [
              "        Unnamed: 0 trans_date_trans_time            cc_num  \\\n",
              "0                0   2020-06-21 12:14:25  2291163933867244   \n",
              "1                1   2020-06-21 12:14:33  3573030041201292   \n",
              "2                2   2020-06-21 12:14:53  3598215285024754   \n",
              "3                3   2020-06-21 12:15:15  3591919803438423   \n",
              "4                4   2020-06-21 12:15:17  3526826139003047   \n",
              "...            ...                   ...               ...   \n",
              "555714      555714   2020-12-31 23:59:07    30560609640617   \n",
              "555715      555715   2020-12-31 23:59:09  3556613125071656   \n",
              "555716      555716   2020-12-31 23:59:15  6011724471098086   \n",
              "555717      555717   2020-12-31 23:59:24     4079773899158   \n",
              "555718      555718   2020-12-31 23:59:34  4170689372027579   \n",
              "\n",
              "                                    merchant        category     amt    first  \\\n",
              "0                      fraud_Kirlin and Sons   personal_care    2.86     Jeff   \n",
              "1                       fraud_Sporer-Keebler   personal_care   29.84   Joanne   \n",
              "2       fraud_Swaniawski, Nitzsche and Welch  health_fitness   41.28   Ashley   \n",
              "3                          fraud_Haley Group        misc_pos   60.05    Brian   \n",
              "4                      fraud_Johnston-Casper          travel    3.19   Nathan   \n",
              "...                                      ...             ...     ...      ...   \n",
              "555714                 fraud_Reilly and Sons  health_fitness   43.77  Michael   \n",
              "555715                  fraud_Hoppe-Parisian       kids_pets  111.84     Jose   \n",
              "555716                       fraud_Rau-Robel       kids_pets   86.88      Ann   \n",
              "555717                 fraud_Breitenberg LLC          travel    7.99     Eric   \n",
              "555718                     fraud_Dare-Marvin   entertainment   38.13   Samuel   \n",
              "\n",
              "            last gender                       street  ...      lat      long  \\\n",
              "0        Elliott      M            351 Darlene Green  ...  33.9659  -80.9355   \n",
              "1       Williams      F             3638 Marsh Union  ...  40.3207 -110.4360   \n",
              "2          Lopez      F         9333 Valentine Point  ...  40.6729  -73.5365   \n",
              "3       Williams      M  32941 Krystal Mill Apt. 552  ...  28.5697  -80.8191   \n",
              "4         Massey      M     5783 Evan Roads Apt. 465  ...  44.2529  -85.0170   \n",
              "...          ...    ...                          ...  ...      ...       ...   \n",
              "555714     Olson      M          558 Michael Estates  ...  40.4931  -91.8912   \n",
              "555715   Vasquez      M          572 Davis Mountains  ...  29.0393  -95.4401   \n",
              "555716    Lawson      F   144 Evans Islands Apt. 683  ...  46.1966 -118.9017   \n",
              "555717   Preston      M   7020 Doyle Stream Apt. 951  ...  44.6255 -116.4493   \n",
              "555718      Frey      M     830 Myers Plaza Apt. 384  ...  35.6665  -97.4798   \n",
              "\n",
              "        city_pop                     job         dob  \\\n",
              "0         333497     Mechanical engineer  1968-03-19   \n",
              "1            302  Sales professional, IT  1990-01-17   \n",
              "2          34496       Librarian, public  1970-10-21   \n",
              "3          54767            Set designer  1987-07-25   \n",
              "4           1126      Furniture designer  1955-07-06   \n",
              "...          ...                     ...         ...   \n",
              "555714       519            Town planner  1966-02-13   \n",
              "555715     28739          Futures trader  1999-12-27   \n",
              "555716      3684                Musician  1981-11-29   \n",
              "555717       129            Cartographer  1965-12-15   \n",
              "555718    116001             Media buyer  1993-05-10   \n",
              "\n",
              "                               trans_num   unix_time  merch_lat  merch_long  \\\n",
              "0       2da90c7d74bd46a0caf3777415b3ebd3  1371816865  33.986391  -81.200714   \n",
              "1       324cc204407e99f51b0d6ca0055005e7  1371816873  39.450498 -109.960431   \n",
              "2       c81755dbbbea9d5c77f094348a7579be  1371816893  40.495810  -74.196111   \n",
              "3       2159175b9efe66dc301f149d3d5abf8c  1371816915  28.812398  -80.883061   \n",
              "4       57ff021bd3f328f8738bb535c302a31b  1371816917  44.959148  -85.884734   \n",
              "...                                  ...         ...        ...         ...   \n",
              "555714  9b1f753c79894c9f4b71f04581835ada  1388534347  39.946837  -91.333331   \n",
              "555715  2090647dac2c89a1d86c514c427f5b91  1388534349  29.661049  -96.186633   \n",
              "555716  6c5b7c8add471975aa0fec023b2e8408  1388534355  46.658340 -119.715054   \n",
              "555717  14392d723bb7737606b2700ac791b7aa  1388534364  44.470525 -117.080888   \n",
              "555718  1765bb45b3aa3224b4cdcb6e7a96cee3  1388534374  36.210097  -97.036372   \n",
              "\n",
              "        is_fraud  \n",
              "0              0  \n",
              "1              0  \n",
              "2              0  \n",
              "3              0  \n",
              "4              0  \n",
              "...          ...  \n",
              "555714         0  \n",
              "555715         0  \n",
              "555716         0  \n",
              "555717         0  \n",
              "555718         0  \n",
              "\n",
              "[555719 rows x 23 columns]"
            ],
            "text/html": [
              "\n",
              "  <div id=\"df-81bcc2eb-1961-4424-9b94-c2875f0a0f1c\" class=\"colab-df-container\">\n",
              "    <div>\n",
              "<style scoped>\n",
              "    .dataframe tbody tr th:only-of-type {\n",
              "        vertical-align: middle;\n",
              "    }\n",
              "\n",
              "    .dataframe tbody tr th {\n",
              "        vertical-align: top;\n",
              "    }\n",
              "\n",
              "    .dataframe thead th {\n",
              "        text-align: right;\n",
              "    }\n",
              "</style>\n",
              "<table border=\"1\" class=\"dataframe\">\n",
              "  <thead>\n",
              "    <tr style=\"text-align: right;\">\n",
              "      <th></th>\n",
              "      <th>Unnamed: 0</th>\n",
              "      <th>trans_date_trans_time</th>\n",
              "      <th>cc_num</th>\n",
              "      <th>merchant</th>\n",
              "      <th>category</th>\n",
              "      <th>amt</th>\n",
              "      <th>first</th>\n",
              "      <th>last</th>\n",
              "      <th>gender</th>\n",
              "      <th>street</th>\n",
              "      <th>...</th>\n",
              "      <th>lat</th>\n",
              "      <th>long</th>\n",
              "      <th>city_pop</th>\n",
              "      <th>job</th>\n",
              "      <th>dob</th>\n",
              "      <th>trans_num</th>\n",
              "      <th>unix_time</th>\n",
              "      <th>merch_lat</th>\n",
              "      <th>merch_long</th>\n",
              "      <th>is_fraud</th>\n",
              "    </tr>\n",
              "  </thead>\n",
              "  <tbody>\n",
              "    <tr>\n",
              "      <th>0</th>\n",
              "      <td>0</td>\n",
              "      <td>2020-06-21 12:14:25</td>\n",
              "      <td>2291163933867244</td>\n",
              "      <td>fraud_Kirlin and Sons</td>\n",
              "      <td>personal_care</td>\n",
              "      <td>2.86</td>\n",
              "      <td>Jeff</td>\n",
              "      <td>Elliott</td>\n",
              "      <td>M</td>\n",
              "      <td>351 Darlene Green</td>\n",
              "      <td>...</td>\n",
              "      <td>33.9659</td>\n",
              "      <td>-80.9355</td>\n",
              "      <td>333497</td>\n",
              "      <td>Mechanical engineer</td>\n",
              "      <td>1968-03-19</td>\n",
              "      <td>2da90c7d74bd46a0caf3777415b3ebd3</td>\n",
              "      <td>1371816865</td>\n",
              "      <td>33.986391</td>\n",
              "      <td>-81.200714</td>\n",
              "      <td>0</td>\n",
              "    </tr>\n",
              "    <tr>\n",
              "      <th>1</th>\n",
              "      <td>1</td>\n",
              "      <td>2020-06-21 12:14:33</td>\n",
              "      <td>3573030041201292</td>\n",
              "      <td>fraud_Sporer-Keebler</td>\n",
              "      <td>personal_care</td>\n",
              "      <td>29.84</td>\n",
              "      <td>Joanne</td>\n",
              "      <td>Williams</td>\n",
              "      <td>F</td>\n",
              "      <td>3638 Marsh Union</td>\n",
              "      <td>...</td>\n",
              "      <td>40.3207</td>\n",
              "      <td>-110.4360</td>\n",
              "      <td>302</td>\n",
              "      <td>Sales professional, IT</td>\n",
              "      <td>1990-01-17</td>\n",
              "      <td>324cc204407e99f51b0d6ca0055005e7</td>\n",
              "      <td>1371816873</td>\n",
              "      <td>39.450498</td>\n",
              "      <td>-109.960431</td>\n",
              "      <td>0</td>\n",
              "    </tr>\n",
              "    <tr>\n",
              "      <th>2</th>\n",
              "      <td>2</td>\n",
              "      <td>2020-06-21 12:14:53</td>\n",
              "      <td>3598215285024754</td>\n",
              "      <td>fraud_Swaniawski, Nitzsche and Welch</td>\n",
              "      <td>health_fitness</td>\n",
              "      <td>41.28</td>\n",
              "      <td>Ashley</td>\n",
              "      <td>Lopez</td>\n",
              "      <td>F</td>\n",
              "      <td>9333 Valentine Point</td>\n",
              "      <td>...</td>\n",
              "      <td>40.6729</td>\n",
              "      <td>-73.5365</td>\n",
              "      <td>34496</td>\n",
              "      <td>Librarian, public</td>\n",
              "      <td>1970-10-21</td>\n",
              "      <td>c81755dbbbea9d5c77f094348a7579be</td>\n",
              "      <td>1371816893</td>\n",
              "      <td>40.495810</td>\n",
              "      <td>-74.196111</td>\n",
              "      <td>0</td>\n",
              "    </tr>\n",
              "    <tr>\n",
              "      <th>3</th>\n",
              "      <td>3</td>\n",
              "      <td>2020-06-21 12:15:15</td>\n",
              "      <td>3591919803438423</td>\n",
              "      <td>fraud_Haley Group</td>\n",
              "      <td>misc_pos</td>\n",
              "      <td>60.05</td>\n",
              "      <td>Brian</td>\n",
              "      <td>Williams</td>\n",
              "      <td>M</td>\n",
              "      <td>32941 Krystal Mill Apt. 552</td>\n",
              "      <td>...</td>\n",
              "      <td>28.5697</td>\n",
              "      <td>-80.8191</td>\n",
              "      <td>54767</td>\n",
              "      <td>Set designer</td>\n",
              "      <td>1987-07-25</td>\n",
              "      <td>2159175b9efe66dc301f149d3d5abf8c</td>\n",
              "      <td>1371816915</td>\n",
              "      <td>28.812398</td>\n",
              "      <td>-80.883061</td>\n",
              "      <td>0</td>\n",
              "    </tr>\n",
              "    <tr>\n",
              "      <th>4</th>\n",
              "      <td>4</td>\n",
              "      <td>2020-06-21 12:15:17</td>\n",
              "      <td>3526826139003047</td>\n",
              "      <td>fraud_Johnston-Casper</td>\n",
              "      <td>travel</td>\n",
              "      <td>3.19</td>\n",
              "      <td>Nathan</td>\n",
              "      <td>Massey</td>\n",
              "      <td>M</td>\n",
              "      <td>5783 Evan Roads Apt. 465</td>\n",
              "      <td>...</td>\n",
              "      <td>44.2529</td>\n",
              "      <td>-85.0170</td>\n",
              "      <td>1126</td>\n",
              "      <td>Furniture designer</td>\n",
              "      <td>1955-07-06</td>\n",
              "      <td>57ff021bd3f328f8738bb535c302a31b</td>\n",
              "      <td>1371816917</td>\n",
              "      <td>44.959148</td>\n",
              "      <td>-85.884734</td>\n",
              "      <td>0</td>\n",
              "    </tr>\n",
              "    <tr>\n",
              "      <th>...</th>\n",
              "      <td>...</td>\n",
              "      <td>...</td>\n",
              "      <td>...</td>\n",
              "      <td>...</td>\n",
              "      <td>...</td>\n",
              "      <td>...</td>\n",
              "      <td>...</td>\n",
              "      <td>...</td>\n",
              "      <td>...</td>\n",
              "      <td>...</td>\n",
              "      <td>...</td>\n",
              "      <td>...</td>\n",
              "      <td>...</td>\n",
              "      <td>...</td>\n",
              "      <td>...</td>\n",
              "      <td>...</td>\n",
              "      <td>...</td>\n",
              "      <td>...</td>\n",
              "      <td>...</td>\n",
              "      <td>...</td>\n",
              "      <td>...</td>\n",
              "    </tr>\n",
              "    <tr>\n",
              "      <th>555714</th>\n",
              "      <td>555714</td>\n",
              "      <td>2020-12-31 23:59:07</td>\n",
              "      <td>30560609640617</td>\n",
              "      <td>fraud_Reilly and Sons</td>\n",
              "      <td>health_fitness</td>\n",
              "      <td>43.77</td>\n",
              "      <td>Michael</td>\n",
              "      <td>Olson</td>\n",
              "      <td>M</td>\n",
              "      <td>558 Michael Estates</td>\n",
              "      <td>...</td>\n",
              "      <td>40.4931</td>\n",
              "      <td>-91.8912</td>\n",
              "      <td>519</td>\n",
              "      <td>Town planner</td>\n",
              "      <td>1966-02-13</td>\n",
              "      <td>9b1f753c79894c9f4b71f04581835ada</td>\n",
              "      <td>1388534347</td>\n",
              "      <td>39.946837</td>\n",
              "      <td>-91.333331</td>\n",
              "      <td>0</td>\n",
              "    </tr>\n",
              "    <tr>\n",
              "      <th>555715</th>\n",
              "      <td>555715</td>\n",
              "      <td>2020-12-31 23:59:09</td>\n",
              "      <td>3556613125071656</td>\n",
              "      <td>fraud_Hoppe-Parisian</td>\n",
              "      <td>kids_pets</td>\n",
              "      <td>111.84</td>\n",
              "      <td>Jose</td>\n",
              "      <td>Vasquez</td>\n",
              "      <td>M</td>\n",
              "      <td>572 Davis Mountains</td>\n",
              "      <td>...</td>\n",
              "      <td>29.0393</td>\n",
              "      <td>-95.4401</td>\n",
              "      <td>28739</td>\n",
              "      <td>Futures trader</td>\n",
              "      <td>1999-12-27</td>\n",
              "      <td>2090647dac2c89a1d86c514c427f5b91</td>\n",
              "      <td>1388534349</td>\n",
              "      <td>29.661049</td>\n",
              "      <td>-96.186633</td>\n",
              "      <td>0</td>\n",
              "    </tr>\n",
              "    <tr>\n",
              "      <th>555716</th>\n",
              "      <td>555716</td>\n",
              "      <td>2020-12-31 23:59:15</td>\n",
              "      <td>6011724471098086</td>\n",
              "      <td>fraud_Rau-Robel</td>\n",
              "      <td>kids_pets</td>\n",
              "      <td>86.88</td>\n",
              "      <td>Ann</td>\n",
              "      <td>Lawson</td>\n",
              "      <td>F</td>\n",
              "      <td>144 Evans Islands Apt. 683</td>\n",
              "      <td>...</td>\n",
              "      <td>46.1966</td>\n",
              "      <td>-118.9017</td>\n",
              "      <td>3684</td>\n",
              "      <td>Musician</td>\n",
              "      <td>1981-11-29</td>\n",
              "      <td>6c5b7c8add471975aa0fec023b2e8408</td>\n",
              "      <td>1388534355</td>\n",
              "      <td>46.658340</td>\n",
              "      <td>-119.715054</td>\n",
              "      <td>0</td>\n",
              "    </tr>\n",
              "    <tr>\n",
              "      <th>555717</th>\n",
              "      <td>555717</td>\n",
              "      <td>2020-12-31 23:59:24</td>\n",
              "      <td>4079773899158</td>\n",
              "      <td>fraud_Breitenberg LLC</td>\n",
              "      <td>travel</td>\n",
              "      <td>7.99</td>\n",
              "      <td>Eric</td>\n",
              "      <td>Preston</td>\n",
              "      <td>M</td>\n",
              "      <td>7020 Doyle Stream Apt. 951</td>\n",
              "      <td>...</td>\n",
              "      <td>44.6255</td>\n",
              "      <td>-116.4493</td>\n",
              "      <td>129</td>\n",
              "      <td>Cartographer</td>\n",
              "      <td>1965-12-15</td>\n",
              "      <td>14392d723bb7737606b2700ac791b7aa</td>\n",
              "      <td>1388534364</td>\n",
              "      <td>44.470525</td>\n",
              "      <td>-117.080888</td>\n",
              "      <td>0</td>\n",
              "    </tr>\n",
              "    <tr>\n",
              "      <th>555718</th>\n",
              "      <td>555718</td>\n",
              "      <td>2020-12-31 23:59:34</td>\n",
              "      <td>4170689372027579</td>\n",
              "      <td>fraud_Dare-Marvin</td>\n",
              "      <td>entertainment</td>\n",
              "      <td>38.13</td>\n",
              "      <td>Samuel</td>\n",
              "      <td>Frey</td>\n",
              "      <td>M</td>\n",
              "      <td>830 Myers Plaza Apt. 384</td>\n",
              "      <td>...</td>\n",
              "      <td>35.6665</td>\n",
              "      <td>-97.4798</td>\n",
              "      <td>116001</td>\n",
              "      <td>Media buyer</td>\n",
              "      <td>1993-05-10</td>\n",
              "      <td>1765bb45b3aa3224b4cdcb6e7a96cee3</td>\n",
              "      <td>1388534374</td>\n",
              "      <td>36.210097</td>\n",
              "      <td>-97.036372</td>\n",
              "      <td>0</td>\n",
              "    </tr>\n",
              "  </tbody>\n",
              "</table>\n",
              "<p>555719 rows × 23 columns</p>\n",
              "</div>\n",
              "    <div class=\"colab-df-buttons\">\n",
              "\n",
              "  <div class=\"colab-df-container\">\n",
              "    <button class=\"colab-df-convert\" onclick=\"convertToInteractive('df-81bcc2eb-1961-4424-9b94-c2875f0a0f1c')\"\n",
              "            title=\"Convert this dataframe to an interactive table.\"\n",
              "            style=\"display:none;\">\n",
              "\n",
              "  <svg xmlns=\"http://www.w3.org/2000/svg\" height=\"24px\" viewBox=\"0 -960 960 960\">\n",
              "    <path d=\"M120-120v-720h720v720H120Zm60-500h600v-160H180v160Zm220 220h160v-160H400v160Zm0 220h160v-160H400v160ZM180-400h160v-160H180v160Zm440 0h160v-160H620v160ZM180-180h160v-160H180v160Zm440 0h160v-160H620v160Z\"/>\n",
              "  </svg>\n",
              "    </button>\n",
              "\n",
              "  <style>\n",
              "    .colab-df-container {\n",
              "      display:flex;\n",
              "      gap: 12px;\n",
              "    }\n",
              "\n",
              "    .colab-df-convert {\n",
              "      background-color: #E8F0FE;\n",
              "      border: none;\n",
              "      border-radius: 50%;\n",
              "      cursor: pointer;\n",
              "      display: none;\n",
              "      fill: #1967D2;\n",
              "      height: 32px;\n",
              "      padding: 0 0 0 0;\n",
              "      width: 32px;\n",
              "    }\n",
              "\n",
              "    .colab-df-convert:hover {\n",
              "      background-color: #E2EBFA;\n",
              "      box-shadow: 0px 1px 2px rgba(60, 64, 67, 0.3), 0px 1px 3px 1px rgba(60, 64, 67, 0.15);\n",
              "      fill: #174EA6;\n",
              "    }\n",
              "\n",
              "    .colab-df-buttons div {\n",
              "      margin-bottom: 4px;\n",
              "    }\n",
              "\n",
              "    [theme=dark] .colab-df-convert {\n",
              "      background-color: #3B4455;\n",
              "      fill: #D2E3FC;\n",
              "    }\n",
              "\n",
              "    [theme=dark] .colab-df-convert:hover {\n",
              "      background-color: #434B5C;\n",
              "      box-shadow: 0px 1px 3px 1px rgba(0, 0, 0, 0.15);\n",
              "      filter: drop-shadow(0px 1px 2px rgba(0, 0, 0, 0.3));\n",
              "      fill: #FFFFFF;\n",
              "    }\n",
              "  </style>\n",
              "\n",
              "    <script>\n",
              "      const buttonEl =\n",
              "        document.querySelector('#df-81bcc2eb-1961-4424-9b94-c2875f0a0f1c button.colab-df-convert');\n",
              "      buttonEl.style.display =\n",
              "        google.colab.kernel.accessAllowed ? 'block' : 'none';\n",
              "\n",
              "      async function convertToInteractive(key) {\n",
              "        const element = document.querySelector('#df-81bcc2eb-1961-4424-9b94-c2875f0a0f1c');\n",
              "        const dataTable =\n",
              "          await google.colab.kernel.invokeFunction('convertToInteractive',\n",
              "                                                    [key], {});\n",
              "        if (!dataTable) return;\n",
              "\n",
              "        const docLinkHtml = 'Like what you see? Visit the ' +\n",
              "          '<a target=\"_blank\" href=https://colab.research.google.com/notebooks/data_table.ipynb>data table notebook</a>'\n",
              "          + ' to learn more about interactive tables.';\n",
              "        element.innerHTML = '';\n",
              "        dataTable['output_type'] = 'display_data';\n",
              "        await google.colab.output.renderOutput(dataTable, element);\n",
              "        const docLink = document.createElement('div');\n",
              "        docLink.innerHTML = docLinkHtml;\n",
              "        element.appendChild(docLink);\n",
              "      }\n",
              "    </script>\n",
              "  </div>\n",
              "\n",
              "\n",
              "<div id=\"df-cbbbc155-766e-4426-8de5-06308c82a459\">\n",
              "  <button class=\"colab-df-quickchart\" onclick=\"quickchart('df-cbbbc155-766e-4426-8de5-06308c82a459')\"\n",
              "            title=\"Suggest charts\"\n",
              "            style=\"display:none;\">\n",
              "\n",
              "<svg xmlns=\"http://www.w3.org/2000/svg\" height=\"24px\"viewBox=\"0 0 24 24\"\n",
              "     width=\"24px\">\n",
              "    <g>\n",
              "        <path d=\"M19 3H5c-1.1 0-2 .9-2 2v14c0 1.1.9 2 2 2h14c1.1 0 2-.9 2-2V5c0-1.1-.9-2-2-2zM9 17H7v-7h2v7zm4 0h-2V7h2v10zm4 0h-2v-4h2v4z\"/>\n",
              "    </g>\n",
              "</svg>\n",
              "  </button>\n",
              "\n",
              "<style>\n",
              "  .colab-df-quickchart {\n",
              "      --bg-color: #E8F0FE;\n",
              "      --fill-color: #1967D2;\n",
              "      --hover-bg-color: #E2EBFA;\n",
              "      --hover-fill-color: #174EA6;\n",
              "      --disabled-fill-color: #AAA;\n",
              "      --disabled-bg-color: #DDD;\n",
              "  }\n",
              "\n",
              "  [theme=dark] .colab-df-quickchart {\n",
              "      --bg-color: #3B4455;\n",
              "      --fill-color: #D2E3FC;\n",
              "      --hover-bg-color: #434B5C;\n",
              "      --hover-fill-color: #FFFFFF;\n",
              "      --disabled-bg-color: #3B4455;\n",
              "      --disabled-fill-color: #666;\n",
              "  }\n",
              "\n",
              "  .colab-df-quickchart {\n",
              "    background-color: var(--bg-color);\n",
              "    border: none;\n",
              "    border-radius: 50%;\n",
              "    cursor: pointer;\n",
              "    display: none;\n",
              "    fill: var(--fill-color);\n",
              "    height: 32px;\n",
              "    padding: 0;\n",
              "    width: 32px;\n",
              "  }\n",
              "\n",
              "  .colab-df-quickchart:hover {\n",
              "    background-color: var(--hover-bg-color);\n",
              "    box-shadow: 0 1px 2px rgba(60, 64, 67, 0.3), 0 1px 3px 1px rgba(60, 64, 67, 0.15);\n",
              "    fill: var(--button-hover-fill-color);\n",
              "  }\n",
              "\n",
              "  .colab-df-quickchart-complete:disabled,\n",
              "  .colab-df-quickchart-complete:disabled:hover {\n",
              "    background-color: var(--disabled-bg-color);\n",
              "    fill: var(--disabled-fill-color);\n",
              "    box-shadow: none;\n",
              "  }\n",
              "\n",
              "  .colab-df-spinner {\n",
              "    border: 2px solid var(--fill-color);\n",
              "    border-color: transparent;\n",
              "    border-bottom-color: var(--fill-color);\n",
              "    animation:\n",
              "      spin 1s steps(1) infinite;\n",
              "  }\n",
              "\n",
              "  @keyframes spin {\n",
              "    0% {\n",
              "      border-color: transparent;\n",
              "      border-bottom-color: var(--fill-color);\n",
              "      border-left-color: var(--fill-color);\n",
              "    }\n",
              "    20% {\n",
              "      border-color: transparent;\n",
              "      border-left-color: var(--fill-color);\n",
              "      border-top-color: var(--fill-color);\n",
              "    }\n",
              "    30% {\n",
              "      border-color: transparent;\n",
              "      border-left-color: var(--fill-color);\n",
              "      border-top-color: var(--fill-color);\n",
              "      border-right-color: var(--fill-color);\n",
              "    }\n",
              "    40% {\n",
              "      border-color: transparent;\n",
              "      border-right-color: var(--fill-color);\n",
              "      border-top-color: var(--fill-color);\n",
              "    }\n",
              "    60% {\n",
              "      border-color: transparent;\n",
              "      border-right-color: var(--fill-color);\n",
              "    }\n",
              "    80% {\n",
              "      border-color: transparent;\n",
              "      border-right-color: var(--fill-color);\n",
              "      border-bottom-color: var(--fill-color);\n",
              "    }\n",
              "    90% {\n",
              "      border-color: transparent;\n",
              "      border-bottom-color: var(--fill-color);\n",
              "    }\n",
              "  }\n",
              "</style>\n",
              "\n",
              "  <script>\n",
              "    async function quickchart(key) {\n",
              "      const quickchartButtonEl =\n",
              "        document.querySelector('#' + key + ' button');\n",
              "      quickchartButtonEl.disabled = true;  // To prevent multiple clicks.\n",
              "      quickchartButtonEl.classList.add('colab-df-spinner');\n",
              "      try {\n",
              "        const charts = await google.colab.kernel.invokeFunction(\n",
              "            'suggestCharts', [key], {});\n",
              "      } catch (error) {\n",
              "        console.error('Error during call to suggestCharts:', error);\n",
              "      }\n",
              "      quickchartButtonEl.classList.remove('colab-df-spinner');\n",
              "      quickchartButtonEl.classList.add('colab-df-quickchart-complete');\n",
              "    }\n",
              "    (() => {\n",
              "      let quickchartButtonEl =\n",
              "        document.querySelector('#df-cbbbc155-766e-4426-8de5-06308c82a459 button');\n",
              "      quickchartButtonEl.style.display =\n",
              "        google.colab.kernel.accessAllowed ? 'block' : 'none';\n",
              "    })();\n",
              "  </script>\n",
              "</div>\n",
              "\n",
              "    </div>\n",
              "  </div>\n"
            ],
            "application/vnd.google.colaboratory.intrinsic+json": {
              "type": "dataframe"
            }
          },
          "metadata": {},
          "execution_count": 248
        }
      ]
    },
    {
      "cell_type": "markdown",
      "source": [
        "no duplicate rows were found.\n",
        "\n",
        ">Dropping the unnamed : 0 column as there is no need for the counting"
      ],
      "metadata": {
        "id": "4HzsbSPnthJq"
      }
    },
    {
      "cell_type": "code",
      "source": [
        "credit.drop('Unnamed: 0', axis=1, inplace=True)"
      ],
      "metadata": {
        "id": "Vk24LRjgtZ4X"
      },
      "execution_count": null,
      "outputs": []
    },
    {
      "cell_type": "code",
      "source": [
        "credit.head()"
      ],
      "metadata": {
        "colab": {
          "base_uri": "https://localhost:8080/",
          "height": 464
        },
        "id": "morUdlITuAoG",
        "outputId": "29bef68a-c91a-4643-e948-7d3de83596f6"
      },
      "execution_count": null,
      "outputs": [
        {
          "output_type": "execute_result",
          "data": {
            "text/plain": [
              "  trans_date_trans_time            cc_num  \\\n",
              "0   2020-06-21 12:14:25  2291163933867244   \n",
              "1   2020-06-21 12:14:33  3573030041201292   \n",
              "2   2020-06-21 12:14:53  3598215285024754   \n",
              "3   2020-06-21 12:15:15  3591919803438423   \n",
              "4   2020-06-21 12:15:17  3526826139003047   \n",
              "\n",
              "                               merchant        category    amt   first  \\\n",
              "0                 fraud_Kirlin and Sons   personal_care   2.86    Jeff   \n",
              "1                  fraud_Sporer-Keebler   personal_care  29.84  Joanne   \n",
              "2  fraud_Swaniawski, Nitzsche and Welch  health_fitness  41.28  Ashley   \n",
              "3                     fraud_Haley Group        misc_pos  60.05   Brian   \n",
              "4                 fraud_Johnston-Casper          travel   3.19  Nathan   \n",
              "\n",
              "       last gender                       street        city  ...      lat  \\\n",
              "0   Elliott      M            351 Darlene Green    Columbia  ...  33.9659   \n",
              "1  Williams      F             3638 Marsh Union     Altonah  ...  40.3207   \n",
              "2     Lopez      F         9333 Valentine Point    Bellmore  ...  40.6729   \n",
              "3  Williams      M  32941 Krystal Mill Apt. 552  Titusville  ...  28.5697   \n",
              "4    Massey      M     5783 Evan Roads Apt. 465    Falmouth  ...  44.2529   \n",
              "\n",
              "       long  city_pop                     job         dob  \\\n",
              "0  -80.9355    333497     Mechanical engineer  1968-03-19   \n",
              "1 -110.4360       302  Sales professional, IT  1990-01-17   \n",
              "2  -73.5365     34496       Librarian, public  1970-10-21   \n",
              "3  -80.8191     54767            Set designer  1987-07-25   \n",
              "4  -85.0170      1126      Furniture designer  1955-07-06   \n",
              "\n",
              "                          trans_num   unix_time  merch_lat  merch_long  \\\n",
              "0  2da90c7d74bd46a0caf3777415b3ebd3  1371816865  33.986391  -81.200714   \n",
              "1  324cc204407e99f51b0d6ca0055005e7  1371816873  39.450498 -109.960431   \n",
              "2  c81755dbbbea9d5c77f094348a7579be  1371816893  40.495810  -74.196111   \n",
              "3  2159175b9efe66dc301f149d3d5abf8c  1371816915  28.812398  -80.883061   \n",
              "4  57ff021bd3f328f8738bb535c302a31b  1371816917  44.959148  -85.884734   \n",
              "\n",
              "   is_fraud  \n",
              "0         0  \n",
              "1         0  \n",
              "2         0  \n",
              "3         0  \n",
              "4         0  \n",
              "\n",
              "[5 rows x 22 columns]"
            ],
            "text/html": [
              "\n",
              "  <div id=\"df-38c6461c-da7d-4ea0-8a61-f7d5f81a4fcb\" class=\"colab-df-container\">\n",
              "    <div>\n",
              "<style scoped>\n",
              "    .dataframe tbody tr th:only-of-type {\n",
              "        vertical-align: middle;\n",
              "    }\n",
              "\n",
              "    .dataframe tbody tr th {\n",
              "        vertical-align: top;\n",
              "    }\n",
              "\n",
              "    .dataframe thead th {\n",
              "        text-align: right;\n",
              "    }\n",
              "</style>\n",
              "<table border=\"1\" class=\"dataframe\">\n",
              "  <thead>\n",
              "    <tr style=\"text-align: right;\">\n",
              "      <th></th>\n",
              "      <th>trans_date_trans_time</th>\n",
              "      <th>cc_num</th>\n",
              "      <th>merchant</th>\n",
              "      <th>category</th>\n",
              "      <th>amt</th>\n",
              "      <th>first</th>\n",
              "      <th>last</th>\n",
              "      <th>gender</th>\n",
              "      <th>street</th>\n",
              "      <th>city</th>\n",
              "      <th>...</th>\n",
              "      <th>lat</th>\n",
              "      <th>long</th>\n",
              "      <th>city_pop</th>\n",
              "      <th>job</th>\n",
              "      <th>dob</th>\n",
              "      <th>trans_num</th>\n",
              "      <th>unix_time</th>\n",
              "      <th>merch_lat</th>\n",
              "      <th>merch_long</th>\n",
              "      <th>is_fraud</th>\n",
              "    </tr>\n",
              "  </thead>\n",
              "  <tbody>\n",
              "    <tr>\n",
              "      <th>0</th>\n",
              "      <td>2020-06-21 12:14:25</td>\n",
              "      <td>2291163933867244</td>\n",
              "      <td>fraud_Kirlin and Sons</td>\n",
              "      <td>personal_care</td>\n",
              "      <td>2.86</td>\n",
              "      <td>Jeff</td>\n",
              "      <td>Elliott</td>\n",
              "      <td>M</td>\n",
              "      <td>351 Darlene Green</td>\n",
              "      <td>Columbia</td>\n",
              "      <td>...</td>\n",
              "      <td>33.9659</td>\n",
              "      <td>-80.9355</td>\n",
              "      <td>333497</td>\n",
              "      <td>Mechanical engineer</td>\n",
              "      <td>1968-03-19</td>\n",
              "      <td>2da90c7d74bd46a0caf3777415b3ebd3</td>\n",
              "      <td>1371816865</td>\n",
              "      <td>33.986391</td>\n",
              "      <td>-81.200714</td>\n",
              "      <td>0</td>\n",
              "    </tr>\n",
              "    <tr>\n",
              "      <th>1</th>\n",
              "      <td>2020-06-21 12:14:33</td>\n",
              "      <td>3573030041201292</td>\n",
              "      <td>fraud_Sporer-Keebler</td>\n",
              "      <td>personal_care</td>\n",
              "      <td>29.84</td>\n",
              "      <td>Joanne</td>\n",
              "      <td>Williams</td>\n",
              "      <td>F</td>\n",
              "      <td>3638 Marsh Union</td>\n",
              "      <td>Altonah</td>\n",
              "      <td>...</td>\n",
              "      <td>40.3207</td>\n",
              "      <td>-110.4360</td>\n",
              "      <td>302</td>\n",
              "      <td>Sales professional, IT</td>\n",
              "      <td>1990-01-17</td>\n",
              "      <td>324cc204407e99f51b0d6ca0055005e7</td>\n",
              "      <td>1371816873</td>\n",
              "      <td>39.450498</td>\n",
              "      <td>-109.960431</td>\n",
              "      <td>0</td>\n",
              "    </tr>\n",
              "    <tr>\n",
              "      <th>2</th>\n",
              "      <td>2020-06-21 12:14:53</td>\n",
              "      <td>3598215285024754</td>\n",
              "      <td>fraud_Swaniawski, Nitzsche and Welch</td>\n",
              "      <td>health_fitness</td>\n",
              "      <td>41.28</td>\n",
              "      <td>Ashley</td>\n",
              "      <td>Lopez</td>\n",
              "      <td>F</td>\n",
              "      <td>9333 Valentine Point</td>\n",
              "      <td>Bellmore</td>\n",
              "      <td>...</td>\n",
              "      <td>40.6729</td>\n",
              "      <td>-73.5365</td>\n",
              "      <td>34496</td>\n",
              "      <td>Librarian, public</td>\n",
              "      <td>1970-10-21</td>\n",
              "      <td>c81755dbbbea9d5c77f094348a7579be</td>\n",
              "      <td>1371816893</td>\n",
              "      <td>40.495810</td>\n",
              "      <td>-74.196111</td>\n",
              "      <td>0</td>\n",
              "    </tr>\n",
              "    <tr>\n",
              "      <th>3</th>\n",
              "      <td>2020-06-21 12:15:15</td>\n",
              "      <td>3591919803438423</td>\n",
              "      <td>fraud_Haley Group</td>\n",
              "      <td>misc_pos</td>\n",
              "      <td>60.05</td>\n",
              "      <td>Brian</td>\n",
              "      <td>Williams</td>\n",
              "      <td>M</td>\n",
              "      <td>32941 Krystal Mill Apt. 552</td>\n",
              "      <td>Titusville</td>\n",
              "      <td>...</td>\n",
              "      <td>28.5697</td>\n",
              "      <td>-80.8191</td>\n",
              "      <td>54767</td>\n",
              "      <td>Set designer</td>\n",
              "      <td>1987-07-25</td>\n",
              "      <td>2159175b9efe66dc301f149d3d5abf8c</td>\n",
              "      <td>1371816915</td>\n",
              "      <td>28.812398</td>\n",
              "      <td>-80.883061</td>\n",
              "      <td>0</td>\n",
              "    </tr>\n",
              "    <tr>\n",
              "      <th>4</th>\n",
              "      <td>2020-06-21 12:15:17</td>\n",
              "      <td>3526826139003047</td>\n",
              "      <td>fraud_Johnston-Casper</td>\n",
              "      <td>travel</td>\n",
              "      <td>3.19</td>\n",
              "      <td>Nathan</td>\n",
              "      <td>Massey</td>\n",
              "      <td>M</td>\n",
              "      <td>5783 Evan Roads Apt. 465</td>\n",
              "      <td>Falmouth</td>\n",
              "      <td>...</td>\n",
              "      <td>44.2529</td>\n",
              "      <td>-85.0170</td>\n",
              "      <td>1126</td>\n",
              "      <td>Furniture designer</td>\n",
              "      <td>1955-07-06</td>\n",
              "      <td>57ff021bd3f328f8738bb535c302a31b</td>\n",
              "      <td>1371816917</td>\n",
              "      <td>44.959148</td>\n",
              "      <td>-85.884734</td>\n",
              "      <td>0</td>\n",
              "    </tr>\n",
              "  </tbody>\n",
              "</table>\n",
              "<p>5 rows × 22 columns</p>\n",
              "</div>\n",
              "    <div class=\"colab-df-buttons\">\n",
              "\n",
              "  <div class=\"colab-df-container\">\n",
              "    <button class=\"colab-df-convert\" onclick=\"convertToInteractive('df-38c6461c-da7d-4ea0-8a61-f7d5f81a4fcb')\"\n",
              "            title=\"Convert this dataframe to an interactive table.\"\n",
              "            style=\"display:none;\">\n",
              "\n",
              "  <svg xmlns=\"http://www.w3.org/2000/svg\" height=\"24px\" viewBox=\"0 -960 960 960\">\n",
              "    <path d=\"M120-120v-720h720v720H120Zm60-500h600v-160H180v160Zm220 220h160v-160H400v160Zm0 220h160v-160H400v160ZM180-400h160v-160H180v160Zm440 0h160v-160H620v160ZM180-180h160v-160H180v160Zm440 0h160v-160H620v160Z\"/>\n",
              "  </svg>\n",
              "    </button>\n",
              "\n",
              "  <style>\n",
              "    .colab-df-container {\n",
              "      display:flex;\n",
              "      gap: 12px;\n",
              "    }\n",
              "\n",
              "    .colab-df-convert {\n",
              "      background-color: #E8F0FE;\n",
              "      border: none;\n",
              "      border-radius: 50%;\n",
              "      cursor: pointer;\n",
              "      display: none;\n",
              "      fill: #1967D2;\n",
              "      height: 32px;\n",
              "      padding: 0 0 0 0;\n",
              "      width: 32px;\n",
              "    }\n",
              "\n",
              "    .colab-df-convert:hover {\n",
              "      background-color: #E2EBFA;\n",
              "      box-shadow: 0px 1px 2px rgba(60, 64, 67, 0.3), 0px 1px 3px 1px rgba(60, 64, 67, 0.15);\n",
              "      fill: #174EA6;\n",
              "    }\n",
              "\n",
              "    .colab-df-buttons div {\n",
              "      margin-bottom: 4px;\n",
              "    }\n",
              "\n",
              "    [theme=dark] .colab-df-convert {\n",
              "      background-color: #3B4455;\n",
              "      fill: #D2E3FC;\n",
              "    }\n",
              "\n",
              "    [theme=dark] .colab-df-convert:hover {\n",
              "      background-color: #434B5C;\n",
              "      box-shadow: 0px 1px 3px 1px rgba(0, 0, 0, 0.15);\n",
              "      filter: drop-shadow(0px 1px 2px rgba(0, 0, 0, 0.3));\n",
              "      fill: #FFFFFF;\n",
              "    }\n",
              "  </style>\n",
              "\n",
              "    <script>\n",
              "      const buttonEl =\n",
              "        document.querySelector('#df-38c6461c-da7d-4ea0-8a61-f7d5f81a4fcb button.colab-df-convert');\n",
              "      buttonEl.style.display =\n",
              "        google.colab.kernel.accessAllowed ? 'block' : 'none';\n",
              "\n",
              "      async function convertToInteractive(key) {\n",
              "        const element = document.querySelector('#df-38c6461c-da7d-4ea0-8a61-f7d5f81a4fcb');\n",
              "        const dataTable =\n",
              "          await google.colab.kernel.invokeFunction('convertToInteractive',\n",
              "                                                    [key], {});\n",
              "        if (!dataTable) return;\n",
              "\n",
              "        const docLinkHtml = 'Like what you see? Visit the ' +\n",
              "          '<a target=\"_blank\" href=https://colab.research.google.com/notebooks/data_table.ipynb>data table notebook</a>'\n",
              "          + ' to learn more about interactive tables.';\n",
              "        element.innerHTML = '';\n",
              "        dataTable['output_type'] = 'display_data';\n",
              "        await google.colab.output.renderOutput(dataTable, element);\n",
              "        const docLink = document.createElement('div');\n",
              "        docLink.innerHTML = docLinkHtml;\n",
              "        element.appendChild(docLink);\n",
              "      }\n",
              "    </script>\n",
              "  </div>\n",
              "\n",
              "\n",
              "<div id=\"df-96a2c016-73ba-4382-90ba-6801eda188b7\">\n",
              "  <button class=\"colab-df-quickchart\" onclick=\"quickchart('df-96a2c016-73ba-4382-90ba-6801eda188b7')\"\n",
              "            title=\"Suggest charts\"\n",
              "            style=\"display:none;\">\n",
              "\n",
              "<svg xmlns=\"http://www.w3.org/2000/svg\" height=\"24px\"viewBox=\"0 0 24 24\"\n",
              "     width=\"24px\">\n",
              "    <g>\n",
              "        <path d=\"M19 3H5c-1.1 0-2 .9-2 2v14c0 1.1.9 2 2 2h14c1.1 0 2-.9 2-2V5c0-1.1-.9-2-2-2zM9 17H7v-7h2v7zm4 0h-2V7h2v10zm4 0h-2v-4h2v4z\"/>\n",
              "    </g>\n",
              "</svg>\n",
              "  </button>\n",
              "\n",
              "<style>\n",
              "  .colab-df-quickchart {\n",
              "      --bg-color: #E8F0FE;\n",
              "      --fill-color: #1967D2;\n",
              "      --hover-bg-color: #E2EBFA;\n",
              "      --hover-fill-color: #174EA6;\n",
              "      --disabled-fill-color: #AAA;\n",
              "      --disabled-bg-color: #DDD;\n",
              "  }\n",
              "\n",
              "  [theme=dark] .colab-df-quickchart {\n",
              "      --bg-color: #3B4455;\n",
              "      --fill-color: #D2E3FC;\n",
              "      --hover-bg-color: #434B5C;\n",
              "      --hover-fill-color: #FFFFFF;\n",
              "      --disabled-bg-color: #3B4455;\n",
              "      --disabled-fill-color: #666;\n",
              "  }\n",
              "\n",
              "  .colab-df-quickchart {\n",
              "    background-color: var(--bg-color);\n",
              "    border: none;\n",
              "    border-radius: 50%;\n",
              "    cursor: pointer;\n",
              "    display: none;\n",
              "    fill: var(--fill-color);\n",
              "    height: 32px;\n",
              "    padding: 0;\n",
              "    width: 32px;\n",
              "  }\n",
              "\n",
              "  .colab-df-quickchart:hover {\n",
              "    background-color: var(--hover-bg-color);\n",
              "    box-shadow: 0 1px 2px rgba(60, 64, 67, 0.3), 0 1px 3px 1px rgba(60, 64, 67, 0.15);\n",
              "    fill: var(--button-hover-fill-color);\n",
              "  }\n",
              "\n",
              "  .colab-df-quickchart-complete:disabled,\n",
              "  .colab-df-quickchart-complete:disabled:hover {\n",
              "    background-color: var(--disabled-bg-color);\n",
              "    fill: var(--disabled-fill-color);\n",
              "    box-shadow: none;\n",
              "  }\n",
              "\n",
              "  .colab-df-spinner {\n",
              "    border: 2px solid var(--fill-color);\n",
              "    border-color: transparent;\n",
              "    border-bottom-color: var(--fill-color);\n",
              "    animation:\n",
              "      spin 1s steps(1) infinite;\n",
              "  }\n",
              "\n",
              "  @keyframes spin {\n",
              "    0% {\n",
              "      border-color: transparent;\n",
              "      border-bottom-color: var(--fill-color);\n",
              "      border-left-color: var(--fill-color);\n",
              "    }\n",
              "    20% {\n",
              "      border-color: transparent;\n",
              "      border-left-color: var(--fill-color);\n",
              "      border-top-color: var(--fill-color);\n",
              "    }\n",
              "    30% {\n",
              "      border-color: transparent;\n",
              "      border-left-color: var(--fill-color);\n",
              "      border-top-color: var(--fill-color);\n",
              "      border-right-color: var(--fill-color);\n",
              "    }\n",
              "    40% {\n",
              "      border-color: transparent;\n",
              "      border-right-color: var(--fill-color);\n",
              "      border-top-color: var(--fill-color);\n",
              "    }\n",
              "    60% {\n",
              "      border-color: transparent;\n",
              "      border-right-color: var(--fill-color);\n",
              "    }\n",
              "    80% {\n",
              "      border-color: transparent;\n",
              "      border-right-color: var(--fill-color);\n",
              "      border-bottom-color: var(--fill-color);\n",
              "    }\n",
              "    90% {\n",
              "      border-color: transparent;\n",
              "      border-bottom-color: var(--fill-color);\n",
              "    }\n",
              "  }\n",
              "</style>\n",
              "\n",
              "  <script>\n",
              "    async function quickchart(key) {\n",
              "      const quickchartButtonEl =\n",
              "        document.querySelector('#' + key + ' button');\n",
              "      quickchartButtonEl.disabled = true;  // To prevent multiple clicks.\n",
              "      quickchartButtonEl.classList.add('colab-df-spinner');\n",
              "      try {\n",
              "        const charts = await google.colab.kernel.invokeFunction(\n",
              "            'suggestCharts', [key], {});\n",
              "      } catch (error) {\n",
              "        console.error('Error during call to suggestCharts:', error);\n",
              "      }\n",
              "      quickchartButtonEl.classList.remove('colab-df-spinner');\n",
              "      quickchartButtonEl.classList.add('colab-df-quickchart-complete');\n",
              "    }\n",
              "    (() => {\n",
              "      let quickchartButtonEl =\n",
              "        document.querySelector('#df-96a2c016-73ba-4382-90ba-6801eda188b7 button');\n",
              "      quickchartButtonEl.style.display =\n",
              "        google.colab.kernel.accessAllowed ? 'block' : 'none';\n",
              "    })();\n",
              "  </script>\n",
              "</div>\n",
              "\n",
              "    </div>\n",
              "  </div>\n"
            ],
            "application/vnd.google.colaboratory.intrinsic+json": {
              "type": "dataframe",
              "variable_name": "credit"
            }
          },
          "metadata": {},
          "execution_count": 250
        }
      ]
    },
    {
      "cell_type": "markdown",
      "source": [
        "# Checking for missing values"
      ],
      "metadata": {
        "id": "MyDgeeOjurwd"
      }
    },
    {
      "cell_type": "code",
      "source": [
        "credit.isna().sum()"
      ],
      "metadata": {
        "colab": {
          "base_uri": "https://localhost:8080/"
        },
        "id": "GlbLsfKiuLub",
        "outputId": "a022bbb4-b012-46aa-ae6e-04f97f21978a"
      },
      "execution_count": null,
      "outputs": [
        {
          "output_type": "execute_result",
          "data": {
            "text/plain": [
              "trans_date_trans_time    0\n",
              "cc_num                   0\n",
              "merchant                 0\n",
              "category                 0\n",
              "amt                      0\n",
              "first                    0\n",
              "last                     0\n",
              "gender                   0\n",
              "street                   0\n",
              "city                     0\n",
              "state                    0\n",
              "zip                      0\n",
              "lat                      0\n",
              "long                     0\n",
              "city_pop                 0\n",
              "job                      0\n",
              "dob                      0\n",
              "trans_num                0\n",
              "unix_time                0\n",
              "merch_lat                0\n",
              "merch_long               0\n",
              "is_fraud                 0\n",
              "dtype: int64"
            ]
          },
          "metadata": {},
          "execution_count": 251
        }
      ]
    },
    {
      "cell_type": "markdown",
      "source": [
        "No missing values in data.\n",
        "\n",
        "> So no , need to drop na values\n",
        "\n",
        "# Our Target Column is is_fraud '0' means no fraud '1' means fraud\n",
        "\n",
        "> so lets check the total count of frauds and non frauds\n",
        "\n"
      ],
      "metadata": {
        "id": "SZQckpbpu0pe"
      }
    },
    {
      "cell_type": "code",
      "source": [
        "credit['is_fraud'].value_counts()"
      ],
      "metadata": {
        "colab": {
          "base_uri": "https://localhost:8080/"
        },
        "id": "lhZVhzqGxHQL",
        "outputId": "78a4bc3e-a58e-4e2f-db44-b3b635e2b390"
      },
      "execution_count": null,
      "outputs": [
        {
          "output_type": "execute_result",
          "data": {
            "text/plain": [
              "is_fraud\n",
              "0    553574\n",
              "1      2145\n",
              "Name: count, dtype: int64"
            ]
          },
          "metadata": {},
          "execution_count": 252
        }
      ]
    },
    {
      "cell_type": "markdown",
      "source": [
        "# Plot class distribution for is_fraud column"
      ],
      "metadata": {
        "id": "ggU_kQS3yhtg"
      }
    },
    {
      "cell_type": "code",
      "source": [
        "plt.figure(figsize=(15,4))#(width,height)\n",
        "sns.countplot(y='is_fraud', data=credit,color='cyan')\n",
        "plt.title('Number of normal and fraud transactions')\n",
        "plt.show()"
      ],
      "metadata": {
        "colab": {
          "base_uri": "https://localhost:8080/",
          "height": 410
        },
        "id": "seeqIoPzyoFC",
        "outputId": "5fedf916-61d8-4942-ef57-3a480de3a918"
      },
      "execution_count": null,
      "outputs": [
        {
          "output_type": "display_data",
          "data": {
            "text/plain": [
              "<Figure size 1500x400 with 1 Axes>"
            ],
            "image/png": "[encoded data removed]"
          },
          "metadata": {}
        }
      ]
    },
    {
      "cell_type": "markdown",
      "source": [
        "# Plot class distribution for category column"
      ],
      "metadata": {
        "id": "Z2azTsWKyb3s"
      }
    },
    {
      "cell_type": "code",
      "source": [
        "plt.figure(figsize=(15,7))#(width,height)\n",
        "sns.countplot(y='category', data=credit,color='magenta')\n",
        "plt.title('transactions number based on category')\n",
        "plt.show()"
      ],
      "metadata": {
        "colab": {
          "base_uri": "https://localhost:8080/",
          "height": 641
        },
        "id": "YbQXdTCjuxSk",
        "outputId": "99a7062e-0d78-4d43-afb6-443b225c75b4"
      },
      "execution_count": null,
      "outputs": [
        {
          "output_type": "display_data",
          "data": {
            "text/plain": [
              "<Figure size 1500x700 with 1 Axes>"
            ],
            "image/png": "[encoded data removed]"
          },
          "metadata": {}
        }
      ]
    },
    {
      "cell_type": "code",
      "source": [
        "count_of_fraud_by_gender=credit[credit['is_fraud']==1]['gender'].value_counts()\n",
        "count_of_fraud_by_gender"
      ],
      "metadata": {
        "colab": {
          "base_uri": "https://localhost:8080/"
        },
        "id": "wQ8jdjrZwxOW",
        "outputId": "f06fcd7f-3416-47a2-c315-4737cd89bb3b"
      },
      "execution_count": null,
      "outputs": [
        {
          "output_type": "execute_result",
          "data": {
            "text/plain": [
              "gender\n",
              "F    1164\n",
              "M     981\n",
              "Name: count, dtype: int64"
            ]
          },
          "metadata": {},
          "execution_count": 255
        }
      ]
    },
    {
      "cell_type": "markdown",
      "source": [
        "# Frauds based on gender"
      ],
      "metadata": {
        "id": "GT9vR60n5zAs"
      }
    },
    {
      "cell_type": "code",
      "source": [
        "plt.figure(figsize=(15,7))#(width,height)w\n",
        "sns.barplot(x=count_of_fraud_by_gender.index,y=count_of_fraud_by_gender.values,palette='viridis')\n",
        "plt.title('transactions number based on gender')\n",
        "plt.show()"
      ],
      "metadata": {
        "colab": {
          "base_uri": "https://localhost:8080/",
          "height": 641
        },
        "id": "Fhhs65eXc0Fh",
        "outputId": "6659993a-2e79-4f20-d55d-a9d56c97a13d"
      },
      "execution_count": null,
      "outputs": [
        {
          "output_type": "display_data",
          "data": {
            "text/plain": [
              "<Figure size 1500x700 with 1 Axes>"
            ],
            "image/png": "[encoded data removed]"
          },
          "metadata": {}
        }
      ]
    },
    {
      "cell_type": "code",
      "source": [
        "count_of_fraud_by_merchant=credit[credit['is_fraud']==1]['merchant'].value_counts()\n",
        "count_of_fraud_by_merchant"
      ],
      "metadata": {
        "colab": {
          "base_uri": "https://localhost:8080/"
        },
        "id": "NFIx2McndvOg",
        "outputId": "20e0d2a8-926a-4ae4-831d-414776113c33"
      },
      "execution_count": null,
      "outputs": [
        {
          "output_type": "execute_result",
          "data": {
            "text/plain": [
              "merchant\n",
              "fraud_Romaguera, Cruickshank and Greenholt    18\n",
              "fraud_Lemke-Gutmann                           18\n",
              "fraud_Mosciski, Ziemann and Farrell           18\n",
              "fraud_Schultz, Simonis and Little             17\n",
              "fraud_Heathcote, Yost and Kertzmann           17\n",
              "                                              ..\n",
              "fraud_Dickinson-Rempel                         1\n",
              "fraud_Lind-Buckridge                           1\n",
              "fraud_Ernser-Feest                             1\n",
              "fraud_Dicki Ltd                                1\n",
              "fraud_Schulist Ltd                             1\n",
              "Name: count, Length: 557, dtype: int64"
            ]
          },
          "metadata": {},
          "execution_count": 257
        }
      ]
    },
    {
      "cell_type": "code",
      "source": [
        "credit['category'].value_counts()"
      ],
      "metadata": {
        "colab": {
          "base_uri": "https://localhost:8080/"
        },
        "id": "QbS1PjeLeySA",
        "outputId": "ab731ec9-49b4-4efb-cfb4-27a24304f48b"
      },
      "execution_count": null,
      "outputs": [
        {
          "output_type": "execute_result",
          "data": {
            "text/plain": [
              "category\n",
              "gas_transport     56370\n",
              "grocery_pos       52553\n",
              "home              52345\n",
              "shopping_pos      49791\n",
              "kids_pets         48692\n",
              "shopping_net      41779\n",
              "entertainment     40104\n",
              "personal_care     39327\n",
              "food_dining       39268\n",
              "health_fitness    36674\n",
              "misc_pos          34574\n",
              "misc_net          27367\n",
              "grocery_net       19426\n",
              "travel            17449\n",
              "Name: count, dtype: int64"
            ]
          },
          "metadata": {},
          "execution_count": 258
        }
      ]
    },
    {
      "cell_type": "code",
      "source": [
        "count_of_fraud_by_category=credit[credit['is_fraud']==1]['category'].value_counts()\n",
        "count_of_fraud_by_category"
      ],
      "metadata": {
        "colab": {
          "base_uri": "https://localhost:8080/"
        },
        "id": "B8V8tcySfmpJ",
        "outputId": "56808fe5-3c9a-43b4-d110-20b2811ce085"
      },
      "execution_count": null,
      "outputs": [
        {
          "output_type": "execute_result",
          "data": {
            "text/plain": [
              "category\n",
              "shopping_net      506\n",
              "grocery_pos       485\n",
              "misc_net          267\n",
              "shopping_pos      213\n",
              "gas_transport     154\n",
              "misc_pos           72\n",
              "personal_care      70\n",
              "home               67\n",
              "kids_pets          65\n",
              "entertainment      59\n",
              "food_dining        54\n",
              "health_fitness     52\n",
              "grocery_net        41\n",
              "travel             40\n",
              "Name: count, dtype: int64"
            ]
          },
          "metadata": {},
          "execution_count": 259
        }
      ]
    },
    {
      "cell_type": "markdown",
      "source": [
        "# Pie chart of category who has most frauds"
      ],
      "metadata": {
        "id": "EvrFYuAL6FKR"
      }
    },
    {
      "cell_type": "code",
      "source": [
        "explode=[0.05]*14\n",
        "plt.figure(figsize=(18,9))#(width,height)w\n",
        "count_of_fraud_by_category.plot(kind=\"pie\",autopct='%.2f%%',explode=explode)\n",
        "plt.show()"
      ],
      "metadata": {
        "colab": {
          "base_uri": "https://localhost:8080/",
          "height": 730
        },
        "id": "OAwYpaYwfS2B",
        "outputId": "2d6f8994-1b77-47c5-d5c1-ed4830219715"
      },
      "execution_count": null,
      "outputs": [
        {
          "output_type": "display_data",
          "data": {
            "text/plain": [
              "<Figure size 1800x900 with 1 Axes>"
            ],
            "image/png": "[encoded data removed]"
          },
          "metadata": {}
        }
      ]
    },
    {
      "cell_type": "code",
      "source": [
        "side_category_fraud = credit[credit['is_fraud'] == 1]['category']\n",
        "side_category_nofraud = credit[credit['is_fraud'] == 0]['category']\n",
        "plt.figure(figsize=(20,7))#(width,height)\n",
        "plt.hist([side_category_fraud ,side_category_nofraud ],bins=10, label=['Fraud : Yes', 'Fraud : No'], color=['blue', 'orange'], alpha=0.7)#density=True\n",
        "plt.title('Fraud  status according to category')\n",
        "plt.ylabel('fraud')\n",
        "plt.xlabel('category')\n",
        "plt.legend()\n",
        "plt.show()\n",
        "#change the y value or change plot ,yticks"
      ],
      "metadata": {
        "colab": {
          "base_uri": "https://localhost:8080/",
          "height": 641
        },
        "id": "KVeWtwU-fVrJ",
        "outputId": "09f4782c-ceef-4cce-eb1f-20ae8487d1b1"
      },
      "execution_count": null,
      "outputs": [
        {
          "output_type": "display_data",
          "data": {
            "text/plain": [
              "<Figure size 2000x700 with 1 Axes>"
            ],
            "image/png": "[encoded data removed]"
          },
          "metadata": {}
        }
      ]
    },
    {
      "cell_type": "code",
      "source": [
        "credit.columns"
      ],
      "metadata": {
        "colab": {
          "base_uri": "https://localhost:8080/"
        },
        "id": "kk52X5pSh0n6",
        "outputId": "cb826285-1f51-4042-bbcf-d858bacbbffc"
      },
      "execution_count": null,
      "outputs": [
        {
          "output_type": "execute_result",
          "data": {
            "text/plain": [
              "Index(['trans_date_trans_time', 'cc_num', 'merchant', 'category', 'amt',\n",
              "       'first', 'last', 'gender', 'street', 'city', 'state', 'zip', 'lat',\n",
              "       'long', 'city_pop', 'job', 'dob', 'trans_num', 'unix_time', 'merch_lat',\n",
              "       'merch_long', 'is_fraud'],\n",
              "      dtype='object')"
            ]
          },
          "metadata": {},
          "execution_count": 262
        }
      ]
    },
    {
      "cell_type": "markdown",
      "source": [
        "# time series data using line graph"
      ],
      "metadata": {
        "id": "Dgqi9TqwkL0l"
      }
    },
    {
      "cell_type": "code",
      "source": [
        "credit['trans_date_trans_time'] = pd.to_datetime(credit['trans_date_trans_time'])\n",
        "daily_amount = credit.groupby(credit['trans_date_trans_time'].dt.date)['amt'].sum()\n",
        "\n",
        "plt.figure(figsize=(12, 6))\n",
        "plt.plot(daily_amount.index, daily_amount.values)\n",
        "plt.title('Total Transaction Amount Over Time')\n",
        "plt.xlabel('Date')\n",
        "plt.ylabel('Total Amount')\n",
        "plt.show()"
      ],
      "metadata": {
        "colab": {
          "base_uri": "https://localhost:8080/",
          "height": 564
        },
        "id": "NU5p9PAjjG6i",
        "outputId": "6067bf26-aa6c-48d3-f143-2f47eb0a6583"
      },
      "execution_count": null,
      "outputs": [
        {
          "output_type": "display_data",
          "data": {
            "text/plain": [
              "<Figure size 1200x600 with 1 Axes>"
            ],
            "image/png": "[encoded data removed]"
          },
          "metadata": {}
        }
      ]
    },
    {
      "cell_type": "code",
      "source": [
        "category_amount = credit.groupby('category')['amt'].sum()\n",
        "\n",
        "plt.figure(figsize=(10, 6))\n",
        "category_amount.plot(kind='bar')\n",
        "plt.title('Total Amount Spent by Category')\n",
        "plt.xlabel('Category')\n",
        "plt.ylabel('Total Amount')\n",
        "plt.show()"
      ],
      "metadata": {
        "colab": {
          "base_uri": "https://localhost:8080/",
          "height": 650
        },
        "id": "P7oF5QBsj-4q",
        "outputId": "7ddd305c-a062-4f2f-d950-4d0d97e5c1d2"
      },
      "execution_count": null,
      "outputs": [
        {
          "output_type": "display_data",
          "data": {
            "text/plain": [
              "<Figure size 1000x600 with 1 Axes>"
            ],
            "image/png": "[encoded data removed]"
          },
          "metadata": {}
        }
      ]
    },
    {
      "cell_type": "markdown",
      "source": [
        "# scatter plot based on longitude and latitude of transactions based on it"
      ],
      "metadata": {
        "id": "zIiWPwDBmfQ6"
      }
    },
    {
      "cell_type": "code",
      "source": [
        "plt.figure(figsize=(15, 6))\n",
        "plt.scatter(credit['merch_long'], credit['merch_lat'], c=credit['amt'], cmap='viridis', alpha=0.6)\n",
        "plt.colorbar(label='Transaction Amount')\n",
        "plt.title('Transaction Locations')\n",
        "plt.xlabel('Longitude')\n",
        "plt.ylabel('Latitude')\n",
        "plt.show()"
      ],
      "metadata": {
        "colab": {
          "base_uri": "https://localhost:8080/",
          "height": 564
        },
        "id": "Zej5oXwRlI1u",
        "outputId": "5e566670-2faf-44e7-f4a7-9f64c5828233"
      },
      "execution_count": null,
      "outputs": [
        {
          "output_type": "display_data",
          "data": {
            "text/plain": [
              "<Figure size 1500x600 with 2 Axes>"
            ],
            "image/png": "[encoded data removed]"
          },
          "metadata": {}
        }
      ]
    },
    {
      "cell_type": "markdown",
      "source": [
        "![image.png](data:image/png;base64,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)"
      ],
      "metadata": {
        "id": "m-qP4F_7lyXt"
      }
    },
    {
      "cell_type": "markdown",
      "source": [
        "# copying the data , Changing datatype from obj to date"
      ],
      "metadata": {
        "id": "gHhwYK776j-5"
      }
    },
    {
      "cell_type": "code",
      "source": [
        "df_copied = credit.copy()"
      ],
      "metadata": {
        "id": "dCEt6MCjmO4Y"
      },
      "execution_count": null,
      "outputs": []
    },
    {
      "cell_type": "code",
      "source": [
        "df_copied['trans_date_trans_time'] = pd.to_datetime(df_copied['trans_date_trans_time'], format='%Y-%m-%d %H:%M:%S')"
      ],
      "metadata": {
        "id": "uJdCCa2Tmwny"
      },
      "execution_count": null,
      "outputs": []
    },
    {
      "cell_type": "code",
      "source": [
        "df_copied['dob'] = pd.to_datetime(df_copied['dob'], format='%Y-%m-%d')"
      ],
      "metadata": {
        "id": "lfG9kadLm-Qj"
      },
      "execution_count": null,
      "outputs": []
    },
    {
      "cell_type": "code",
      "source": [
        "df_copied.info()"
      ],
      "metadata": {
        "colab": {
          "base_uri": "https://localhost:8080/"
        },
        "id": "IVbWV39Lm0Db",
        "outputId": "7dfd583f-4aed-4638-f152-f57336f6f3b6"
      },
      "execution_count": null,
      "outputs": [
        {
          "output_type": "stream",
          "name": "stdout",
          "text": [
            "<class 'pandas.core.frame.DataFrame'>\n",
            "RangeIndex: 555719 entries, 0 to 555718\n",
            "Data columns (total 22 columns):\n",
            " #   Column                 Non-Null Count   Dtype         \n",
            "---  ------                 --------------   -----         \n",
            " 0   trans_date_trans_time  555719 non-null  datetime64[ns]\n",
            " 1   cc_num                 555719 non-null  int64         \n",
            " 2   merchant               555719 non-null  object        \n",
            " 3   category               555719 non-null  object        \n",
            " 4   amt                    555719 non-null  float64       \n",
            " 5   first                  555719 non-null  object        \n",
            " 6   last                   555719 non-null  object        \n",
            " 7   gender                 555719 non-null  object        \n",
            " 8   street                 555719 non-null  object        \n",
            " 9   city                   555719 non-null  object        \n",
            " 10  state                  555719 non-null  object        \n",
            " 11  zip                    555719 non-null  int64         \n",
            " 12  lat                    555719 non-null  float64       \n",
            " 13  long                   555719 non-null  float64       \n",
            " 14  city_pop               555719 non-null  int64         \n",
            " 15  job                    555719 non-null  object        \n",
            " 16  dob                    555719 non-null  datetime64[ns]\n",
            " 17  trans_num              555719 non-null  object        \n",
            " 18  unix_time              555719 non-null  int64         \n",
            " 19  merch_lat              555719 non-null  float64       \n",
            " 20  merch_long             555719 non-null  float64       \n",
            " 21  is_fraud               555719 non-null  int64         \n",
            "dtypes: datetime64[ns](2), float64(5), int64(5), object(10)\n",
            "memory usage: 93.3+ MB\n"
          ]
        }
      ]
    },
    {
      "cell_type": "markdown",
      "source": [
        "# Dropping city and state because we have pincode and street has no meaning being there."
      ],
      "metadata": {
        "id": "96UZVJNcnQcO"
      }
    },
    {
      "cell_type": "code",
      "source": [
        "df_copied.drop(columns= ['city','state'], axis=1, inplace=True)"
      ],
      "metadata": {
        "id": "8J8pGPO7m3uT"
      },
      "execution_count": null,
      "outputs": []
    },
    {
      "cell_type": "code",
      "source": [
        "df_copied.drop(columns= ['street'], axis=1, inplace=True)\n",
        "#dont drop street"
      ],
      "metadata": {
        "id": "OrmfHKU-nOME"
      },
      "execution_count": null,
      "outputs": []
    },
    {
      "cell_type": "markdown",
      "source": [
        "# using label encoder to convert obj to int"
      ],
      "metadata": {
        "id": "FAs-jq9NofAk"
      }
    },
    {
      "cell_type": "code",
      "source": [
        "from sklearn.preprocessing import LabelEncoder\n",
        "label_encoder = LabelEncoder()\n",
        "for col in df_copied.columns:\n",
        "    if df_copied[col].dtype == 'object':\n",
        "        df_copied[col] = label_encoder.fit_transform(df_copied[col])"
      ],
      "metadata": {
        "id": "NocAIHNIn4Qk"
      },
      "execution_count": null,
      "outputs": []
    },
    {
      "cell_type": "code",
      "source": [
        "df_copied.head()"
      ],
      "metadata": {
        "colab": {
          "base_uri": "https://localhost:8080/",
          "height": 206
        },
        "id": "KBN1OGyOoSO4",
        "outputId": "3fdfa6eb-e250-4207-8d4a-39912b20ca7b"
      },
      "execution_count": null,
      "outputs": [
        {
          "output_type": "execute_result",
          "data": {
            "text/plain": [
              "  trans_date_trans_time            cc_num  merchant  category    amt  first  \\\n",
              "0   2020-06-21 12:14:25  2291163933867244       319        10   2.86    151   \n",
              "1   2020-06-21 12:14:33  3573030041201292       591        10  29.84    163   \n",
              "2   2020-06-21 12:14:53  3598215285024754       611         5  41.28     24   \n",
              "3   2020-06-21 12:15:15  3591919803438423       222         9  60.05     42   \n",
              "4   2020-06-21 12:15:17  3526826139003047       292        13   3.19    247   \n",
              "\n",
              "   last  gender    zip      lat      long  city_pop  job        dob  \\\n",
              "0   115       1  29209  33.9659  -80.9355    333497  275 1968-03-19   \n",
              "1   457       0  84002  40.3207 -110.4360       302  392 1990-01-17   \n",
              "2   249       0  11710  40.6729  -73.5365     34496  259 1970-10-21   \n",
              "3   457       1  32780  28.5697  -80.8191     54767  407 1987-07-25   \n",
              "4   261       1  49632  44.2529  -85.0170      1126  196 1955-07-06   \n",
              "\n",
              "   trans_num   unix_time  merch_lat  merch_long  is_fraud  \n",
              "0      98699  1371816865  33.986391  -81.200714         0  \n",
              "1     108785  1371816873  39.450498 -109.960431         0  \n",
              "2     433979  1371816893  40.495810  -74.196111         0  \n",
              "3      71993  1371816915  28.812398  -80.883061         0  \n",
              "4     190585  1371816917  44.959148  -85.884734         0  "
            ],
            "text/html": [
              "\n",
              "  <div id=\"df-8c3129f0-b0c1-4cc7-bca1-8e9acce28153\" class=\"colab-df-container\">\n",
              "    <div>\n",
              "<style scoped>\n",
              "    .dataframe tbody tr th:only-of-type {\n",
              "        vertical-align: middle;\n",
              "    }\n",
              "\n",
              "    .dataframe tbody tr th {\n",
              "        vertical-align: top;\n",
              "    }\n",
              "\n",
              "    .dataframe thead th {\n",
              "        text-align: right;\n",
              "    }\n",
              "</style>\n",
              "<table border=\"1\" class=\"dataframe\">\n",
              "  <thead>\n",
              "    <tr style=\"text-align: right;\">\n",
              "      <th></th>\n",
              "      <th>trans_date_trans_time</th>\n",
              "      <th>cc_num</th>\n",
              "      <th>merchant</th>\n",
              "      <th>category</th>\n",
              "      <th>amt</th>\n",
              "      <th>first</th>\n",
              "      <th>last</th>\n",
              "      <th>gender</th>\n",
              "      <th>zip</th>\n",
              "      <th>lat</th>\n",
              "      <th>long</th>\n",
              "      <th>city_pop</th>\n",
              "      <th>job</th>\n",
              "      <th>dob</th>\n",
              "      <th>trans_num</th>\n",
              "      <th>unix_time</th>\n",
              "      <th>merch_lat</th>\n",
              "      <th>merch_long</th>\n",
              "      <th>is_fraud</th>\n",
              "    </tr>\n",
              "  </thead>\n",
              "  <tbody>\n",
              "    <tr>\n",
              "      <th>0</th>\n",
              "      <td>2020-06-21 12:14:25</td>\n",
              "      <td>2291163933867244</td>\n",
              "      <td>319</td>\n",
              "      <td>10</td>\n",
              "      <td>2.86</td>\n",
              "      <td>151</td>\n",
              "      <td>115</td>\n",
              "      <td>1</td>\n",
              "      <td>29209</td>\n",
              "      <td>33.9659</td>\n",
              "      <td>-80.9355</td>\n",
              "      <td>333497</td>\n",
              "      <td>275</td>\n",
              "      <td>1968-03-19</td>\n",
              "      <td>98699</td>\n",
              "      <td>1371816865</td>\n",
              "      <td>33.986391</td>\n",
              "      <td>-81.200714</td>\n",
              "      <td>0</td>\n",
              "    </tr>\n",
              "    <tr>\n",
              "      <th>1</th>\n",
              "      <td>2020-06-21 12:14:33</td>\n",
              "      <td>3573030041201292</td>\n",
              "      <td>591</td>\n",
              "      <td>10</td>\n",
              "      <td>29.84</td>\n",
              "      <td>163</td>\n",
              "      <td>457</td>\n",
              "      <td>0</td>\n",
              "      <td>84002</td>\n",
              "      <td>40.3207</td>\n",
              "      <td>-110.4360</td>\n",
              "      <td>302</td>\n",
              "      <td>392</td>\n",
              "      <td>1990-01-17</td>\n",
              "      <td>108785</td>\n",
              "      <td>1371816873</td>\n",
              "      <td>39.450498</td>\n",
              "      <td>-109.960431</td>\n",
              "      <td>0</td>\n",
              "    </tr>\n",
              "    <tr>\n",
              "      <th>2</th>\n",
              "      <td>2020-06-21 12:14:53</td>\n",
              "      <td>3598215285024754</td>\n",
              "      <td>611</td>\n",
              "      <td>5</td>\n",
              "      <td>41.28</td>\n",
              "      <td>24</td>\n",
              "      <td>249</td>\n",
              "      <td>0</td>\n",
              "      <td>11710</td>\n",
              "      <td>40.6729</td>\n",
              "      <td>-73.5365</td>\n",
              "      <td>34496</td>\n",
              "      <td>259</td>\n",
              "      <td>1970-10-21</td>\n",
              "      <td>433979</td>\n",
              "      <td>1371816893</td>\n",
              "      <td>40.495810</td>\n",
              "      <td>-74.196111</td>\n",
              "      <td>0</td>\n",
              "    </tr>\n",
              "    <tr>\n",
              "      <th>3</th>\n",
              "      <td>2020-06-21 12:15:15</td>\n",
              "      <td>3591919803438423</td>\n",
              "      <td>222</td>\n",
              "      <td>9</td>\n",
              "      <td>60.05</td>\n",
              "      <td>42</td>\n",
              "      <td>457</td>\n",
              "      <td>1</td>\n",
              "      <td>32780</td>\n",
              "      <td>28.5697</td>\n",
              "      <td>-80.8191</td>\n",
              "      <td>54767</td>\n",
              "      <td>407</td>\n",
              "      <td>1987-07-25</td>\n",
              "      <td>71993</td>\n",
              "      <td>1371816915</td>\n",
              "      <td>28.812398</td>\n",
              "      <td>-80.883061</td>\n",
              "      <td>0</td>\n",
              "    </tr>\n",
              "    <tr>\n",
              "      <th>4</th>\n",
              "      <td>2020-06-21 12:15:17</td>\n",
              "      <td>3526826139003047</td>\n",
              "      <td>292</td>\n",
              "      <td>13</td>\n",
              "      <td>3.19</td>\n",
              "      <td>247</td>\n",
              "      <td>261</td>\n",
              "      <td>1</td>\n",
              "      <td>49632</td>\n",
              "      <td>44.2529</td>\n",
              "      <td>-85.0170</td>\n",
              "      <td>1126</td>\n",
              "      <td>196</td>\n",
              "      <td>1955-07-06</td>\n",
              "      <td>190585</td>\n",
              "      <td>1371816917</td>\n",
              "      <td>44.959148</td>\n",
              "      <td>-85.884734</td>\n",
              "      <td>0</td>\n",
              "    </tr>\n",
              "  </tbody>\n",
              "</table>\n",
              "</div>\n",
              "    <div class=\"colab-df-buttons\">\n",
              "\n",
              "  <div class=\"colab-df-container\">\n",
              "    <button class=\"colab-df-convert\" onclick=\"convertToInteractive('df-8c3129f0-b0c1-4cc7-bca1-8e9acce28153')\"\n",
              "            title=\"Convert this dataframe to an interactive table.\"\n",
              "            style=\"display:none;\">\n",
              "\n",
              "  <svg xmlns=\"http://www.w3.org/2000/svg\" height=\"24px\" viewBox=\"0 -960 960 960\">\n",
              "    <path d=\"M120-120v-720h720v720H120Zm60-500h600v-160H180v160Zm220 220h160v-160H400v160Zm0 220h160v-160H400v160ZM180-400h160v-160H180v160Zm440 0h160v-160H620v160ZM180-180h160v-160H180v160Zm440 0h160v-160H620v160Z\"/>\n",
              "  </svg>\n",
              "    </button>\n",
              "\n",
              "  <style>\n",
              "    .colab-df-container {\n",
              "      display:flex;\n",
              "      gap: 12px;\n",
              "    }\n",
              "\n",
              "    .colab-df-convert {\n",
              "      background-color: #E8F0FE;\n",
              "      border: none;\n",
              "      border-radius: 50%;\n",
              "      cursor: pointer;\n",
              "      display: none;\n",
              "      fill: #1967D2;\n",
              "      height: 32px;\n",
              "      padding: 0 0 0 0;\n",
              "      width: 32px;\n",
              "    }\n",
              "\n",
              "    .colab-df-convert:hover {\n",
              "      background-color: #E2EBFA;\n",
              "      box-shadow: 0px 1px 2px rgba(60, 64, 67, 0.3), 0px 1px 3px 1px rgba(60, 64, 67, 0.15);\n",
              "      fill: #174EA6;\n",
              "    }\n",
              "\n",
              "    .colab-df-buttons div {\n",
              "      margin-bottom: 4px;\n",
              "    }\n",
              "\n",
              "    [theme=dark] .colab-df-convert {\n",
              "      background-color: #3B4455;\n",
              "      fill: #D2E3FC;\n",
              "    }\n",
              "\n",
              "    [theme=dark] .colab-df-convert:hover {\n",
              "      background-color: #434B5C;\n",
              "      box-shadow: 0px 1px 3px 1px rgba(0, 0, 0, 0.15);\n",
              "      filter: drop-shadow(0px 1px 2px rgba(0, 0, 0, 0.3));\n",
              "      fill: #FFFFFF;\n",
              "    }\n",
              "  </style>\n",
              "\n",
              "    <script>\n",
              "      const buttonEl =\n",
              "        document.querySelector('#df-8c3129f0-b0c1-4cc7-bca1-8e9acce28153 button.colab-df-convert');\n",
              "      buttonEl.style.display =\n",
              "        google.colab.kernel.accessAllowed ? 'block' : 'none';\n",
              "\n",
              "      async function convertToInteractive(key) {\n",
              "        const element = document.querySelector('#df-8c3129f0-b0c1-4cc7-bca1-8e9acce28153');\n",
              "        const dataTable =\n",
              "          await google.colab.kernel.invokeFunction('convertToInteractive',\n",
              "                                                    [key], {});\n",
              "        if (!dataTable) return;\n",
              "\n",
              "        const docLinkHtml = 'Like what you see? Visit the ' +\n",
              "          '<a target=\"_blank\" href=https://colab.research.google.com/notebooks/data_table.ipynb>data table notebook</a>'\n",
              "          + ' to learn more about interactive tables.';\n",
              "        element.innerHTML = '';\n",
              "        dataTable['output_type'] = 'display_data';\n",
              "        await google.colab.output.renderOutput(dataTable, element);\n",
              "        const docLink = document.createElement('div');\n",
              "        docLink.innerHTML = docLinkHtml;\n",
              "        element.appendChild(docLink);\n",
              "      }\n",
              "    </script>\n",
              "  </div>\n",
              "\n",
              "\n",
              "<div id=\"df-f81ff9ad-8524-4d5f-b967-e28389b16a88\">\n",
              "  <button class=\"colab-df-quickchart\" onclick=\"quickchart('df-f81ff9ad-8524-4d5f-b967-e28389b16a88')\"\n",
              "            title=\"Suggest charts\"\n",
              "            style=\"display:none;\">\n",
              "\n",
              "<svg xmlns=\"http://www.w3.org/2000/svg\" height=\"24px\"viewBox=\"0 0 24 24\"\n",
              "     width=\"24px\">\n",
              "    <g>\n",
              "        <path d=\"M19 3H5c-1.1 0-2 .9-2 2v14c0 1.1.9 2 2 2h14c1.1 0 2-.9 2-2V5c0-1.1-.9-2-2-2zM9 17H7v-7h2v7zm4 0h-2V7h2v10zm4 0h-2v-4h2v4z\"/>\n",
              "    </g>\n",
              "</svg>\n",
              "  </button>\n",
              "\n",
              "<style>\n",
              "  .colab-df-quickchart {\n",
              "      --bg-color: #E8F0FE;\n",
              "      --fill-color: #1967D2;\n",
              "      --hover-bg-color: #E2EBFA;\n",
              "      --hover-fill-color: #174EA6;\n",
              "      --disabled-fill-color: #AAA;\n",
              "      --disabled-bg-color: #DDD;\n",
              "  }\n",
              "\n",
              "  [theme=dark] .colab-df-quickchart {\n",
              "      --bg-color: #3B4455;\n",
              "      --fill-color: #D2E3FC;\n",
              "      --hover-bg-color: #434B5C;\n",
              "      --hover-fill-color: #FFFFFF;\n",
              "      --disabled-bg-color: #3B4455;\n",
              "      --disabled-fill-color: #666;\n",
              "  }\n",
              "\n",
              "  .colab-df-quickchart {\n",
              "    background-color: var(--bg-color);\n",
              "    border: none;\n",
              "    border-radius: 50%;\n",
              "    cursor: pointer;\n",
              "    display: none;\n",
              "    fill: var(--fill-color);\n",
              "    height: 32px;\n",
              "    padding: 0;\n",
              "    width: 32px;\n",
              "  }\n",
              "\n",
              "  .colab-df-quickchart:hover {\n",
              "    background-color: var(--hover-bg-color);\n",
              "    box-shadow: 0 1px 2px rgba(60, 64, 67, 0.3), 0 1px 3px 1px rgba(60, 64, 67, 0.15);\n",
              "    fill: var(--button-hover-fill-color);\n",
              "  }\n",
              "\n",
              "  .colab-df-quickchart-complete:disabled,\n",
              "  .colab-df-quickchart-complete:disabled:hover {\n",
              "    background-color: var(--disabled-bg-color);\n",
              "    fill: var(--disabled-fill-color);\n",
              "    box-shadow: none;\n",
              "  }\n",
              "\n",
              "  .colab-df-spinner {\n",
              "    border: 2px solid var(--fill-color);\n",
              "    border-color: transparent;\n",
              "    border-bottom-color: var(--fill-color);\n",
              "    animation:\n",
              "      spin 1s steps(1) infinite;\n",
              "  }\n",
              "\n",
              "  @keyframes spin {\n",
              "    0% {\n",
              "      border-color: transparent;\n",
              "      border-bottom-color: var(--fill-color);\n",
              "      border-left-color: var(--fill-color);\n",
              "    }\n",
              "    20% {\n",
              "      border-color: transparent;\n",
              "      border-left-color: var(--fill-color);\n",
              "      border-top-color: var(--fill-color);\n",
              "    }\n",
              "    30% {\n",
              "      border-color: transparent;\n",
              "      border-left-color: var(--fill-color);\n",
              "      border-top-color: var(--fill-color);\n",
              "      border-right-color: var(--fill-color);\n",
              "    }\n",
              "    40% {\n",
              "      border-color: transparent;\n",
              "      border-right-color: var(--fill-color);\n",
              "      border-top-color: var(--fill-color);\n",
              "    }\n",
              "    60% {\n",
              "      border-color: transparent;\n",
              "      border-right-color: var(--fill-color);\n",
              "    }\n",
              "    80% {\n",
              "      border-color: transparent;\n",
              "      border-right-color: var(--fill-color);\n",
              "      border-bottom-color: var(--fill-color);\n",
              "    }\n",
              "    90% {\n",
              "      border-color: transparent;\n",
              "      border-bottom-color: var(--fill-color);\n",
              "    }\n",
              "  }\n",
              "</style>\n",
              "\n",
              "  <script>\n",
              "    async function quickchart(key) {\n",
              "      const quickchartButtonEl =\n",
              "        document.querySelector('#' + key + ' button');\n",
              "      quickchartButtonEl.disabled = true;  // To prevent multiple clicks.\n",
              "      quickchartButtonEl.classList.add('colab-df-spinner');\n",
              "      try {\n",
              "        const charts = await google.colab.kernel.invokeFunction(\n",
              "            'suggestCharts', [key], {});\n",
              "      } catch (error) {\n",
              "        console.error('Error during call to suggestCharts:', error);\n",
              "      }\n",
              "      quickchartButtonEl.classList.remove('colab-df-spinner');\n",
              "      quickchartButtonEl.classList.add('colab-df-quickchart-complete');\n",
              "    }\n",
              "    (() => {\n",
              "      let quickchartButtonEl =\n",
              "        document.querySelector('#df-f81ff9ad-8524-4d5f-b967-e28389b16a88 button');\n",
              "      quickchartButtonEl.style.display =\n",
              "        google.colab.kernel.accessAllowed ? 'block' : 'none';\n",
              "    })();\n",
              "  </script>\n",
              "</div>\n",
              "\n",
              "    </div>\n",
              "  </div>\n"
            ],
            "application/vnd.google.colaboratory.intrinsic+json": {
              "type": "dataframe",
              "variable_name": "df_copied"
            }
          },
          "metadata": {},
          "execution_count": 273
        }
      ]
    },
    {
      "cell_type": "code",
      "source": [
        "df_copied.info()"
      ],
      "metadata": {
        "colab": {
          "base_uri": "https://localhost:8080/"
        },
        "id": "IY9MN0XwNzwr",
        "outputId": "e06c9f28-426c-48c8-e119-7bd17283581c"
      },
      "execution_count": null,
      "outputs": [
        {
          "output_type": "stream",
          "name": "stdout",
          "text": [
            "<class 'pandas.core.frame.DataFrame'>\n",
            "RangeIndex: 555719 entries, 0 to 555718\n",
            "Data columns (total 19 columns):\n",
            " #   Column                 Non-Null Count   Dtype         \n",
            "---  ------                 --------------   -----         \n",
            " 0   trans_date_trans_time  555719 non-null  datetime64[ns]\n",
            " 1   cc_num                 555719 non-null  int64         \n",
            " 2   merchant               555719 non-null  int64         \n",
            " 3   category               555719 non-null  int64         \n",
            " 4   amt                    555719 non-null  float64       \n",
            " 5   first                  555719 non-null  int64         \n",
            " 6   last                   555719 non-null  int64         \n",
            " 7   gender                 555719 non-null  int64         \n",
            " 8   zip                    555719 non-null  int64         \n",
            " 9   lat                    555719 non-null  float64       \n",
            " 10  long                   555719 non-null  float64       \n",
            " 11  city_pop               555719 non-null  int64         \n",
            " 12  job                    555719 non-null  int64         \n",
            " 13  dob                    555719 non-null  datetime64[ns]\n",
            " 14  trans_num              555719 non-null  int64         \n",
            " 15  unix_time              555719 non-null  int64         \n",
            " 16  merch_lat              555719 non-null  float64       \n",
            " 17  merch_long             555719 non-null  float64       \n",
            " 18  is_fraud               555719 non-null  int64         \n",
            "dtypes: datetime64[ns](2), float64(5), int64(12)\n",
            "memory usage: 80.6 MB\n"
          ]
        }
      ]
    },
    {
      "cell_type": "markdown",
      "source": [
        "# taking only hour of transaction and year of birth for better access."
      ],
      "metadata": {
        "id": "xxcdUzupoxp_"
      }
    },
    {
      "cell_type": "code",
      "source": [
        "df_copied['trans_date_trans_time'] = df_copied['trans_date_trans_time'].dt.hour\n",
        "df_copied['dob'] = df_copied['dob'].dt.year"
      ],
      "metadata": {
        "id": "z5chXzEkomnJ"
      },
      "execution_count": null,
      "outputs": []
    },
    {
      "cell_type": "code",
      "source": [
        "df_copied.columns"
      ],
      "metadata": {
        "colab": {
          "base_uri": "https://localhost:8080/"
        },
        "id": "jyUb2hCCpKRa",
        "outputId": "2b1e5161-d840-45ac-dabf-c616380ad7d1"
      },
      "execution_count": null,
      "outputs": [
        {
          "output_type": "execute_result",
          "data": {
            "text/plain": [
              "Index(['trans_date_trans_time', 'cc_num', 'merchant', 'category', 'amt',\n",
              "       'first', 'last', 'gender', 'zip', 'lat', 'long', 'city_pop', 'job',\n",
              "       'dob', 'trans_num', 'unix_time', 'merch_lat', 'merch_long', 'is_fraud'],\n",
              "      dtype='object')"
            ]
          },
          "metadata": {},
          "execution_count": 276
        }
      ]
    },
    {
      "cell_type": "markdown",
      "source": [
        "# scaling the data for better understanding of machines."
      ],
      "metadata": {
        "id": "pgcAlmXHpJ-k"
      }
    },
    {
      "cell_type": "code",
      "source": [
        "colu_to_scale = df_copied.columns\n",
        "from sklearn.preprocessing import MinMaxScaler\n",
        "scaler = MinMaxScaler()\n",
        "\n",
        "df_copied[colu_to_scale] = scaler.fit_transform(df_copied[colu_to_scale])"
      ],
      "metadata": {
        "id": "TbkqbFWhplRN"
      },
      "execution_count": null,
      "outputs": []
    },
    {
      "cell_type": "code",
      "source": [
        "df_copied.head()"
      ],
      "metadata": {
        "colab": {
          "base_uri": "https://localhost:8080/",
          "height": 206
        },
        "id": "Nl-ZLkOvpZQC",
        "outputId": "3ecf5bce-1cdc-46d6-de9b-79bec9680217"
      },
      "execution_count": null,
      "outputs": [
        {
          "output_type": "execute_result",
          "data": {
            "text/plain": [
              "   trans_date_trans_time    cc_num  merchant  category       amt     first  \\\n",
              "0               0.521739  0.000459  0.460983  0.769231  0.000082  0.444118   \n",
              "1               0.521739  0.000716  0.854046  0.769231  0.001267  0.479412   \n",
              "2               0.521739  0.000721  0.882948  0.384615  0.001769  0.070588   \n",
              "3               0.521739  0.000719  0.320809  0.692308  0.002594  0.123529   \n",
              "4               0.521739  0.000706  0.421965  1.000000  0.000096  0.726471   \n",
              "\n",
              "       last  gender       zip       lat      long  city_pop       job  \\\n",
              "0  0.244681     1.0  0.283305  0.305255  0.867121  0.114727  0.576520   \n",
              "1  0.972340     0.0  0.838654  0.444423  0.565239  0.000096  0.821803   \n",
              "2  0.529787     0.0  0.105945  0.452136  0.942836  0.011860  0.542977   \n",
              "3  0.972340     1.0  0.319498  0.187080  0.868312  0.018834  0.853249   \n",
              "4  0.555319     1.0  0.490300  0.530537  0.825355  0.000379  0.410901   \n",
              "\n",
              "        dob  trans_num     unix_time  merch_lat  merch_long  is_fraud  \n",
              "0  0.543210   0.177606  0.000000e+00   0.313922    0.857112       0.0  \n",
              "1  0.814815   0.195756  4.785402e-07   0.428589    0.568706       0.0  \n",
              "2  0.567901   0.780934  1.674891e-06   0.450526    0.927355       0.0  \n",
              "3  0.777778   0.129550  2.990876e-06   0.205343    0.860298       0.0  \n",
              "4  0.382716   0.342953  3.110511e-06   0.544191    0.810140       0.0  "
            ],
            "text/html": [
              "\n",
              "  <div id=\"df-bac36323-c591-452c-a168-296fb2ad7f4c\" class=\"colab-df-container\">\n",
              "    <div>\n",
              "<style scoped>\n",
              "    .dataframe tbody tr th:only-of-type {\n",
              "        vertical-align: middle;\n",
              "    }\n",
              "\n",
              "    .dataframe tbody tr th {\n",
              "        vertical-align: top;\n",
              "    }\n",
              "\n",
              "    .dataframe thead th {\n",
              "        text-align: right;\n",
              "    }\n",
              "</style>\n",
              "<table border=\"1\" class=\"dataframe\">\n",
              "  <thead>\n",
              "    <tr style=\"text-align: right;\">\n",
              "      <th></th>\n",
              "      <th>trans_date_trans_time</th>\n",
              "      <th>cc_num</th>\n",
              "      <th>merchant</th>\n",
              "      <th>category</th>\n",
              "      <th>amt</th>\n",
              "      <th>first</th>\n",
              "      <th>last</th>\n",
              "      <th>gender</th>\n",
              "      <th>zip</th>\n",
              "      <th>lat</th>\n",
              "      <th>long</th>\n",
              "      <th>city_pop</th>\n",
              "      <th>job</th>\n",
              "      <th>dob</th>\n",
              "      <th>trans_num</th>\n",
              "      <th>unix_time</th>\n",
              "      <th>merch_lat</th>\n",
              "      <th>merch_long</th>\n",
              "      <th>is_fraud</th>\n",
              "    </tr>\n",
              "  </thead>\n",
              "  <tbody>\n",
              "    <tr>\n",
              "      <th>0</th>\n",
              "      <td>0.521739</td>\n",
              "      <td>0.000459</td>\n",
              "      <td>0.460983</td>\n",
              "      <td>0.769231</td>\n",
              "      <td>0.000082</td>\n",
              "      <td>0.444118</td>\n",
              "      <td>0.244681</td>\n",
              "      <td>1.0</td>\n",
              "      <td>0.283305</td>\n",
              "      <td>0.305255</td>\n",
              "      <td>0.867121</td>\n",
              "      <td>0.114727</td>\n",
              "      <td>0.576520</td>\n",
              "      <td>0.543210</td>\n",
              "      <td>0.177606</td>\n",
              "      <td>0.000000e+00</td>\n",
              "      <td>0.313922</td>\n",
              "      <td>0.857112</td>\n",
              "      <td>0.0</td>\n",
              "    </tr>\n",
              "    <tr>\n",
              "      <th>1</th>\n",
              "      <td>0.521739</td>\n",
              "      <td>0.000716</td>\n",
              "      <td>0.854046</td>\n",
              "      <td>0.769231</td>\n",
              "      <td>0.001267</td>\n",
              "      <td>0.479412</td>\n",
              "      <td>0.972340</td>\n",
              "      <td>0.0</td>\n",
              "      <td>0.838654</td>\n",
              "      <td>0.444423</td>\n",
              "      <td>0.565239</td>\n",
              "      <td>0.000096</td>\n",
              "      <td>0.821803</td>\n",
              "      <td>0.814815</td>\n",
              "      <td>0.195756</td>\n",
              "      <td>4.785402e-07</td>\n",
              "      <td>0.428589</td>\n",
              "      <td>0.568706</td>\n",
              "      <td>0.0</td>\n",
              "    </tr>\n",
              "    <tr>\n",
              "      <th>2</th>\n",
              "      <td>0.521739</td>\n",
              "      <td>0.000721</td>\n",
              "      <td>0.882948</td>\n",
              "      <td>0.384615</td>\n",
              "      <td>0.001769</td>\n",
              "      <td>0.070588</td>\n",
              "      <td>0.529787</td>\n",
              "      <td>0.0</td>\n",
              "      <td>0.105945</td>\n",
              "      <td>0.452136</td>\n",
              "      <td>0.942836</td>\n",
              "      <td>0.011860</td>\n",
              "      <td>0.542977</td>\n",
              "      <td>0.567901</td>\n",
              "      <td>0.780934</td>\n",
              "      <td>1.674891e-06</td>\n",
              "      <td>0.450526</td>\n",
              "      <td>0.927355</td>\n",
              "      <td>0.0</td>\n",
              "    </tr>\n",
              "    <tr>\n",
              "      <th>3</th>\n",
              "      <td>0.521739</td>\n",
              "      <td>0.000719</td>\n",
              "      <td>0.320809</td>\n",
              "      <td>0.692308</td>\n",
              "      <td>0.002594</td>\n",
              "      <td>0.123529</td>\n",
              "      <td>0.972340</td>\n",
              "      <td>1.0</td>\n",
              "      <td>0.319498</td>\n",
              "      <td>0.187080</td>\n",
              "      <td>0.868312</td>\n",
              "      <td>0.018834</td>\n",
              "      <td>0.853249</td>\n",
              "      <td>0.777778</td>\n",
              "      <td>0.129550</td>\n",
              "      <td>2.990876e-06</td>\n",
              "      <td>0.205343</td>\n",
              "      <td>0.860298</td>\n",
              "      <td>0.0</td>\n",
              "    </tr>\n",
              "    <tr>\n",
              "      <th>4</th>\n",
              "      <td>0.521739</td>\n",
              "      <td>0.000706</td>\n",
              "      <td>0.421965</td>\n",
              "      <td>1.000000</td>\n",
              "      <td>0.000096</td>\n",
              "      <td>0.726471</td>\n",
              "      <td>0.555319</td>\n",
              "      <td>1.0</td>\n",
              "      <td>0.490300</td>\n",
              "      <td>0.530537</td>\n",
              "      <td>0.825355</td>\n",
              "      <td>0.000379</td>\n",
              "      <td>0.410901</td>\n",
              "      <td>0.382716</td>\n",
              "      <td>0.342953</td>\n",
              "      <td>3.110511e-06</td>\n",
              "      <td>0.544191</td>\n",
              "      <td>0.810140</td>\n",
              "      <td>0.0</td>\n",
              "    </tr>\n",
              "  </tbody>\n",
              "</table>\n",
              "</div>\n",
              "    <div class=\"colab-df-buttons\">\n",
              "\n",
              "  <div class=\"colab-df-container\">\n",
              "    <button class=\"colab-df-convert\" onclick=\"convertToInteractive('df-bac36323-c591-452c-a168-296fb2ad7f4c')\"\n",
              "            title=\"Convert this dataframe to an interactive table.\"\n",
              "            style=\"display:none;\">\n",
              "\n",
              "  <svg xmlns=\"http://www.w3.org/2000/svg\" height=\"24px\" viewBox=\"0 -960 960 960\">\n",
              "    <path d=\"M120-120v-720h720v720H120Zm60-500h600v-160H180v160Zm220 220h160v-160H400v160Zm0 220h160v-160H400v160ZM180-400h160v-160H180v160Zm440 0h160v-160H620v160ZM180-180h160v-160H180v160Zm440 0h160v-160H620v160Z\"/>\n",
              "  </svg>\n",
              "    </button>\n",
              "\n",
              "  <style>\n",
              "    .colab-df-container {\n",
              "      display:flex;\n",
              "      gap: 12px;\n",
              "    }\n",
              "\n",
              "    .colab-df-convert {\n",
              "      background-color: #E8F0FE;\n",
              "      border: none;\n",
              "      border-radius: 50%;\n",
              "      cursor: pointer;\n",
              "      display: none;\n",
              "      fill: #1967D2;\n",
              "      height: 32px;\n",
              "      padding: 0 0 0 0;\n",
              "      width: 32px;\n",
              "    }\n",
              "\n",
              "    .colab-df-convert:hover {\n",
              "      background-color: #E2EBFA;\n",
              "      box-shadow: 0px 1px 2px rgba(60, 64, 67, 0.3), 0px 1px 3px 1px rgba(60, 64, 67, 0.15);\n",
              "      fill: #174EA6;\n",
              "    }\n",
              "\n",
              "    .colab-df-buttons div {\n",
              "      margin-bottom: 4px;\n",
              "    }\n",
              "\n",
              "    [theme=dark] .colab-df-convert {\n",
              "      background-color: #3B4455;\n",
              "      fill: #D2E3FC;\n",
              "    }\n",
              "\n",
              "    [theme=dark] .colab-df-convert:hover {\n",
              "      background-color: #434B5C;\n",
              "      box-shadow: 0px 1px 3px 1px rgba(0, 0, 0, 0.15);\n",
              "      filter: drop-shadow(0px 1px 2px rgba(0, 0, 0, 0.3));\n",
              "      fill: #FFFFFF;\n",
              "    }\n",
              "  </style>\n",
              "\n",
              "    <script>\n",
              "      const buttonEl =\n",
              "        document.querySelector('#df-bac36323-c591-452c-a168-296fb2ad7f4c button.colab-df-convert');\n",
              "      buttonEl.style.display =\n",
              "        google.colab.kernel.accessAllowed ? 'block' : 'none';\n",
              "\n",
              "      async function convertToInteractive(key) {\n",
              "        const element = document.querySelector('#df-bac36323-c591-452c-a168-296fb2ad7f4c');\n",
              "        const dataTable =\n",
              "          await google.colab.kernel.invokeFunction('convertToInteractive',\n",
              "                                                    [key], {});\n",
              "        if (!dataTable) return;\n",
              "\n",
              "        const docLinkHtml = 'Like what you see? Visit the ' +\n",
              "          '<a target=\"_blank\" href=https://colab.research.google.com/notebooks/data_table.ipynb>data table notebook</a>'\n",
              "          + ' to learn more about interactive tables.';\n",
              "        element.innerHTML = '';\n",
              "        dataTable['output_type'] = 'display_data';\n",
              "        await google.colab.output.renderOutput(dataTable, element);\n",
              "        const docLink = document.createElement('div');\n",
              "        docLink.innerHTML = docLinkHtml;\n",
              "        element.appendChild(docLink);\n",
              "      }\n",
              "    </script>\n",
              "  </div>\n",
              "\n",
              "\n",
              "<div id=\"df-2f512a4c-4e20-40b0-a371-cac3a2ec15f6\">\n",
              "  <button class=\"colab-df-quickchart\" onclick=\"quickchart('df-2f512a4c-4e20-40b0-a371-cac3a2ec15f6')\"\n",
              "            title=\"Suggest charts\"\n",
              "            style=\"display:none;\">\n",
              "\n",
              "<svg xmlns=\"http://www.w3.org/2000/svg\" height=\"24px\"viewBox=\"0 0 24 24\"\n",
              "     width=\"24px\">\n",
              "    <g>\n",
              "        <path d=\"M19 3H5c-1.1 0-2 .9-2 2v14c0 1.1.9 2 2 2h14c1.1 0 2-.9 2-2V5c0-1.1-.9-2-2-2zM9 17H7v-7h2v7zm4 0h-2V7h2v10zm4 0h-2v-4h2v4z\"/>\n",
              "    </g>\n",
              "</svg>\n",
              "  </button>\n",
              "\n",
              "<style>\n",
              "  .colab-df-quickchart {\n",
              "      --bg-color: #E8F0FE;\n",
              "      --fill-color: #1967D2;\n",
              "      --hover-bg-color: #E2EBFA;\n",
              "      --hover-fill-color: #174EA6;\n",
              "      --disabled-fill-color: #AAA;\n",
              "      --disabled-bg-color: #DDD;\n",
              "  }\n",
              "\n",
              "  [theme=dark] .colab-df-quickchart {\n",
              "      --bg-color: #3B4455;\n",
              "      --fill-color: #D2E3FC;\n",
              "      --hover-bg-color: #434B5C;\n",
              "      --hover-fill-color: #FFFFFF;\n",
              "      --disabled-bg-color: #3B4455;\n",
              "      --disabled-fill-color: #666;\n",
              "  }\n",
              "\n",
              "  .colab-df-quickchart {\n",
              "    background-color: var(--bg-color);\n",
              "    border: none;\n",
              "    border-radius: 50%;\n",
              "    cursor: pointer;\n",
              "    display: none;\n",
              "    fill: var(--fill-color);\n",
              "    height: 32px;\n",
              "    padding: 0;\n",
              "    width: 32px;\n",
              "  }\n",
              "\n",
              "  .colab-df-quickchart:hover {\n",
              "    background-color: var(--hover-bg-color);\n",
              "    box-shadow: 0 1px 2px rgba(60, 64, 67, 0.3), 0 1px 3px 1px rgba(60, 64, 67, 0.15);\n",
              "    fill: var(--button-hover-fill-color);\n",
              "  }\n",
              "\n",
              "  .colab-df-quickchart-complete:disabled,\n",
              "  .colab-df-quickchart-complete:disabled:hover {\n",
              "    background-color: var(--disabled-bg-color);\n",
              "    fill: var(--disabled-fill-color);\n",
              "    box-shadow: none;\n",
              "  }\n",
              "\n",
              "  .colab-df-spinner {\n",
              "    border: 2px solid var(--fill-color);\n",
              "    border-color: transparent;\n",
              "    border-bottom-color: var(--fill-color);\n",
              "    animation:\n",
              "      spin 1s steps(1) infinite;\n",
              "  }\n",
              "\n",
              "  @keyframes spin {\n",
              "    0% {\n",
              "      border-color: transparent;\n",
              "      border-bottom-color: var(--fill-color);\n",
              "      border-left-color: var(--fill-color);\n",
              "    }\n",
              "    20% {\n",
              "      border-color: transparent;\n",
              "      border-left-color: var(--fill-color);\n",
              "      border-top-color: var(--fill-color);\n",
              "    }\n",
              "    30% {\n",
              "      border-color: transparent;\n",
              "      border-left-color: var(--fill-color);\n",
              "      border-top-color: var(--fill-color);\n",
              "      border-right-color: var(--fill-color);\n",
              "    }\n",
              "    40% {\n",
              "      border-color: transparent;\n",
              "      border-right-color: var(--fill-color);\n",
              "      border-top-color: var(--fill-color);\n",
              "    }\n",
              "    60% {\n",
              "      border-color: transparent;\n",
              "      border-right-color: var(--fill-color);\n",
              "    }\n",
              "    80% {\n",
              "      border-color: transparent;\n",
              "      border-right-color: var(--fill-color);\n",
              "      border-bottom-color: var(--fill-color);\n",
              "    }\n",
              "    90% {\n",
              "      border-color: transparent;\n",
              "      border-bottom-color: var(--fill-color);\n",
              "    }\n",
              "  }\n",
              "</style>\n",
              "\n",
              "  <script>\n",
              "    async function quickchart(key) {\n",
              "      const quickchartButtonEl =\n",
              "        document.querySelector('#' + key + ' button');\n",
              "      quickchartButtonEl.disabled = true;  // To prevent multiple clicks.\n",
              "      quickchartButtonEl.classList.add('colab-df-spinner');\n",
              "      try {\n",
              "        const charts = await google.colab.kernel.invokeFunction(\n",
              "            'suggestCharts', [key], {});\n",
              "      } catch (error) {\n",
              "        console.error('Error during call to suggestCharts:', error);\n",
              "      }\n",
              "      quickchartButtonEl.classList.remove('colab-df-spinner');\n",
              "      quickchartButtonEl.classList.add('colab-df-quickchart-complete');\n",
              "    }\n",
              "    (() => {\n",
              "      let quickchartButtonEl =\n",
              "        document.querySelector('#df-2f512a4c-4e20-40b0-a371-cac3a2ec15f6 button');\n",
              "      quickchartButtonEl.style.display =\n",
              "        google.colab.kernel.accessAllowed ? 'block' : 'none';\n",
              "    })();\n",
              "  </script>\n",
              "</div>\n",
              "\n",
              "    </div>\n",
              "  </div>\n"
            ],
            "application/vnd.google.colaboratory.intrinsic+json": {
              "type": "dataframe",
              "variable_name": "df_copied"
            }
          },
          "metadata": {},
          "execution_count": 278
        }
      ]
    },
    {
      "cell_type": "markdown",
      "source": [
        "# Splitting Feature and target"
      ],
      "metadata": {
        "id": "XF8qkMhKqWjP"
      }
    },
    {
      "cell_type": "code",
      "source": [
        "X = df_copied.drop('is_fraud' , axis = 'columns')\n",
        "y = df_copied['is_fraud']"
      ],
      "metadata": {
        "id": "zBvgNAVipb1w"
      },
      "execution_count": null,
      "outputs": []
    },
    {
      "cell_type": "code",
      "source": [
        "# importing the train_test_split function to train and test data\n",
        "\n",
        "from sklearn.model_selection import train_test_split\n",
        "# seperating the data into 65:35 ratio with random state=2\n",
        "X_train, X_test, y_train, y_test = train_test_split(X, y, test_size=0.35, random_state=1)"
      ],
      "metadata": {
        "id": "TOTEv0b0qVrX"
      },
      "execution_count": null,
      "outputs": []
    },
    {
      "cell_type": "code",
      "source": [
        "X_train.shape"
      ],
      "metadata": {
        "colab": {
          "base_uri": "https://localhost:8080/"
        },
        "id": "igMogWAoONaj",
        "outputId": "684940de-a6af-4b0e-bb23-4ce373d8bf72"
      },
      "execution_count": null,
      "outputs": [
        {
          "output_type": "execute_result",
          "data": {
            "text/plain": [
              "(361217, 18)"
            ]
          },
          "metadata": {},
          "execution_count": 281
        }
      ]
    },
    {
      "cell_type": "code",
      "source": [
        "X_test.shape"
      ],
      "metadata": {
        "colab": {
          "base_uri": "https://localhost:8080/"
        },
        "id": "jZC5PLHzOP8D",
        "outputId": "4376e088-92d7-43a6-83e2-bd6027ad47d5"
      },
      "execution_count": null,
      "outputs": [
        {
          "output_type": "execute_result",
          "data": {
            "text/plain": [
              "(194502, 18)"
            ]
          },
          "metadata": {},
          "execution_count": 282
        }
      ]
    },
    {
      "cell_type": "code",
      "source": [
        "y_train.shape"
      ],
      "metadata": {
        "colab": {
          "base_uri": "https://localhost:8080/"
        },
        "id": "YEvc1JvaORS2",
        "outputId": "1a524443-753f-4567-9633-417e4eca5055"
      },
      "execution_count": null,
      "outputs": [
        {
          "output_type": "execute_result",
          "data": {
            "text/plain": [
              "(361217,)"
            ]
          },
          "metadata": {},
          "execution_count": 283
        }
      ]
    },
    {
      "cell_type": "code",
      "source": [
        "y_test.shape"
      ],
      "metadata": {
        "colab": {
          "base_uri": "https://localhost:8080/"
        },
        "id": "eKlD3lZqOS5w",
        "outputId": "24af8fd5-c20d-464a-b415-9d50c1402721"
      },
      "execution_count": null,
      "outputs": [
        {
          "output_type": "execute_result",
          "data": {
            "text/plain": [
              "(194502,)"
            ]
          },
          "metadata": {},
          "execution_count": 284
        }
      ]
    },
    {
      "cell_type": "markdown",
      "source": [
        "# Importing all Models"
      ],
      "metadata": {
        "id": "vgOhs1cbtPCX"
      }
    },
    {
      "cell_type": "code",
      "source": [
        "from sklearn.linear_model import LogisticRegression\n",
        "from sklearn.neighbors import KNeighborsClassifier\n",
        "from sklearn.tree import DecisionTreeClassifier\n",
        "from sklearn.ensemble import RandomForestClassifier\n",
        "from sklearn.svm import SVC\n",
        "from sklearn.metrics import accuracy_score,confusion_matrix,precision_score, recall_score, f1_score"
      ],
      "metadata": {
        "id": "_oSWYjvDquwW"
      },
      "execution_count": null,
      "outputs": []
    },
    {
      "cell_type": "code",
      "source": [
        "logr = LogisticRegression()"
      ],
      "metadata": {
        "id": "zd-Us8juep61"
      },
      "execution_count": null,
      "outputs": []
    },
    {
      "cell_type": "code",
      "source": [
        "# fitting the training data into Logistic Regression\n",
        "logr.fit(X_train, y_train)"
      ],
      "metadata": {
        "colab": {
          "base_uri": "https://localhost:8080/",
          "height": 75
        },
        "id": "Lw9Z5c1OeFhQ",
        "outputId": "0323af18-d5de-4d2c-d289-c78d569e090a"
      },
      "execution_count": null,
      "outputs": [
        {
          "output_type": "execute_result",
          "data": {
            "text/plain": [
              "LogisticRegression()"
            ],
            "text/html": [
              "<style>#sk-container-id-8 {color: black;background-color: white;}#sk-container-id-8 pre{padding: 0;}#sk-container-id-8 div.sk-toggleable {background-color: white;}#sk-container-id-8 label.sk-toggleable__label {cursor: pointer;display: block;width: 100%;margin-bottom: 0;padding: 0.3em;box-sizing: border-box;text-align: center;}#sk-container-id-8 label.sk-toggleable__label-arrow:before {content: \"▸\";float: left;margin-right: 0.25em;color: #696969;}#sk-container-id-8 label.sk-toggleable__label-arrow:hover:before {color: black;}#sk-container-id-8 div.sk-estimator:hover label.sk-toggleable__label-arrow:before {color: black;}#sk-container-id-8 div.sk-toggleable__content {max-height: 0;max-width: 0;overflow: hidden;text-align: left;background-color: #f0f8ff;}#sk-container-id-8 div.sk-toggleable__content pre {margin: 0.2em;color: black;border-radius: 0.25em;background-color: #f0f8ff;}#sk-container-id-8 input.sk-toggleable__control:checked~div.sk-toggleable__content {max-height: 200px;max-width: 100%;overflow: auto;}#sk-container-id-8 input.sk-toggleable__control:checked~label.sk-toggleable__label-arrow:before {content: \"▾\";}#sk-container-id-8 div.sk-estimator input.sk-toggleable__control:checked~label.sk-toggleable__label {background-color: #d4ebff;}#sk-container-id-8 div.sk-label input.sk-toggleable__control:checked~label.sk-toggleable__label {background-color: #d4ebff;}#sk-container-id-8 input.sk-hidden--visually {border: 0;clip: rect(1px 1px 1px 1px);clip: rect(1px, 1px, 1px, 1px);height: 1px;margin: -1px;overflow: hidden;padding: 0;position: absolute;width: 1px;}#sk-container-id-8 div.sk-estimator {font-family: monospace;background-color: #f0f8ff;border: 1px dotted black;border-radius: 0.25em;box-sizing: border-box;margin-bottom: 0.5em;}#sk-container-id-8 div.sk-estimator:hover {background-color: #d4ebff;}#sk-container-id-8 div.sk-parallel-item::after {content: \"\";width: 100%;border-bottom: 1px solid gray;flex-grow: 1;}#sk-container-id-8 div.sk-label:hover label.sk-toggleable__label {background-color: #d4ebff;}#sk-container-id-8 div.sk-serial::before {content: \"\";position: absolute;border-left: 1px solid gray;box-sizing: border-box;top: 0;bottom: 0;left: 50%;z-index: 0;}#sk-container-id-8 div.sk-serial {display: flex;flex-direction: column;align-items: center;background-color: white;padding-right: 0.2em;padding-left: 0.2em;position: relative;}#sk-container-id-8 div.sk-item {position: relative;z-index: 1;}#sk-container-id-8 div.sk-parallel {display: flex;align-items: stretch;justify-content: center;background-color: white;position: relative;}#sk-container-id-8 div.sk-item::before, #sk-container-id-8 div.sk-parallel-item::before {content: \"\";position: absolute;border-left: 1px solid gray;box-sizing: border-box;top: 0;bottom: 0;left: 50%;z-index: -1;}#sk-container-id-8 div.sk-parallel-item {display: flex;flex-direction: column;z-index: 1;position: relative;background-color: white;}#sk-container-id-8 div.sk-parallel-item:first-child::after {align-self: flex-end;width: 50%;}#sk-container-id-8 div.sk-parallel-item:last-child::after {align-self: flex-start;width: 50%;}#sk-container-id-8 div.sk-parallel-item:only-child::after {width: 0;}#sk-container-id-8 div.sk-dashed-wrapped {border: 1px dashed gray;margin: 0 0.4em 0.5em 0.4em;box-sizing: border-box;padding-bottom: 0.4em;background-color: white;}#sk-container-id-8 div.sk-label label {font-family: monospace;font-weight: bold;display: inline-block;line-height: 1.2em;}#sk-container-id-8 div.sk-label-container {text-align: center;}#sk-container-id-8 div.sk-container {/* jupyter's `normalize.less` sets `[hidden] { display: none; }` but bootstrap.min.css set `[hidden] { display: none !important; }` so we also need the `!important` here to be able to override the default hidden behavior on the sphinx rendered scikit-learn.org. See: https://github.com/scikit-learn/scikit-learn/issues/21755 */display: inline-block !important;position: relative;}#sk-container-id-8 div.sk-text-repr-fallback {display: none;}</style><div id=\"sk-container-id-8\" class=\"sk-top-container\"><div class=\"sk-text-repr-fallback\"><pre>LogisticRegression()</pre><b>In a Jupyter environment, please rerun this cell to show the HTML representation or trust the notebook. <br />On GitHub, the HTML representation is unable to render, please try loading this page with nbviewer.org.</b></div><div class=\"sk-container\" hidden><div class=\"sk-item\"><div class=\"sk-estimator sk-toggleable\"><input class=\"sk-toggleable__control sk-hidden--visually\" id=\"sk-estimator-id-14\" type=\"checkbox\" checked><label for=\"sk-estimator-id-14\" class=\"sk-toggleable__label sk-toggleable__label-arrow\">LogisticRegression</label><div class=\"sk-toggleable__content\"><pre>LogisticRegression()</pre></div></div></div></div></div>"
            ]
          },
          "metadata": {},
          "execution_count": 287
        }
      ]
    },
    {
      "cell_type": "code",
      "source": [
        "y_pred = logr.predict(X_test)\n",
        "y_pred"
      ],
      "metadata": {
        "colab": {
          "base_uri": "https://localhost:8080/"
        },
        "id": "5TXnNDBlg5Uc",
        "outputId": "2bc7b56a-a799-4f9e-ff0d-c164d5e83712"
      },
      "execution_count": null,
      "outputs": [
        {
          "output_type": "execute_result",
          "data": {
            "text/plain": [
              "array([0., 0., 0., ..., 0., 0., 0.])"
            ]
          },
          "metadata": {},
          "execution_count": 288
        }
      ]
    },
    {
      "cell_type": "code",
      "source": [
        "y_pre=pd.DataFrame(y_pred)\n"
      ],
      "metadata": {
        "id": "6Wb-h3kEOWn-"
      },
      "execution_count": null,
      "outputs": []
    },
    {
      "cell_type": "code",
      "source": [
        "y_pre.value_counts()"
      ],
      "metadata": {
        "colab": {
          "base_uri": "https://localhost:8080/"
        },
        "id": "DIWu5NRdO6Uv",
        "outputId": "78f793e5-6f92-44ea-d411-2608538fc610"
      },
      "execution_count": null,
      "outputs": [
        {
          "output_type": "execute_result",
          "data": {
            "text/plain": [
              "0.0    194490\n",
              "1.0        12\n",
              "Name: count, dtype: int64"
            ]
          },
          "metadata": {},
          "execution_count": 292
        }
      ]
    },
    {
      "cell_type": "code",
      "source": [
        "y_test.value_counts()"
      ],
      "metadata": {
        "colab": {
          "base_uri": "https://localhost:8080/"
        },
        "id": "f4DaqNNyPJyX",
        "outputId": "b908d9c2-dd1a-4d3d-e890-9bd7d6b22ec0"
      },
      "execution_count": null,
      "outputs": [
        {
          "output_type": "execute_result",
          "data": {
            "text/plain": [
              "is_fraud\n",
              "0.0    193776\n",
              "1.0       726\n",
              "Name: count, dtype: int64"
            ]
          },
          "metadata": {},
          "execution_count": 293
        }
      ]
    },
    {
      "cell_type": "code",
      "source": [
        "# checking the training data score\n",
        "logr.score(X_train, y_train)"
      ],
      "metadata": {
        "colab": {
          "base_uri": "https://localhost:8080/"
        },
        "id": "hZFH-aMtfING",
        "outputId": "c9f0e098-42d4-4d3e-973d-b001fcf498ef"
      },
      "execution_count": null,
      "outputs": [
        {
          "output_type": "execute_result",
          "data": {
            "text/plain": [
              "0.9960190135015794"
            ]
          },
          "metadata": {},
          "execution_count": 193
        }
      ]
    },
    {
      "cell_type": "code",
      "source": [
        "# checking the testing data score\n",
        "logr.score(X_test, y_test)"
      ],
      "metadata": {
        "colab": {
          "base_uri": "https://localhost:8080/"
        },
        "id": "Swi2dGdMfRuZ",
        "outputId": "2747fd08-5ba1-4c91-dd0c-fadddcbdc605"
      },
      "execution_count": null,
      "outputs": [
        {
          "output_type": "execute_result",
          "data": {
            "text/plain": [
              "0.9962056945429867"
            ]
          },
          "metadata": {},
          "execution_count": 194
        }
      ]
    },
    {
      "cell_type": "code",
      "source": [
        "confusion_matrix(y_test,y_pred)"
      ],
      "metadata": {
        "colab": {
          "base_uri": "https://localhost:8080/"
        },
        "id": "eN6pp7CZtsex",
        "outputId": "c8decbf7-0251-4d71-e71b-204978e23096"
      },
      "execution_count": null,
      "outputs": [
        {
          "output_type": "execute_result",
          "data": {
            "text/plain": [
              "array([[193764,     12],\n",
              "       [   726,      0]])"
            ]
          },
          "metadata": {},
          "execution_count": 195
        }
      ]
    },
    {
      "cell_type": "code",
      "source": [
        "print(\"accuracy score is: \",accuracy_score(y_test, y_pred))\n",
        "print(\"precision scocre is: \",precision_score(y_test, y_pred))\n",
        "print(\"recall score is: \",recall_score(y_test, y_pred))\n",
        "print(\"f1 score is: \" ,f1_score(y_test, y_pred))"
      ],
      "metadata": {
        "colab": {
          "base_uri": "https://localhost:8080/"
        },
        "id": "ZhDVTb5VuuUr",
        "outputId": "c7eff25c-f005-4dbe-b60e-bfb2bacf00fd"
      },
      "execution_count": null,
      "outputs": [
        {
          "output_type": "stream",
          "name": "stdout",
          "text": [
            "accuracy score is:  0.9962056945429867\n",
            "precision score is:  0.0\n",
            "recall score is:  0.0\n",
            "f1 score is:  0.0\n"
          ]
        }
      ]
    },
    {
      "cell_type": "markdown",
      "source": [
        "# Decision tree classifier"
      ],
      "metadata": {
        "id": "KOzEekmMxh7G"
      }
    },
    {
      "cell_type": "code",
      "source": [
        "dtc=DecisionTreeClassifier(random_state=1)"
      ],
      "metadata": {
        "id": "E0sq4hSJvkFL"
      },
      "execution_count": null,
      "outputs": []
    },
    {
      "cell_type": "code",
      "source": [
        "dtc.fit(X_train,y_train)"
      ],
      "metadata": {
        "colab": {
          "base_uri": "https://localhost:8080/",
          "height": 75
        },
        "id": "EsFxTd2IoL3G",
        "outputId": "15d6d9d9-82f6-4865-ef57-d40db71a3540"
      },
      "execution_count": null,
      "outputs": [
        {
          "output_type": "execute_result",
          "data": {
            "text/plain": [
              "DecisionTreeClassifier(random_state=1)"
            ],
            "text/html": [
              "<style>#sk-container-id-3 {color: black;background-color: white;}#sk-container-id-3 pre{padding: 0;}#sk-container-id-3 div.sk-toggleable {background-color: white;}#sk-container-id-3 label.sk-toggleable__label {cursor: pointer;display: block;width: 100%;margin-bottom: 0;padding: 0.3em;box-sizing: border-box;text-align: center;}#sk-container-id-3 label.sk-toggleable__label-arrow:before {content: \"▸\";float: left;margin-right: 0.25em;color: #696969;}#sk-container-id-3 label.sk-toggleable__label-arrow:hover:before {color: black;}#sk-container-id-3 div.sk-estimator:hover label.sk-toggleable__label-arrow:before {color: black;}#sk-container-id-3 div.sk-toggleable__content {max-height: 0;max-width: 0;overflow: hidden;text-align: left;background-color: #f0f8ff;}#sk-container-id-3 div.sk-toggleable__content pre {margin: 0.2em;color: black;border-radius: 0.25em;background-color: #f0f8ff;}#sk-container-id-3 input.sk-toggleable__control:checked~div.sk-toggleable__content {max-height: 200px;max-width: 100%;overflow: auto;}#sk-container-id-3 input.sk-toggleable__control:checked~label.sk-toggleable__label-arrow:before {content: \"▾\";}#sk-container-id-3 div.sk-estimator input.sk-toggleable__control:checked~label.sk-toggleable__label {background-color: #d4ebff;}#sk-container-id-3 div.sk-label input.sk-toggleable__control:checked~label.sk-toggleable__label {background-color: #d4ebff;}#sk-container-id-3 input.sk-hidden--visually {border: 0;clip: rect(1px 1px 1px 1px);clip: rect(1px, 1px, 1px, 1px);height: 1px;margin: -1px;overflow: hidden;padding: 0;position: absolute;width: 1px;}#sk-container-id-3 div.sk-estimator {font-family: monospace;background-color: #f0f8ff;border: 1px dotted black;border-radius: 0.25em;box-sizing: border-box;margin-bottom: 0.5em;}#sk-container-id-3 div.sk-estimator:hover {background-color: #d4ebff;}#sk-container-id-3 div.sk-parallel-item::after {content: \"\";width: 100%;border-bottom: 1px solid gray;flex-grow: 1;}#sk-container-id-3 div.sk-label:hover label.sk-toggleable__label {background-color: #d4ebff;}#sk-container-id-3 div.sk-serial::before {content: \"\";position: absolute;border-left: 1px solid gray;box-sizing: border-box;top: 0;bottom: 0;left: 50%;z-index: 0;}#sk-container-id-3 div.sk-serial {display: flex;flex-direction: column;align-items: center;background-color: white;padding-right: 0.2em;padding-left: 0.2em;position: relative;}#sk-container-id-3 div.sk-item {position: relative;z-index: 1;}#sk-container-id-3 div.sk-parallel {display: flex;align-items: stretch;justify-content: center;background-color: white;position: relative;}#sk-container-id-3 div.sk-item::before, #sk-container-id-3 div.sk-parallel-item::before {content: \"\";position: absolute;border-left: 1px solid gray;box-sizing: border-box;top: 0;bottom: 0;left: 50%;z-index: -1;}#sk-container-id-3 div.sk-parallel-item {display: flex;flex-direction: column;z-index: 1;position: relative;background-color: white;}#sk-container-id-3 div.sk-parallel-item:first-child::after {align-self: flex-end;width: 50%;}#sk-container-id-3 div.sk-parallel-item:last-child::after {align-self: flex-start;width: 50%;}#sk-container-id-3 div.sk-parallel-item:only-child::after {width: 0;}#sk-container-id-3 div.sk-dashed-wrapped {border: 1px dashed gray;margin: 0 0.4em 0.5em 0.4em;box-sizing: border-box;padding-bottom: 0.4em;background-color: white;}#sk-container-id-3 div.sk-label label {font-family: monospace;font-weight: bold;display: inline-block;line-height: 1.2em;}#sk-container-id-3 div.sk-label-container {text-align: center;}#sk-container-id-3 div.sk-container {/* jupyter's `normalize.less` sets `[hidden] { display: none; }` but bootstrap.min.css set `[hidden] { display: none !important; }` so we also need the `!important` here to be able to override the default hidden behavior on the sphinx rendered scikit-learn.org. See: https://github.com/scikit-learn/scikit-learn/issues/21755 */display: inline-block !important;position: relative;}#sk-container-id-3 div.sk-text-repr-fallback {display: none;}</style><div id=\"sk-container-id-3\" class=\"sk-top-container\"><div class=\"sk-text-repr-fallback\"><pre>DecisionTreeClassifier(random_state=1)</pre><b>In a Jupyter environment, please rerun this cell to show the HTML representation or trust the notebook. <br />On GitHub, the HTML representation is unable to render, please try loading this page with nbviewer.org.</b></div><div class=\"sk-container\" hidden><div class=\"sk-item\"><div class=\"sk-estimator sk-toggleable\"><input class=\"sk-toggleable__control sk-hidden--visually\" id=\"sk-estimator-id-3\" type=\"checkbox\" checked><label for=\"sk-estimator-id-3\" class=\"sk-toggleable__label sk-toggleable__label-arrow\">DecisionTreeClassifier</label><div class=\"sk-toggleable__content\"><pre>DecisionTreeClassifier(random_state=1)</pre></div></div></div></div></div>"
            ]
          },
          "metadata": {},
          "execution_count": 199
        }
      ]
    },
    {
      "cell_type": "code",
      "source": [
        "from sklearn.model_selection import GridSearchCV\n"
      ],
      "metadata": {
        "id": "9WoT48Dim247"
      },
      "execution_count": null,
      "outputs": []
    },
    {
      "cell_type": "code",
      "source": [
        "import warnings\n",
        "warnings.filterwarnings('ignore')"
      ],
      "metadata": {
        "id": "PBcLI9h6zij-"
      },
      "execution_count": null,
      "outputs": []
    },
    {
      "cell_type": "code",
      "source": [
        "# Define the parameter grid\n",
        "param_grid = {\n",
        "    'criterion': ['gini', 'entropy'],\n",
        "    'splitter' : ['best','random'],\n",
        "    'max_depth': [5,9,10]\n",
        "}"
      ],
      "metadata": {
        "id": "cL3MRTBdnSzu"
      },
      "execution_count": null,
      "outputs": []
    },
    {
      "cell_type": "code",
      "source": [
        "grid_search = GridSearchCV(estimator=dtc, param_grid=param_grid, cv=5, scoring='accuracy')\n"
      ],
      "metadata": {
        "id": "-sHpovOsnU54"
      },
      "execution_count": null,
      "outputs": []
    },
    {
      "cell_type": "code",
      "source": [
        "grid_search.fit(X_train,y_train)"
      ],
      "metadata": {
        "colab": {
          "base_uri": "https://localhost:8080/",
          "height": 118
        },
        "id": "80fj6pJ_ojpq",
        "outputId": "2a7e170f-993e-4b54-c624-80bf0c5ec901"
      },
      "execution_count": null,
      "outputs": [
        {
          "output_type": "execute_result",
          "data": {
            "text/plain": [
              "GridSearchCV(cv=5, estimator=DecisionTreeClassifier(random_state=1),\n",
              "             param_grid={'criterion': ['gini', 'entropy'],\n",
              "                         'max_depth': [5, 9, 10],\n",
              "                         'splitter': ['best', 'random']},\n",
              "             scoring='accuracy')"
            ],
            "text/html": [
              "<style>#sk-container-id-6 {color: black;background-color: white;}#sk-container-id-6 pre{padding: 0;}#sk-container-id-6 div.sk-toggleable {background-color: white;}#sk-container-id-6 label.sk-toggleable__label {cursor: pointer;display: block;width: 100%;margin-bottom: 0;padding: 0.3em;box-sizing: border-box;text-align: center;}#sk-container-id-6 label.sk-toggleable__label-arrow:before {content: \"▸\";float: left;margin-right: 0.25em;color: #696969;}#sk-container-id-6 label.sk-toggleable__label-arrow:hover:before {color: black;}#sk-container-id-6 div.sk-estimator:hover label.sk-toggleable__label-arrow:before {color: black;}#sk-container-id-6 div.sk-toggleable__content {max-height: 0;max-width: 0;overflow: hidden;text-align: left;background-color: #f0f8ff;}#sk-container-id-6 div.sk-toggleable__content pre {margin: 0.2em;color: black;border-radius: 0.25em;background-color: #f0f8ff;}#sk-container-id-6 input.sk-toggleable__control:checked~div.sk-toggleable__content {max-height: 200px;max-width: 100%;overflow: auto;}#sk-container-id-6 input.sk-toggleable__control:checked~label.sk-toggleable__label-arrow:before {content: \"▾\";}#sk-container-id-6 div.sk-estimator input.sk-toggleable__control:checked~label.sk-toggleable__label {background-color: #d4ebff;}#sk-container-id-6 div.sk-label input.sk-toggleable__control:checked~label.sk-toggleable__label {background-color: #d4ebff;}#sk-container-id-6 input.sk-hidden--visually {border: 0;clip: rect(1px 1px 1px 1px);clip: rect(1px, 1px, 1px, 1px);height: 1px;margin: -1px;overflow: hidden;padding: 0;position: absolute;width: 1px;}#sk-container-id-6 div.sk-estimator {font-family: monospace;background-color: #f0f8ff;border: 1px dotted black;border-radius: 0.25em;box-sizing: border-box;margin-bottom: 0.5em;}#sk-container-id-6 div.sk-estimator:hover {background-color: #d4ebff;}#sk-container-id-6 div.sk-parallel-item::after {content: \"\";width: 100%;border-bottom: 1px solid gray;flex-grow: 1;}#sk-container-id-6 div.sk-label:hover label.sk-toggleable__label {background-color: #d4ebff;}#sk-container-id-6 div.sk-serial::before {content: \"\";position: absolute;border-left: 1px solid gray;box-sizing: border-box;top: 0;bottom: 0;left: 50%;z-index: 0;}#sk-container-id-6 div.sk-serial {display: flex;flex-direction: column;align-items: center;background-color: white;padding-right: 0.2em;padding-left: 0.2em;position: relative;}#sk-container-id-6 div.sk-item {position: relative;z-index: 1;}#sk-container-id-6 div.sk-parallel {display: flex;align-items: stretch;justify-content: center;background-color: white;position: relative;}#sk-container-id-6 div.sk-item::before, #sk-container-id-6 div.sk-parallel-item::before {content: \"\";position: absolute;border-left: 1px solid gray;box-sizing: border-box;top: 0;bottom: 0;left: 50%;z-index: -1;}#sk-container-id-6 div.sk-parallel-item {display: flex;flex-direction: column;z-index: 1;position: relative;background-color: white;}#sk-container-id-6 div.sk-parallel-item:first-child::after {align-self: flex-end;width: 50%;}#sk-container-id-6 div.sk-parallel-item:last-child::after {align-self: flex-start;width: 50%;}#sk-container-id-6 div.sk-parallel-item:only-child::after {width: 0;}#sk-container-id-6 div.sk-dashed-wrapped {border: 1px dashed gray;margin: 0 0.4em 0.5em 0.4em;box-sizing: border-box;padding-bottom: 0.4em;background-color: white;}#sk-container-id-6 div.sk-label label {font-family: monospace;font-weight: bold;display: inline-block;line-height: 1.2em;}#sk-container-id-6 div.sk-label-container {text-align: center;}#sk-container-id-6 div.sk-container {/* jupyter's `normalize.less` sets `[hidden] { display: none; }` but bootstrap.min.css set `[hidden] { display: none !important; }` so we also need the `!important` here to be able to override the default hidden behavior on the sphinx rendered scikit-learn.org. See: https://github.com/scikit-learn/scikit-learn/issues/21755 */display: inline-block !important;position: relative;}#sk-container-id-6 div.sk-text-repr-fallback {display: none;}</style><div id=\"sk-container-id-6\" class=\"sk-top-container\"><div class=\"sk-text-repr-fallback\"><pre>GridSearchCV(cv=5, estimator=DecisionTreeClassifier(random_state=1),\n",
              "             param_grid={&#x27;criterion&#x27;: [&#x27;gini&#x27;, &#x27;entropy&#x27;],\n",
              "                         &#x27;max_depth&#x27;: [5, 9, 10],\n",
              "                         &#x27;splitter&#x27;: [&#x27;best&#x27;, &#x27;random&#x27;]},\n",
              "             scoring=&#x27;accuracy&#x27;)</pre><b>In a Jupyter environment, please rerun this cell to show the HTML representation or trust the notebook. <br />On GitHub, the HTML representation is unable to render, please try loading this page with nbviewer.org.</b></div><div class=\"sk-container\" hidden><div class=\"sk-item sk-dashed-wrapped\"><div class=\"sk-label-container\"><div class=\"sk-label sk-toggleable\"><input class=\"sk-toggleable__control sk-hidden--visually\" id=\"sk-estimator-id-10\" type=\"checkbox\" ><label for=\"sk-estimator-id-10\" class=\"sk-toggleable__label sk-toggleable__label-arrow\">GridSearchCV</label><div class=\"sk-toggleable__content\"><pre>GridSearchCV(cv=5, estimator=DecisionTreeClassifier(random_state=1),\n",
              "             param_grid={&#x27;criterion&#x27;: [&#x27;gini&#x27;, &#x27;entropy&#x27;],\n",
              "                         &#x27;max_depth&#x27;: [5, 9, 10],\n",
              "                         &#x27;splitter&#x27;: [&#x27;best&#x27;, &#x27;random&#x27;]},\n",
              "             scoring=&#x27;accuracy&#x27;)</pre></div></div></div><div class=\"sk-parallel\"><div class=\"sk-parallel-item\"><div class=\"sk-item\"><div class=\"sk-label-container\"><div class=\"sk-label sk-toggleable\"><input class=\"sk-toggleable__control sk-hidden--visually\" id=\"sk-estimator-id-11\" type=\"checkbox\" ><label for=\"sk-estimator-id-11\" class=\"sk-toggleable__label sk-toggleable__label-arrow\">estimator: DecisionTreeClassifier</label><div class=\"sk-toggleable__content\"><pre>DecisionTreeClassifier(random_state=1)</pre></div></div></div><div class=\"sk-serial\"><div class=\"sk-item\"><div class=\"sk-estimator sk-toggleable\"><input class=\"sk-toggleable__control sk-hidden--visually\" id=\"sk-estimator-id-12\" type=\"checkbox\" ><label for=\"sk-estimator-id-12\" class=\"sk-toggleable__label sk-toggleable__label-arrow\">DecisionTreeClassifier</label><div class=\"sk-toggleable__content\"><pre>DecisionTreeClassifier(random_state=1)</pre></div></div></div></div></div></div></div></div></div></div>"
            ]
          },
          "metadata": {},
          "execution_count": 214
        }
      ]
    },
    {
      "cell_type": "code",
      "source": [
        "best_params = grid_search.best_params_\n",
        "best_params"
      ],
      "metadata": {
        "colab": {
          "base_uri": "https://localhost:8080/"
        },
        "id": "Ezlz-PAxor-m",
        "outputId": "c1dd8775-9d70-47c0-89ca-a3165e563751"
      },
      "execution_count": null,
      "outputs": [
        {
          "output_type": "execute_result",
          "data": {
            "text/plain": [
              "{'criterion': 'entropy', 'max_depth': 9, 'splitter': 'best'}"
            ]
          },
          "metadata": {},
          "execution_count": 215
        }
      ]
    },
    {
      "cell_type": "code",
      "source": [
        "# Initialize the Decision Tree classifier with the best parameters\n",
        "best_tree_model = DecisionTreeClassifier(**best_params, random_state=1)\n",
        "\n",
        "# Train the model\n",
        "best_tree_model.fit(X_train, y_train)\n",
        "\n",
        "# Evaluate the model\n",
        "best_tree_model.score(X_train, y_train)\n"
      ],
      "metadata": {
        "colab": {
          "base_uri": "https://localhost:8080/"
        },
        "id": "0Y1BaVrJox6D",
        "outputId": "308c894c-0fac-4ec6-8da3-bc8d995e853e"
      },
      "execution_count": null,
      "outputs": [
        {
          "output_type": "execute_result",
          "data": {
            "text/plain": [
              "0.9991113375062636"
            ]
          },
          "metadata": {},
          "execution_count": 216
        }
      ]
    },
    {
      "cell_type": "code",
      "source": [
        "best_tree_model.score(X_test, y_test)"
      ],
      "metadata": {
        "colab": {
          "base_uri": "https://localhost:8080/"
        },
        "id": "iay4CM6Wo4hW",
        "outputId": "9d0f544d-1b86-4b61-a832-56c9bb5c2be8"
      },
      "execution_count": null,
      "outputs": [
        {
          "output_type": "execute_result",
          "data": {
            "text/plain": [
              "0.9987917862027126"
            ]
          },
          "metadata": {},
          "execution_count": 217
        }
      ]
    },
    {
      "cell_type": "code",
      "source": [
        "y_pred=best_tree_model.predict(X_test)\n",
        "y_pred"
      ],
      "metadata": {
        "colab": {
          "base_uri": "https://localhost:8080/"
        },
        "id": "QUOYJgXTxl-E",
        "outputId": "d4c3da95-6749-4213-ec4d-67a0a7fc2ba4"
      },
      "execution_count": null,
      "outputs": [
        {
          "output_type": "execute_result",
          "data": {
            "text/plain": [
              "array([0., 0., 0., ..., 0., 0., 0.])"
            ]
          },
          "metadata": {},
          "execution_count": 221
        }
      ]
    },
    {
      "cell_type": "code",
      "source": [
        "confusion_matrix(y_test,y_pred)"
      ],
      "metadata": {
        "colab": {
          "base_uri": "https://localhost:8080/"
        },
        "outputId": "726bc66f-62a8-4a5d-c76e-b67dbd567621",
        "id": "kV9axrvM0izH"
      },
      "execution_count": null,
      "outputs": [
        {
          "output_type": "execute_result",
          "data": {
            "text/plain": [
              "array([[193701,     75],\n",
              "       [   160,    566]])"
            ]
          },
          "metadata": {},
          "execution_count": 222
        }
      ]
    },
    {
      "cell_type": "code",
      "source": [
        "print(\"accuracy score is: \",accuracy_score(y_test, y_pred))\n",
        "print(\"precision scocre is: \",precision_score(y_test, y_pred))\n",
        "print(\"recall score is: \",recall_score(y_test, y_pred))\n",
        "print(\"f1 score is: \" ,f1_score(y_test, y_pred))"
      ],
      "metadata": {
        "colab": {
          "base_uri": "https://localhost:8080/"
        },
        "outputId": "c3df8589-dd28-4fe8-bd08-bb7e7e272507",
        "id": "ijbHJpRJ0izW"
      },
      "execution_count": null,
      "outputs": [
        {
          "output_type": "stream",
          "name": "stdout",
          "text": [
            "accuracy score is:  0.9987917862027126\n",
            "precision scocre is:  0.8829953198127926\n",
            "recall score is:  0.7796143250688705\n",
            "f1 score is:  0.8280907095830286\n"
          ]
        }
      ]
    },
    {
      "cell_type": "markdown",
      "source": [
        "# BY applying DTC our accuracy increased from 99.6 to 99.8"
      ],
      "metadata": {
        "id": "ve0LT0Kl2XqE"
      }
    },
    {
      "cell_type": "code",
      "source": [
        "# applying SVC model\n",
        "svc=SVC()"
      ],
      "metadata": {
        "id": "QbN0USv-2mz-"
      },
      "execution_count": null,
      "outputs": []
    },
    {
      "cell_type": "code",
      "source": [
        "svc.fit(X_train,y_train)"
      ],
      "metadata": {
        "colab": {
          "base_uri": "https://localhost:8080/",
          "height": 287
        },
        "id": "V-QEL9ov4NdG",
        "outputId": "fa9edb79-4421-4b76-e01c-4c258e7e2ce1"
      },
      "execution_count": null,
      "outputs": [
        {
          "output_type": "error",
          "ename": "KeyboardInterrupt",
          "evalue": "",
          "traceback": [
            "\u001b[0;31m---------------------------------------------------------------------------\u001b[0m",
            "\u001b[0;31mKeyboardInterrupt\u001b[0m                         Traceback (most recent call last)",
            "\u001b[0;32m<ipython-input-225-ea6b1993093e>\u001b[0m in \u001b[0;36m<cell line: 1>\u001b[0;34m()\u001b[0m\n\u001b[0;32m----> 1\u001b[0;31m \u001b[0msvc\u001b[0m\u001b[0;34m.\u001b[0m\u001b[0mfit\u001b[0m\u001b[0;34m(\u001b[0m\u001b[0mX_train\u001b[0m\u001b[0;34m,\u001b[0m\u001b[0my_train\u001b[0m\u001b[0;34m)\u001b[0m\u001b[0;34m\u001b[0m\u001b[0;34m\u001b[0m\u001b[0m\n\u001b[0m",
            "\u001b[0;32m/usr/local/lib/python3.10/dist-packages/sklearn/svm/_base.py\u001b[0m in \u001b[0;36mfit\u001b[0;34m(self, X, y, sample_weight)\u001b[0m\n\u001b[1;32m    250\u001b[0m \u001b[0;34m\u001b[0m\u001b[0m\n\u001b[1;32m    251\u001b[0m         \u001b[0mseed\u001b[0m \u001b[0;34m=\u001b[0m \u001b[0mrnd\u001b[0m\u001b[0;34m.\u001b[0m\u001b[0mrandint\u001b[0m\u001b[0;34m(\u001b[0m\u001b[0mnp\u001b[0m\u001b[0;34m.\u001b[0m\u001b[0miinfo\u001b[0m\u001b[0;34m(\u001b[0m\u001b[0;34m\"i\"\u001b[0m\u001b[0;34m)\u001b[0m\u001b[0;34m.\u001b[0m\u001b[0mmax\u001b[0m\u001b[0;34m)\u001b[0m\u001b[0;34m\u001b[0m\u001b[0;34m\u001b[0m\u001b[0m\n\u001b[0;32m--> 252\u001b[0;31m         \u001b[0mfit\u001b[0m\u001b[0;34m(\u001b[0m\u001b[0mX\u001b[0m\u001b[0;34m,\u001b[0m \u001b[0my\u001b[0m\u001b[0;34m,\u001b[0m \u001b[0msample_weight\u001b[0m\u001b[0;34m,\u001b[0m \u001b[0msolver_type\u001b[0m\u001b[0;34m,\u001b[0m \u001b[0mkernel\u001b[0m\u001b[0;34m,\u001b[0m \u001b[0mrandom_seed\u001b[0m\u001b[0;34m=\u001b[0m\u001b[0mseed\u001b[0m\u001b[0;34m)\u001b[0m\u001b[0;34m\u001b[0m\u001b[0;34m\u001b[0m\u001b[0m\n\u001b[0m\u001b[1;32m    253\u001b[0m         \u001b[0;31m# see comment on the other call to np.iinfo in this file\u001b[0m\u001b[0;34m\u001b[0m\u001b[0;34m\u001b[0m\u001b[0m\n\u001b[1;32m    254\u001b[0m \u001b[0;34m\u001b[0m\u001b[0m\n",
            "\u001b[0;32m/usr/local/lib/python3.10/dist-packages/sklearn/svm/_base.py\u001b[0m in \u001b[0;36m_dense_fit\u001b[0;34m(self, X, y, sample_weight, solver_type, kernel, random_seed)\u001b[0m\n\u001b[1;32m    329\u001b[0m             \u001b[0mself\u001b[0m\u001b[0;34m.\u001b[0m\u001b[0mfit_status_\u001b[0m\u001b[0;34m,\u001b[0m\u001b[0;34m\u001b[0m\u001b[0;34m\u001b[0m\u001b[0m\n\u001b[1;32m    330\u001b[0m             \u001b[0mself\u001b[0m\u001b[0;34m.\u001b[0m\u001b[0m_num_iter\u001b[0m\u001b[0;34m,\u001b[0m\u001b[0;34m\u001b[0m\u001b[0;34m\u001b[0m\u001b[0m\n\u001b[0;32m--> 331\u001b[0;31m         \u001b[0;34m)\u001b[0m \u001b[0;34m=\u001b[0m \u001b[0mlibsvm\u001b[0m\u001b[0;34m.\u001b[0m\u001b[0mfit\u001b[0m\u001b[0;34m(\u001b[0m\u001b[0;34m\u001b[0m\u001b[0;34m\u001b[0m\u001b[0m\n\u001b[0m\u001b[1;32m    332\u001b[0m             \u001b[0mX\u001b[0m\u001b[0;34m,\u001b[0m\u001b[0;34m\u001b[0m\u001b[0;34m\u001b[0m\u001b[0m\n\u001b[1;32m    333\u001b[0m             \u001b[0my\u001b[0m\u001b[0;34m,\u001b[0m\u001b[0;34m\u001b[0m\u001b[0;34m\u001b[0m\u001b[0m\n",
            "\u001b[0;31mKeyboardInterrupt\u001b[0m: "
          ]
        }
      ]
    },
    {
      "cell_type": "code",
      "source": [
        "y_pred = svc.predict(X_test)\n",
        "y_pred"
      ],
      "metadata": {
        "colab": {
          "base_uri": "https://localhost:8080/"
        },
        "outputId": "28703254-154f-4e94-ac31-9d002aa6f08a",
        "id": "D4zb9dT34eut"
      },
      "execution_count": null,
      "outputs": [
        {
          "output_type": "execute_result",
          "data": {
            "text/plain": [
              "array([0., 0., 0., ..., 0., 0., 0.])"
            ]
          },
          "metadata": {},
          "execution_count": 192
        }
      ]
    },
    {
      "cell_type": "code",
      "source": [
        "# checking the training data score\n",
        "svc.score(X_train, y_train)"
      ],
      "metadata": {
        "colab": {
          "base_uri": "https://localhost:8080/"
        },
        "outputId": "c9f0e098-42d4-4d3e-973d-b001fcf498ef",
        "id": "rIfv7vxm4evB"
      },
      "execution_count": null,
      "outputs": [
        {
          "output_type": "execute_result",
          "data": {
            "text/plain": [
              "0.9960190135015794"
            ]
          },
          "metadata": {},
          "execution_count": 193
        }
      ]
    },
    {
      "cell_type": "code",
      "source": [
        "# checking the testing data score\n",
        "svc.score(X_test, y_test)"
      ],
      "metadata": {
        "colab": {
          "base_uri": "https://localhost:8080/"
        },
        "outputId": "2747fd08-5ba1-4c91-dd0c-fadddcbdc605",
        "id": "-VUveXeE4evC"
      },
      "execution_count": null,
      "outputs": [
        {
          "output_type": "execute_result",
          "data": {
            "text/plain": [
              "0.9962056945429867"
            ]
          },
          "metadata": {},
          "execution_count": 194
        }
      ]
    },
    {
      "cell_type": "markdown",
      "source": [
        "# finding accuracy for all the models at once"
      ],
      "metadata": {
        "id": "ytxBJNED5r6g"
      }
    },
    {
      "cell_type": "code",
      "source": [
        "try_models = [LogisticRegression(),KNeighborsClassifier(),DecisionTreeClassifier(),RandomForestClassifier(),SVC()]"
      ],
      "metadata": {
        "id": "417qYUyB7ONc"
      },
      "execution_count": null,
      "outputs": []
    },
    {
      "cell_type": "code",
      "source": [
        "from sklearn.metrics import accuracy_score,confusion_matrix,precision_score, recall_score, f1_score\n",
        "for model in try_models:\n",
        "    model.fit(X_train, y_train)\n",
        "    y_pred = model.predict(X_test)\n",
        "    print(f\"{model.__class__.__name__} :\")\n",
        "    confusion_matrix(y_test,y_pred)\n",
        "    print(f\"accuracy score is: {accuracy_score(y_test, y_pred)}\")\n",
        "    print(f\"precision score is: {precision_score(y_test, y_pred)}\")\n",
        "    print(f\"recall score is: {recall_score(y_test, y_pred)}\")\n",
        "    print(f\"f1 score is: {f1_score}\")"
      ],
      "metadata": {
        "colab": {
          "base_uri": "https://localhost:8080/"
        },
        "id": "lXxISOsF7JkB",
        "outputId": "6268d15a-b688-4d8d-90ce-c791bf8d46cb"
      },
      "execution_count": null,
      "outputs": [
        {
          "output_type": "stream",
          "name": "stdout",
          "text": [
            "LogisticRegression :\n",
            "accuracy score is: 0.9962056945429867\n",
            "precision score is: 0.0\n",
            "recall score is: 0.0\n",
            "f1 score is: <function f1_score at 0x7c17aefa5360>\n",
            "KNeighborsClassifier :\n",
            "accuracy score is: 0.9962519665607552\n",
            "precision score is: 0.47368421052631576\n",
            "recall score is: 0.0371900826446281\n",
            "f1 score is: <function f1_score at 0x7c17aefa5360>\n",
            "DecisionTreeClassifier :\n",
            "accuracy score is: 0.9979434658769576\n",
            "precision score is: 0.7047738693467337\n",
            "recall score is: 0.7727272727272727\n",
            "f1 score is: <function f1_score at 0x7c17aefa5360>\n",
            "RandomForestClassifier :\n",
            "accuracy score is: 0.9986272634728691\n",
            "precision score is: 0.9811320754716981\n",
            "recall score is: 0.6446280991735537\n",
            "f1 score is: <function f1_score at 0x7c17aefa5360>\n",
            "SVC :\n",
            "accuracy score is: 0.996267390566678\n",
            "precision score is: 0.0\n",
            "recall score is: 0.0\n",
            "f1 score is: <function f1_score at 0x7c17aefa5360>\n"
          ]
        }
      ]
    },
    {
      "cell_type": "markdown",
      "source": [
        "# As you can see the highest accuracy is of random forest classifier that is of 99.86\n",
        "\n",
        "# but as you can see earlier for decision tree classifier when parameters are :{'criterion': 'entropy', 'max_depth': 9, 'splitter': 'best'} accuracy score is:  0.9987917862027126\n",
        "\n",
        "# the accuracy of gradient boosting is 99.62 see below\n",
        "## image below"
      ],
      "metadata": {
        "id": "VVdce8wDEA2m"
      }
    },
    {
      "cell_type": "markdown",
      "source": [
        "![image.png](data:image/png;base64,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)"
      ],
      "metadata": {
        "id": "4CgYuCmVEaBQ"
      }
    },
    {
      "cell_type": "code",
      "source": [
        "from sklearn.ensemble import GradientBoostingClassifier"
      ],
      "metadata": {
        "id": "sbKQt5PA50aQ"
      },
      "execution_count": null,
      "outputs": []
    },
    {
      "cell_type": "code",
      "source": [
        "gbc=GradientBoostingClassifier(random_state=1)"
      ],
      "metadata": {
        "id": "yLGHtB0O57Sc"
      },
      "execution_count": null,
      "outputs": []
    },
    {
      "cell_type": "code",
      "source": [
        "gbc.fit(X_train,y_train)"
      ],
      "metadata": {
        "colab": {
          "base_uri": "https://localhost:8080/",
          "height": 75
        },
        "id": "0w8i3vk56UV4",
        "outputId": "5466bb47-de54-468b-b885-185ee1ed99da"
      },
      "execution_count": null,
      "outputs": [
        {
          "output_type": "execute_result",
          "data": {
            "text/plain": [
              "GradientBoostingClassifier(random_state=1)"
            ],
            "text/html": [
              "<style>#sk-container-id-7 {color: black;background-color: white;}#sk-container-id-7 pre{padding: 0;}#sk-container-id-7 div.sk-toggleable {background-color: white;}#sk-container-id-7 label.sk-toggleable__label {cursor: pointer;display: block;width: 100%;margin-bottom: 0;padding: 0.3em;box-sizing: border-box;text-align: center;}#sk-container-id-7 label.sk-toggleable__label-arrow:before {content: \"▸\";float: left;margin-right: 0.25em;color: #696969;}#sk-container-id-7 label.sk-toggleable__label-arrow:hover:before {color: black;}#sk-container-id-7 div.sk-estimator:hover label.sk-toggleable__label-arrow:before {color: black;}#sk-container-id-7 div.sk-toggleable__content {max-height: 0;max-width: 0;overflow: hidden;text-align: left;background-color: #f0f8ff;}#sk-container-id-7 div.sk-toggleable__content pre {margin: 0.2em;color: black;border-radius: 0.25em;background-color: #f0f8ff;}#sk-container-id-7 input.sk-toggleable__control:checked~div.sk-toggleable__content {max-height: 200px;max-width: 100%;overflow: auto;}#sk-container-id-7 input.sk-toggleable__control:checked~label.sk-toggleable__label-arrow:before {content: \"▾\";}#sk-container-id-7 div.sk-estimator input.sk-toggleable__control:checked~label.sk-toggleable__label {background-color: #d4ebff;}#sk-container-id-7 div.sk-label input.sk-toggleable__control:checked~label.sk-toggleable__label {background-color: #d4ebff;}#sk-container-id-7 input.sk-hidden--visually {border: 0;clip: rect(1px 1px 1px 1px);clip: rect(1px, 1px, 1px, 1px);height: 1px;margin: -1px;overflow: hidden;padding: 0;position: absolute;width: 1px;}#sk-container-id-7 div.sk-estimator {font-family: monospace;background-color: #f0f8ff;border: 1px dotted black;border-radius: 0.25em;box-sizing: border-box;margin-bottom: 0.5em;}#sk-container-id-7 div.sk-estimator:hover {background-color: #d4ebff;}#sk-container-id-7 div.sk-parallel-item::after {content: \"\";width: 100%;border-bottom: 1px solid gray;flex-grow: 1;}#sk-container-id-7 div.sk-label:hover label.sk-toggleable__label {background-color: #d4ebff;}#sk-container-id-7 div.sk-serial::before {content: \"\";position: absolute;border-left: 1px solid gray;box-sizing: border-box;top: 0;bottom: 0;left: 50%;z-index: 0;}#sk-container-id-7 div.sk-serial {display: flex;flex-direction: column;align-items: center;background-color: white;padding-right: 0.2em;padding-left: 0.2em;position: relative;}#sk-container-id-7 div.sk-item {position: relative;z-index: 1;}#sk-container-id-7 div.sk-parallel {display: flex;align-items: stretch;justify-content: center;background-color: white;position: relative;}#sk-container-id-7 div.sk-item::before, #sk-container-id-7 div.sk-parallel-item::before {content: \"\";position: absolute;border-left: 1px solid gray;box-sizing: border-box;top: 0;bottom: 0;left: 50%;z-index: -1;}#sk-container-id-7 div.sk-parallel-item {display: flex;flex-direction: column;z-index: 1;position: relative;background-color: white;}#sk-container-id-7 div.sk-parallel-item:first-child::after {align-self: flex-end;width: 50%;}#sk-container-id-7 div.sk-parallel-item:last-child::after {align-self: flex-start;width: 50%;}#sk-container-id-7 div.sk-parallel-item:only-child::after {width: 0;}#sk-container-id-7 div.sk-dashed-wrapped {border: 1px dashed gray;margin: 0 0.4em 0.5em 0.4em;box-sizing: border-box;padding-bottom: 0.4em;background-color: white;}#sk-container-id-7 div.sk-label label {font-family: monospace;font-weight: bold;display: inline-block;line-height: 1.2em;}#sk-container-id-7 div.sk-label-container {text-align: center;}#sk-container-id-7 div.sk-container {/* jupyter's `normalize.less` sets `[hidden] { display: none; }` but bootstrap.min.css set `[hidden] { display: none !important; }` so we also need the `!important` here to be able to override the default hidden behavior on the sphinx rendered scikit-learn.org. See: https://github.com/scikit-learn/scikit-learn/issues/21755 */display: inline-block !important;position: relative;}#sk-container-id-7 div.sk-text-repr-fallback {display: none;}</style><div id=\"sk-container-id-7\" class=\"sk-top-container\"><div class=\"sk-text-repr-fallback\"><pre>GradientBoostingClassifier(random_state=1)</pre><b>In a Jupyter environment, please rerun this cell to show the HTML representation or trust the notebook. <br />On GitHub, the HTML representation is unable to render, please try loading this page with nbviewer.org.</b></div><div class=\"sk-container\" hidden><div class=\"sk-item\"><div class=\"sk-estimator sk-toggleable\"><input class=\"sk-toggleable__control sk-hidden--visually\" id=\"sk-estimator-id-13\" type=\"checkbox\" checked><label for=\"sk-estimator-id-13\" class=\"sk-toggleable__label sk-toggleable__label-arrow\">GradientBoostingClassifier</label><div class=\"sk-toggleable__content\"><pre>GradientBoostingClassifier(random_state=1)</pre></div></div></div></div></div>"
            ]
          },
          "metadata": {},
          "execution_count": 231
        }
      ]
    },
    {
      "cell_type": "code",
      "source": [
        "gbc.score(X_train,y_train)"
      ],
      "metadata": {
        "colab": {
          "base_uri": "https://localhost:8080/"
        },
        "id": "CmmTenk96Xtu",
        "outputId": "36cf6842-d995-4101-d861-bcf044161f4c"
      },
      "execution_count": null,
      "outputs": [
        {
          "output_type": "execute_result",
          "data": {
            "text/plain": [
              "0.9982309802694779"
            ]
          },
          "metadata": {},
          "execution_count": 232
        }
      ]
    },
    {
      "cell_type": "code",
      "source": [
        "y_pred = gbc.predict(X_test)\n",
        "y_pred"
      ],
      "metadata": {
        "colab": {
          "base_uri": "https://localhost:8080/"
        },
        "id": "p0oDk1kATU9O",
        "outputId": "6521d54e-038f-47ff-a088-78a19dd7a356"
      },
      "execution_count": null,
      "outputs": [
        {
          "output_type": "execute_result",
          "data": {
            "text/plain": [
              "array([0., 0., 0., ..., 0., 0., 0.])"
            ]
          },
          "metadata": {},
          "execution_count": 306
        }
      ]
    },
    {
      "cell_type": "code",
      "source": [
        "gbc.score(X_test,y_test)"
      ],
      "metadata": {
        "colab": {
          "base_uri": "https://localhost:8080/"
        },
        "id": "U8Bg0J_c6bTt",
        "outputId": "d927face-5130-4a65-fe0e-f0b04c0ab29a"
      },
      "execution_count": null,
      "outputs": [
        {
          "output_type": "execute_result",
          "data": {
            "text/plain": [
              "0.9982570873307215"
            ]
          },
          "metadata": {},
          "execution_count": 233
        }
      ]
    },
    {
      "cell_type": "code",
      "source": [
        "confusion_matrix(y_test,y_pred)"
      ],
      "metadata": {
        "colab": {
          "base_uri": "https://localhost:8080/"
        },
        "outputId": "8276f00f-9dfc-40fb-f9bd-7ca2a3685f41",
        "id": "CDCKmVgvFsGQ"
      },
      "execution_count": null,
      "outputs": [
        {
          "output_type": "execute_result",
          "data": {
            "text/plain": [
              "array([[193707,     69],\n",
              "       [   270,    456]])"
            ]
          },
          "metadata": {},
          "execution_count": 305
        }
      ]
    },
    {
      "cell_type": "code",
      "source": [
        "print(\"accuracy score is: \",accuracy_score(y_test, y_pred))\n",
        "print(\"precision scocre is: \",precision_score(y_test, y_pred))\n",
        "print(\"recall score is: \",recall_score(y_test, y_pred))\n",
        "print(\"f1 score is: \" ,f1_score(y_test, y_pred))"
      ],
      "metadata": {
        "colab": {
          "base_uri": "https://localhost:8080/"
        },
        "outputId": "e499f4ae-9041-4781-9cbd-aeba60a2a603",
        "id": "wu2vOE3BFsGR"
      },
      "execution_count": null,
      "outputs": [
        {
          "output_type": "stream",
          "name": "stdout",
          "text": [
            "accuracy score is:  0.9982570873307215\n",
            "precision scocre is:  0.8685714285714285\n",
            "recall score is:  0.628099173553719\n",
            "f1 score is:  0.7290167865707435\n"
          ]
        }
      ]
    },
    {
      "cell_type": "markdown",
      "source": [
        "# SO to conclude we can say that Decision Tree classifier when parameters are :{'criterion': 'entropy', 'max_depth': 9, 'splitter': 'best'} is best for the dataset for max accuracy that is of accuracy score is:  99.8791786202712"
      ],
      "metadata": {
        "id": "w0Kq3UfsHani"
      }
    },
    {
      "cell_type": "code",
      "source": [
        "#try xgboost"
      ],
      "metadata": {
        "id": "gZvII-kQGhvw"
      },
      "execution_count": null,
      "outputs": []
    },
    {
      "cell_type": "code",
      "source": [
        "from xgboost import XGBClassifier"
      ],
      "metadata": {
        "id": "VlMg1c0C6rnN"
      },
      "execution_count": null,
      "outputs": []
    },
    {
      "cell_type": "code",
      "source": [
        "xg=XGBClassifier(base_esimator=dtc)"
      ],
      "metadata": {
        "id": "vK6L4yUu64Dd"
      },
      "execution_count": null,
      "outputs": []
    },
    {
      "cell_type": "code",
      "source": [
        "xg.fit(X_train,y_train)"
      ],
      "metadata": {
        "colab": {
          "base_uri": "https://localhost:8080/",
          "height": 118
        },
        "id": "nZSE-ACE7D8u",
        "outputId": "0247a22d-c641-450c-a36d-f226e29ba67b"
      },
      "execution_count": null,
      "outputs": [
        {
          "output_type": "execute_result",
          "data": {
            "text/plain": [
              "XGBClassifier(base_esimator=DecisionTreeClassifier(random_state=1),\n",
              "              base_score=None, booster=None, callbacks=None,\n",
              "              colsample_bylevel=None, colsample_bynode=None,\n",
              "              colsample_bytree=None, device=None, early_stopping_rounds=None,\n",
              "              enable_categorical=False, eval_metric=None, feature_types=None,\n",
              "              gamma=None, grow_policy=None, importance_type=None,\n",
              "              interaction_constraints=None, learning_rate=None, max_bin=None,\n",
              "              max_cat_threshold=None, max_cat_to_onehot=None,\n",
              "              max_delta_step=None, max_depth=None, max_leaves=None,\n",
              "              min_child_weight=None, missing=nan, monotone_constraints=None,\n",
              "              multi_strategy=None, n_estimators=None, n_jobs=None,\n",
              "              num_parallel_tree=None, ...)"
            ],
            "text/html": [
              "<style>#sk-container-id-13 {color: black;background-color: white;}#sk-container-id-13 pre{padding: 0;}#sk-container-id-13 div.sk-toggleable {background-color: white;}#sk-container-id-13 label.sk-toggleable__label {cursor: pointer;display: block;width: 100%;margin-bottom: 0;padding: 0.3em;box-sizing: border-box;text-align: center;}#sk-container-id-13 label.sk-toggleable__label-arrow:before {content: \"▸\";float: left;margin-right: 0.25em;color: #696969;}#sk-container-id-13 label.sk-toggleable__label-arrow:hover:before {color: black;}#sk-container-id-13 div.sk-estimator:hover label.sk-toggleable__label-arrow:before {color: black;}#sk-container-id-13 div.sk-toggleable__content {max-height: 0;max-width: 0;overflow: hidden;text-align: left;background-color: #f0f8ff;}#sk-container-id-13 div.sk-toggleable__content pre {margin: 0.2em;color: black;border-radius: 0.25em;background-color: #f0f8ff;}#sk-container-id-13 input.sk-toggleable__control:checked~div.sk-toggleable__content {max-height: 200px;max-width: 100%;overflow: auto;}#sk-container-id-13 input.sk-toggleable__control:checked~label.sk-toggleable__label-arrow:before {content: \"▾\";}#sk-container-id-13 div.sk-estimator input.sk-toggleable__control:checked~label.sk-toggleable__label {background-color: #d4ebff;}#sk-container-id-13 div.sk-label input.sk-toggleable__control:checked~label.sk-toggleable__label {background-color: #d4ebff;}#sk-container-id-13 input.sk-hidden--visually {border: 0;clip: rect(1px 1px 1px 1px);clip: rect(1px, 1px, 1px, 1px);height: 1px;margin: -1px;overflow: hidden;padding: 0;position: absolute;width: 1px;}#sk-container-id-13 div.sk-estimator {font-family: monospace;background-color: #f0f8ff;border: 1px dotted black;border-radius: 0.25em;box-sizing: border-box;margin-bottom: 0.5em;}#sk-container-id-13 div.sk-estimator:hover {background-color: #d4ebff;}#sk-container-id-13 div.sk-parallel-item::after {content: \"\";width: 100%;border-bottom: 1px solid gray;flex-grow: 1;}#sk-container-id-13 div.sk-label:hover label.sk-toggleable__label {background-color: #d4ebff;}#sk-container-id-13 div.sk-serial::before {content: \"\";position: absolute;border-left: 1px solid gray;box-sizing: border-box;top: 0;bottom: 0;left: 50%;z-index: 0;}#sk-container-id-13 div.sk-serial {display: flex;flex-direction: column;align-items: center;background-color: white;padding-right: 0.2em;padding-left: 0.2em;position: relative;}#sk-container-id-13 div.sk-item {position: relative;z-index: 1;}#sk-container-id-13 div.sk-parallel {display: flex;align-items: stretch;justify-content: center;background-color: white;position: relative;}#sk-container-id-13 div.sk-item::before, #sk-container-id-13 div.sk-parallel-item::before {content: \"\";position: absolute;border-left: 1px solid gray;box-sizing: border-box;top: 0;bottom: 0;left: 50%;z-index: -1;}#sk-container-id-13 div.sk-parallel-item {display: flex;flex-direction: column;z-index: 1;position: relative;background-color: white;}#sk-container-id-13 div.sk-parallel-item:first-child::after {align-self: flex-end;width: 50%;}#sk-container-id-13 div.sk-parallel-item:last-child::after {align-self: flex-start;width: 50%;}#sk-container-id-13 div.sk-parallel-item:only-child::after {width: 0;}#sk-container-id-13 div.sk-dashed-wrapped {border: 1px dashed gray;margin: 0 0.4em 0.5em 0.4em;box-sizing: border-box;padding-bottom: 0.4em;background-color: white;}#sk-container-id-13 div.sk-label label {font-family: monospace;font-weight: bold;display: inline-block;line-height: 1.2em;}#sk-container-id-13 div.sk-label-container {text-align: center;}#sk-container-id-13 div.sk-container {/* jupyter's `normalize.less` sets `[hidden] { display: none; }` but bootstrap.min.css set `[hidden] { display: none !important; }` so we also need the `!important` here to be able to override the default hidden behavior on the sphinx rendered scikit-learn.org. See: https://github.com/scikit-learn/scikit-learn/issues/21755 */display: inline-block !important;position: relative;}#sk-container-id-13 div.sk-text-repr-fallback {display: none;}</style><div id=\"sk-container-id-13\" class=\"sk-top-container\"><div class=\"sk-text-repr-fallback\"><pre>XGBClassifier(base_esimator=DecisionTreeClassifier(random_state=1),\n",
              "              base_score=None, booster=None, callbacks=None,\n",
              "              colsample_bylevel=None, colsample_bynode=None,\n",
              "              colsample_bytree=None, device=None, early_stopping_rounds=None,\n",
              "              enable_categorical=False, eval_metric=None, feature_types=None,\n",
              "              gamma=None, grow_policy=None, importance_type=None,\n",
              "              interaction_constraints=None, learning_rate=None, max_bin=None,\n",
              "              max_cat_threshold=None, max_cat_to_onehot=None,\n",
              "              max_delta_step=None, max_depth=None, max_leaves=None,\n",
              "              min_child_weight=None, missing=nan, monotone_constraints=None,\n",
              "              multi_strategy=None, n_estimators=None, n_jobs=None,\n",
              "              num_parallel_tree=None, ...)</pre><b>In a Jupyter environment, please rerun this cell to show the HTML representation or trust the notebook. <br />On GitHub, the HTML representation is unable to render, please try loading this page with nbviewer.org.</b></div><div class=\"sk-container\" hidden><div class=\"sk-item sk-dashed-wrapped\"><div class=\"sk-label-container\"><div class=\"sk-label sk-toggleable\"><input class=\"sk-toggleable__control sk-hidden--visually\" id=\"sk-estimator-id-21\" type=\"checkbox\" ><label for=\"sk-estimator-id-21\" class=\"sk-toggleable__label sk-toggleable__label-arrow\">XGBClassifier</label><div class=\"sk-toggleable__content\"><pre>XGBClassifier(base_esimator=DecisionTreeClassifier(random_state=1),\n",
              "              base_score=None, booster=None, callbacks=None,\n",
              "              colsample_bylevel=None, colsample_bynode=None,\n",
              "              colsample_bytree=None, device=None, early_stopping_rounds=None,\n",
              "              enable_categorical=False, eval_metric=None, feature_types=None,\n",
              "              gamma=None, grow_policy=None, importance_type=None,\n",
              "              interaction_constraints=None, learning_rate=None, max_bin=None,\n",
              "              max_cat_threshold=None, max_cat_to_onehot=None,\n",
              "              max_delta_step=None, max_depth=None, max_leaves=None,\n",
              "              min_child_weight=None, missing=nan, monotone_constraints=None,\n",
              "              multi_strategy=None, n_estimators=None, n_jobs=None,\n",
              "              num_parallel_tree=None, ...)</pre></div></div></div><div class=\"sk-parallel\"><div class=\"sk-parallel-item\"><div class=\"sk-item\"><div class=\"sk-label-container\"><div class=\"sk-label sk-toggleable\"><input class=\"sk-toggleable__control sk-hidden--visually\" id=\"sk-estimator-id-22\" type=\"checkbox\" ><label for=\"sk-estimator-id-22\" class=\"sk-toggleable__label sk-toggleable__label-arrow\">base_esimator: DecisionTreeClassifier</label><div class=\"sk-toggleable__content\"><pre>DecisionTreeClassifier(random_state=1)</pre></div></div></div><div class=\"sk-serial\"><div class=\"sk-item\"><div class=\"sk-estimator sk-toggleable\"><input class=\"sk-toggleable__control sk-hidden--visually\" id=\"sk-estimator-id-23\" type=\"checkbox\" ><label for=\"sk-estimator-id-23\" class=\"sk-toggleable__label sk-toggleable__label-arrow\">DecisionTreeClassifier</label><div class=\"sk-toggleable__content\"><pre>DecisionTreeClassifier(random_state=1)</pre></div></div></div></div></div></div></div></div></div></div>"
            ]
          },
          "metadata": {},
          "execution_count": 323
        }
      ]
    },
    {
      "cell_type": "code",
      "source": [
        "xg.score(X_train,y_train)"
      ],
      "metadata": {
        "colab": {
          "base_uri": "https://localhost:8080/"
        },
        "id": "w_twVNWR7KQO",
        "outputId": "bde542ff-4c05-44d0-e173-b8ccb2cc99b9"
      },
      "execution_count": null,
      "outputs": [
        {
          "output_type": "execute_result",
          "data": {
            "text/plain": [
              "0.9999640105532132"
            ]
          },
          "metadata": {},
          "execution_count": 324
        }
      ]
    },
    {
      "cell_type": "code",
      "source": [
        "xg.score(X_test,y_test)"
      ],
      "metadata": {
        "colab": {
          "base_uri": "https://localhost:8080/"
        },
        "id": "k6URbec37QMb",
        "outputId": "f7972425-f530-4948-dbf2-b8c57e666bbd"
      },
      "execution_count": null,
      "outputs": [
        {
          "output_type": "execute_result",
          "data": {
            "text/plain": [
              "0.9991002663211689"
            ]
          },
          "metadata": {},
          "execution_count": 325
        }
      ]
    },
    {
      "cell_type": "code",
      "source": [
        "y_pred = xg.predict(X_test)"
      ],
      "metadata": {
        "id": "62UUXsnZSXie"
      },
      "execution_count": null,
      "outputs": []
    },
    {
      "cell_type": "code",
      "source": [
        "# evaluate predictions\n",
        "accuracy = accuracy_score(y_test, y_pred)\n",
        "print(\"Accuracy: %.2f%%\" % (accuracy * 100.0))"
      ],
      "metadata": {
        "colab": {
          "base_uri": "https://localhost:8080/"
        },
        "id": "SYOyPDT6SYSb",
        "outputId": "c9032776-1288-4d96-dae6-751d761f0c17"
      },
      "execution_count": null,
      "outputs": [
        {
          "output_type": "stream",
          "name": "stdout",
          "text": [
            "Accuracy: 99.91%\n"
          ]
        }
      ]
    },
    {
      "cell_type": "code",
      "source": [],
      "metadata": {
        "id": "kb9T9O7KTr5b"
      },
      "execution_count": null,
      "outputs": []
    }
  ]
}